{
 "cells": [
  {
   "cell_type": "code",
   "execution_count": 1,
   "metadata": {
    "collapsed": true
   },
   "outputs": [],
   "source": [
    "import csv\n",
    "import pandas as pd\n",
    "from sklearn.ensemble import RandomForestClassifier, ExtraTreesClassifier, GradientBoostingClassifier\n",
    "from sklearn.preprocessing import StandardScaler\n",
    "from sklearn.linear_model import LogisticRegression\n",
    "from sklearn.pipeline import Pipeline,FeatureUnion\n",
    "from sklearn.preprocessing import LabelEncoder, Imputer\n",
    "from sklearn.metrics import auc, roc_auc_score\n",
    "from sklearn.model_selection import train_test_split\n",
    "from sklearn.model_selection import RandomizedSearchCV\n",
    "from sklearn.linear_model import LogisticRegression\n",
    "from scipy.stats import randint as sp_randint\n",
    "from sklearn.feature_selection import SelectFromModel\n",
    "from sklearn.decomposition import PCA\n",
    "import numpy as np\n",
    "\n",
    "\n",
    "import warnings\n",
    "warnings.filterwarnings(\"ignore\", category=DeprecationWarning)\n",
    "\n",
    "import os\n",
    "os.chdir(\"/home/thibault/Documents/oilprediction_challenge/Code/functions\")\n",
    "import skmice\n",
    "import functions as fn\n",
    "\n",
    "import matplotlib.pyplot as plt\n",
    "%matplotlib inline\n",
    "\n",
    "pd.set_option(\"display.max_columns\", 200)\n",
    "\n",
    "PATH = \"/home/thibault/Documents/oilprediction_challenge/\"\n",
    "PATH_DATA = PATH + \"Data/\"\n",
    "PATH_RESULT = PATH + \"Result/\""
   ]
  },
  {
   "cell_type": "markdown",
   "metadata": {},
   "source": [
    "# 1 - LOAD DATA"
   ]
  },
  {
   "cell_type": "code",
   "execution_count": 2,
   "metadata": {
    "collapsed": true
   },
   "outputs": [],
   "source": [
    "Y = pd.read_csv(PATH_DATA + \"Y_train.csv\", sep=\";\")\n",
    "X = pd.read_csv(PATH_DATA + \"Train.csv\", sep=\";\")\n",
    "final_test = pd.read_csv(PATH_DATA + \"Test.csv\", sep=\";\")\n",
    "\n",
    "X_full = pd.concat([X, final_test])"
   ]
  },
  {
   "cell_type": "markdown",
   "metadata": {},
   "source": [
    "# 2 - Data transformation"
   ]
  },
  {
   "cell_type": "markdown",
   "metadata": {},
   "source": [
    "###### Missing value"
   ]
  },
  {
   "cell_type": "code",
   "execution_count": 3,
   "metadata": {
    "collapsed": true
   },
   "outputs": [],
   "source": [
    "n_0_in_lines = X.apply(lambda x: pd.isnull(x).sum(), axis=1)\n",
    "\n",
    "# Keep only line with less than n missing value\n",
    "X = X.loc[n_0_in_lines <= 20, :]\n",
    "Y = Y.loc[n_0_in_lines <= 20, :]\n",
    "\n",
    "X_full = pd.concat([X, final_test])"
   ]
  },
  {
   "cell_type": "markdown",
   "metadata": {},
   "source": [
    "###### Outliers"
   ]
  },
  {
   "cell_type": "markdown",
   "metadata": {},
   "source": [
    "No need for outliers handling using random Forest but we looked at it anyways."
   ]
  },
  {
   "cell_type": "markdown",
   "metadata": {},
   "source": [
    "# Create Variable"
   ]
  },
  {
   "cell_type": "markdown",
   "metadata": {},
   "source": [
    "We Create binary varialbe => note realli working"
   ]
  },
  {
   "cell_type": "code",
   "execution_count": 4,
   "metadata": {
    "collapsed": true
   },
   "outputs": [],
   "source": [
    "column_to_transform = list(X_full.columns[3:])"
   ]
  },
  {
   "cell_type": "markdown",
   "metadata": {},
   "source": [
    "###### Variation in country vs variation in all countries"
   ]
  },
  {
   "cell_type": "code",
   "execution_count": 5,
   "metadata": {
    "collapsed": true
   },
   "outputs": [],
   "source": [
    "column_to_transform_without_sum = [x for x in column_to_transform if ((\"Sum\" not in x) and (\"WTI\" not in x))]\n",
    "\n",
    "for var in column_to_transform_without_sum:\n",
    "    X_full.loc[:, var + \"_diff_with_global\"] =\\\n",
    "        X_full.loc[:, var] / X_full.loc[:, var.split(\"diff\")[0] + \"diffSum\" + var.split(\"diff\")[1]]\n",
    "    "
   ]
  },
  {
   "cell_type": "markdown",
   "metadata": {},
   "source": [
    "###### If positiv"
   ]
  },
  {
   "cell_type": "code",
   "execution_count": 6,
   "metadata": {
    "collapsed": true
   },
   "outputs": [],
   "source": [
    "for var in column_to_transform:\n",
    "    X_full.loc[:, \"binary_if_positive_\" + var] =\\\n",
    "        X_full.loc[:, var].map(lambda x: fn.binary_if_positive(x))"
   ]
  },
  {
   "cell_type": "markdown",
   "metadata": {},
   "source": [
    "###### Create is 0"
   ]
  },
  {
   "cell_type": "code",
   "execution_count": 7,
   "metadata": {
    "collapsed": true
   },
   "outputs": [],
   "source": [
    "# Get columns with lot of 0\n",
    "columns_with_0 =\\\n",
    "    [ x for x in column_to_transform if (\"_diffClosing stocks(kmt)\" in x or \"_diffExports(kmt)\" in x\n",
    "                                        or \"_diffImports(kmt)\" in x or \"_diffRefinery intake(kmt\" in x) ]\n",
    "\n",
    "for var in columns_with_0:\n",
    "    X_full.loc[:, \"binary_if_0_\" + var] =\\\n",
    "        X_full.loc[:, var].map(lambda x: fn.binary_if_0(x))\n",
    "        \n",
    "binary_0_columns =\\\n",
    "    pd.Series(X_full.columns ).loc[pd.Series(X_full.columns ).map(lambda x: \"binary_if_0_\" in x)]"
   ]
  },
  {
   "cell_type": "markdown",
   "metadata": {},
   "source": [
    "###### Percent of 0 by columns, country and month"
   ]
  },
  {
   "cell_type": "code",
   "execution_count": 8,
   "metadata": {
    "collapsed": true
   },
   "outputs": [],
   "source": [
    "for var in columns_with_0:\n",
    "    if var == columns_with_0[0]:\n",
    "        grouped_0_values =\\\n",
    "            X_full.loc[:, [var] + [\"country\", \"month\"]].groupby([\"country\", \"month\"])[var].\\\n",
    "                apply(lambda x: (x ==0).mean()).reset_index()\n",
    "    else:\n",
    "        temp_grouped_0_values =\\\n",
    "            X_full.loc[:, [var] + [\"country\", \"month\"]].groupby([\"country\", \"month\"])[var].\\\n",
    "                apply(lambda x: (x ==0).mean()).reset_index()\n",
    "        grouped_0_values = grouped_0_values.merge(temp_grouped_0_values, how=\"left\",\n",
    "                                                 on=[\"country\", \"month\"])\n",
    "        \n",
    "grouped_0_values.columns = list(grouped_0_values.columns[:2]) +\\\n",
    "                               [\"percent_0_\" + x for x in list(grouped_0_values.columns[2:])]\n",
    "    \n",
    "X_full = X_full.merge(grouped_0_values, how=\"left\", on=[\"country\", \"month\"])"
   ]
  },
  {
   "cell_type": "markdown",
   "metadata": {},
   "source": [
    "###### Binary if 0"
   ]
  },
  {
   "cell_type": "code",
   "execution_count": 9,
   "metadata": {
    "collapsed": true
   },
   "outputs": [],
   "source": [
    "for var in column_to_transform:\n",
    "    X_full.loc[:, \"binary_if_null_\" + var] =\\\n",
    "        X_full.loc[:, var].map(lambda x: fn.binary_if_null(x))"
   ]
  },
  {
   "cell_type": "markdown",
   "metadata": {},
   "source": [
    "###### Aggregate by month and country"
   ]
  },
  {
   "cell_type": "code",
   "execution_count": 10,
   "metadata": {},
   "outputs": [
    {
     "name": "stderr",
     "output_type": "stream",
     "text": [
      "/home/thibault/anaconda3/lib/python3.6/site-packages/pandas/core/groupby.py:842: RuntimeWarning: Mean of empty slice\n",
      "  f = lambda x: func(x, *args, **kwargs)\n",
      "/home/thibault/anaconda3/lib/python3.6/site-packages/numpy/lib/nanfunctions.py:1423: RuntimeWarning: Degrees of freedom <= 0 for slice.\n",
      "  keepdims=keepdims)\n",
      "/home/thibault/anaconda3/lib/python3.6/site-packages/numpy/lib/function_base.py:3858: RuntimeWarning: All-NaN slice encountered\n",
      "  r = func(a, **kwargs)\n"
     ]
    }
   ],
   "source": [
    "grouped_values =\\\n",
    "    X_full.loc[:, column_to_transform + [\"country\", \"month\"]].replace(0, np.nan).groupby([\"country\", \"month\"]).\\\n",
    "        agg([np.nansum, np.nanmean, np.nanstd, np.min, \n",
    "             np.max, np.nanmedian, fn.percentile(75),\n",
    "             fn.percentile(25), fn.percentile(10), fn.percentile(90),\n",
    "             fn.percentile(5), fn.percentile(95)]).reset_index()\n",
    "    \n",
    "grouped_values.columns = [' '.join(col).strip() for col in grouped_values.columns.values]\n",
    "\n",
    "X_full = X_full.merge(grouped_values, how=\"left\", on=[\"country\", \"month\"])"
   ]
  },
  {
   "cell_type": "markdown",
   "metadata": {},
   "source": [
    "###### Aggregate by country"
   ]
  },
  {
   "cell_type": "code",
   "execution_count": 11,
   "metadata": {},
   "outputs": [
    {
     "name": "stderr",
     "output_type": "stream",
     "text": [
      "/home/thibault/anaconda3/lib/python3.6/site-packages/pandas/core/groupby.py:842: RuntimeWarning: Mean of empty slice\n",
      "  f = lambda x: func(x, *args, **kwargs)\n",
      "/home/thibault/anaconda3/lib/python3.6/site-packages/numpy/lib/nanfunctions.py:1423: RuntimeWarning: Degrees of freedom <= 0 for slice.\n",
      "  keepdims=keepdims)\n",
      "/home/thibault/anaconda3/lib/python3.6/site-packages/numpy/lib/function_base.py:3858: RuntimeWarning: All-NaN slice encountered\n",
      "  r = func(a, **kwargs)\n"
     ]
    }
   ],
   "source": [
    "grouped_values =\\\n",
    "    X_full.loc[:, column_to_transform + [\"country\"]].replace(0, np.nan).groupby([\"country\"]).\\\n",
    "        agg([np.nansum, np.nanmean, np.nanstd, np.min, \n",
    "             np.max, np.nanmedian, fn.percentile(75),\n",
    "             fn.percentile(25), fn.percentile(10), fn.percentile(90),\n",
    "             fn.percentile(5), fn.percentile(95)]).reset_index()\n",
    "    \n",
    "grouped_values.columns = [fn.new_name_if_not_id(' '.join(col).strip(), \"_country_\", \"country\") \n",
    "                          for col in grouped_values.columns.values]\n",
    "\n",
    "X_full = X_full.merge(grouped_values, how=\"left\", on=\"country\")"
   ]
  },
  {
   "cell_type": "markdown",
   "metadata": {},
   "source": [
    "###### Diff between export and import"
   ]
  },
  {
   "cell_type": "markdown",
   "metadata": {},
   "source": [
    "Variation of commercial balance for oil"
   ]
  },
  {
   "cell_type": "code",
   "execution_count": 12,
   "metadata": {
    "collapsed": true
   },
   "outputs": [],
   "source": [
    "column_import =\\\n",
    "    [ x for x in column_to_transform if (\"_diffImports(kmt)\" in x) ]\n",
    "    \n",
    "column_export =\\\n",
    "    [ x for x in column_to_transform if (\"_diffExports(kmt)\" in x) ]\n",
    "    \n",
    "columns_import_export = [(a,b) for a,b in zip(column_import, column_export)]\n",
    "\n",
    "for (a, b) in columns_import_export:\n",
    "    X_full.loc[:, a + b] = X_full.loc[:, a] - X_full.loc[:, b]"
   ]
  },
  {
   "cell_type": "markdown",
   "metadata": {},
   "source": [
    "###### Diff_import_export + closing stock"
   ]
  },
  {
   "cell_type": "markdown",
   "metadata": {},
   "source": [
    "Variation of commercial balance + variation of stock"
   ]
  },
  {
   "cell_type": "code",
   "execution_count": 13,
   "metadata": {
    "collapsed": true
   },
   "outputs": [],
   "source": [
    "columns_closing_stocks =\\\n",
    "    [ x for x in column_to_transform if (\"_diffClosing stocks(kmt)\" in x) ]\n",
    "    \n",
    "columns_import_export_closing_stock = [(a, b, c) for (a, b, c) in zip(column_import, column_export, columns_closing_stocks)]\n"
   ]
  },
  {
   "cell_type": "code",
   "execution_count": 14,
   "metadata": {
    "collapsed": true
   },
   "outputs": [],
   "source": [
    "for (a, b, c) in columns_import_export_closing_stock:\n",
    "    X_full.loc[:, a + b + c] = X_full.loc[:, c] + (X_full.loc[:, a] - X_full.loc[:, b])"
   ]
  },
  {
   "cell_type": "markdown",
   "metadata": {},
   "source": [
    "###### Countries with no variation in import and export"
   ]
  },
  {
   "cell_type": "code",
   "execution_count": 15,
   "metadata": {
    "collapsed": true
   },
   "outputs": [],
   "source": [
    "countries_with_no_variation_in_import =\\\n",
    "    X_full.loc[:, [\"1_diffImports(kmt)\", \"country\"]].groupby(\"country\")[\"1_diffImports(kmt)\"].\\\n",
    "        apply(lambda x: (x == 0).mean()).reset_index()"
   ]
  },
  {
   "cell_type": "code",
   "execution_count": 16,
   "metadata": {
    "collapsed": true
   },
   "outputs": [],
   "source": [
    "countries_with_no_variation_in_export =\\\n",
    "    X_full.loc[:, [\"1_diffExports(kmt)\", \"country\"]].groupby(\"country\")[\"1_diffExports(kmt)\"].\\\n",
    "        apply(lambda x: (x == 0).mean()).reset_index()"
   ]
  },
  {
   "cell_type": "code",
   "execution_count": 17,
   "metadata": {
    "collapsed": true
   },
   "outputs": [],
   "source": [
    "countries_with_no_variation_in_import_export =\\\n",
    "    countries_with_no_variation_in_import.merge(countries_with_no_variation_in_export, how=\"left\",\n",
    "                                               on=\"country\")\n",
    "    \n",
    "countries_with_no_variation_in_import_export.loc[:, \"no_import_variation\"] =\\\n",
    "    countries_with_no_variation_in_import.loc[:, \"1_diffImports(kmt)\"] == 1\n",
    "\n",
    "countries_with_no_variation_in_import_export.loc[:, \"no_export_variation\"] =\\\n",
    "    countries_with_no_variation_in_export.loc[:, \"1_diffExports(kmt)\"] == 1\n",
    "    \n",
    "countries_with_no_variation_in_import_export.loc[:, \"no_export_nor_import_variation\"] =\\\n",
    "    countries_with_no_variation_in_import_export.no_import_variation &\\\n",
    "    countries_with_no_variation_in_import_export.no_export_variation\n",
    "    \n",
    "X_full =\\\n",
    "    X_full.merge(countries_with_no_variation_in_import_export, how=\"left\",\n",
    "                on=\"country\")"
   ]
  },
  {
   "cell_type": "markdown",
   "metadata": {},
   "source": [
    "###### Compute relative value by countries"
   ]
  },
  {
   "cell_type": "code",
   "execution_count": 18,
   "metadata": {
    "collapsed": true
   },
   "outputs": [],
   "source": [
    "# Columns prefix to delete month in column name\n",
    "col_names_without_month = set([x.split(\"_\")[1] for x in column_to_transform])\n",
    "\n",
    "# By countries\n",
    "relative_value = pd.DataFrame()\n",
    "for var in list(col_names_without_month):\n",
    "    relative_value_by_countries = pd.DataFrame()\n",
    "    for localisation in set(X_full.country):\n",
    "        all_months_columns = [str(j) + \"_\" + var for j in range(1, 13)]\n",
    "        median_value = fn.data_frame_as_Series(X_full.loc[X_full.country == localisation, all_months_columns]).\\\n",
    "            dropna().sum()\n",
    "        relative_value_by_countries_columns =\\\n",
    "            X_full.loc[X_full.country == localisation, all_months_columns] / median_value\n",
    "        # replace inf\n",
    "        relative_value_by_countries_columns =\\\n",
    "            relative_value_by_countries_columns.replace([np.inf, -np.inf], np.nan)\n",
    "        relative_value_by_countries_columns.loc[:, \"ID\"] = X_full.loc[X_full.country == localisation, \"ID\"]\n",
    "        if relative_value_by_countries.empty:\n",
    "            relative_value_by_countries = relative_value_by_countries_columns\n",
    "        else:\n",
    "            relative_value_by_countries = pd.concat([relative_value_by_countries, \n",
    "                                                     relative_value_by_countries_columns],\n",
    "                                                   axis=0)\n",
    "    if relative_value.empty:\n",
    "        relative_value = relative_value_by_countries\n",
    "    else:\n",
    "        relative_value = relative_value.merge(relative_value_by_countries, on=\"ID\", how=\"left\")\n"
   ]
  },
  {
   "cell_type": "code",
   "execution_count": 19,
   "metadata": {
    "collapsed": true
   },
   "outputs": [],
   "source": [
    "relative_value.columns = [fn.new_name_if_not_id(x, \"relative_by_countries_\") \n",
    "                          for x in list(relative_value.columns)]"
   ]
  },
  {
   "cell_type": "code",
   "execution_count": 20,
   "metadata": {
    "collapsed": true
   },
   "outputs": [],
   "source": [
    "X_full = X_full.merge(relative_value, how=\"left\", on=\"ID\")"
   ]
  },
  {
   "cell_type": "markdown",
   "metadata": {},
   "source": [
    "###### Compute relative values by countries and month"
   ]
  },
  {
   "cell_type": "code",
   "execution_count": 21,
   "metadata": {
    "collapsed": true
   },
   "outputs": [],
   "source": [
    "# By countries\n",
    "relative_value = pd.DataFrame()\n",
    "for var in list(col_names_without_month):\n",
    "    relative_value_by_countries = pd.DataFrame()\n",
    "    for localisation in set(X_full.country):\n",
    "        for month in set(X_full.month):\n",
    "            all_months_columns = [str(j) + \"_\" + var for j in range(1, 13)]\n",
    "            median_value = fn.data_frame_as_Series(X_full.loc[(X_full.country == localisation) &\n",
    "                                                   (X_full.month == month), all_months_columns]).\\\n",
    "                dropna().sum()\n",
    "            relative_value_by_countries_columns =\\\n",
    "                X_full.loc[(X_full.country == localisation) &\n",
    "                           (X_full.month == month), all_months_columns] / median_value\n",
    "            # replace inf\n",
    "            relative_value_by_countries_columns =\\\n",
    "                relative_value_by_countries_columns.replace([np.inf, -np.inf], np.nan)\n",
    "            relative_value_by_countries_columns.loc[:, \"ID\"] = X_full.loc[(X_full.country == localisation) &\n",
    "                                                                          (X_full.month == month), \"ID\"]\n",
    "            if relative_value_by_countries.empty:\n",
    "                relative_value_by_countries = relative_value_by_countries_columns\n",
    "            else:\n",
    "                relative_value_by_countries = pd.concat([relative_value_by_countries, \n",
    "                                                         relative_value_by_countries_columns],\n",
    "                                                       axis=0)\n",
    "    if relative_value.empty:\n",
    "        relative_value = relative_value_by_countries\n",
    "    else:\n",
    "        relative_value = relative_value.merge(relative_value_by_countries, on=\"ID\", how=\"left\")"
   ]
  },
  {
   "cell_type": "code",
   "execution_count": 22,
   "metadata": {},
   "outputs": [],
   "source": [
    "relative_value.columns = [fn.new_name_if_not_id(x, \"relative_by_countries_month_\") \n",
    "                          for x in list(relative_value.columns)]"
   ]
  },
  {
   "cell_type": "code",
   "execution_count": 23,
   "metadata": {
    "collapsed": true
   },
   "outputs": [],
   "source": [
    "X_full = X_full.merge(relative_value, how=\"left\", on=\"ID\")"
   ]
  },
  {
   "cell_type": "markdown",
   "metadata": {},
   "source": [
    "# Split again between test and validation"
   ]
  },
  {
   "cell_type": "markdown",
   "metadata": {},
   "source": [
    "###### Transform month and country to categorical variable"
   ]
  },
  {
   "cell_type": "code",
   "execution_count": 24,
   "metadata": {
    "collapsed": true
   },
   "outputs": [],
   "source": [
    "# We put only country as categorical because month seems to have higher impact as numeric\n",
    "X_full = pd.get_dummies(X_full, columns=[\"country\"], drop_first=True)"
   ]
  },
  {
   "cell_type": "markdown",
   "metadata": {},
   "source": [
    "###### Split dataset"
   ]
  },
  {
   "cell_type": "code",
   "execution_count": 25,
   "metadata": {
    "collapsed": true
   },
   "outputs": [],
   "source": [
    "X = X_full.loc[X_full.ID.map(lambda x: x in list(X.ID)), :]\n",
    "final_test = X_full.loc[X_full.ID.map(lambda x: x in list(final_test.ID)), :]\n",
    "\n",
    "X_train, X_test, y_train, y_test =\\\n",
    "    train_test_split(X, Y, test_size=0.33, random_state=42)"
   ]
  },
  {
   "cell_type": "markdown",
   "metadata": {},
   "source": [
    "# 3 - Model"
   ]
  },
  {
   "cell_type": "markdown",
   "metadata": {},
   "source": [
    "# Fast model for feature enginerring"
   ]
  },
  {
   "cell_type": "code",
   "execution_count": 26,
   "metadata": {
    "collapsed": true
   },
   "outputs": [],
   "source": [
    "n_iter_search = 12"
   ]
  },
  {
   "cell_type": "markdown",
   "metadata": {},
   "source": [
    "###### Random Forest"
   ]
  },
  {
   "cell_type": "code",
   "execution_count": 27,
   "metadata": {},
   "outputs": [
    {
     "name": "stdout",
     "output_type": "stream",
     "text": [
      "0.833522604821\n",
      "{'rf__max_features': 71, 'rf__min_samples_leaf': 17, 'rf__min_samples_split': 7, 'rf__n_estimators': 345}\n"
     ]
    }
   ],
   "source": [
    "param_dist = {\n",
    "              \"rf__max_features\": sp_randint(1, 150),\n",
    "              \"rf__min_samples_split\": sp_randint(2, 30),\n",
    "              \"rf__min_samples_leaf\": sp_randint(1, 20),\n",
    "              # \"rf__bootstrap\": [False],\n",
    "              # \"pca__n_components\": sp_randint(10, 300),\n",
    "              # \"pca__whiten\": [True, False],\n",
    "              # \"select_from_model__threshold\":sp_randint(0, 0.01),\n",
    "              \"rf__n_estimators\": sp_randint(20, 500)\n",
    "             }\n",
    "\n",
    "pipe = Pipeline([# (\"replace_0\", Replace0()),\n",
    "                 (\"imputer\", Imputer()),\n",
    "                 (\"sd_scaler\", StandardScaler()),\n",
    "                 # (\"pca\", PCA(n_components=150, whiten=True)),\n",
    "                 (\"rf\", RandomForestClassifier())\n",
    "                 # (\"rf\", LogisticRegression(penalty=\"l1\"))\n",
    "                ])\n",
    "\n",
    "\n",
    "random_search = RandomizedSearchCV(pipe, param_distributions=param_dist,\n",
    "                                   n_iter=n_iter_search, n_jobs=4, scoring=\"roc_auc\")\n",
    "\n",
    "random_search.fit(X_train.drop(\"ID\", axis=1), y_train.Target)\n",
    "\n",
    "print(random_search.best_score_)\n",
    "\n",
    "rf_estimator = random_search.best_estimator_\n",
    "\n",
    "print(random_search.best_params_)"
   ]
  },
  {
   "cell_type": "markdown",
   "metadata": {},
   "source": [
    "###### Gradient boosting"
   ]
  },
  {
   "cell_type": "code",
   "execution_count": 28,
   "metadata": {},
   "outputs": [
    {
     "name": "stdout",
     "output_type": "stream",
     "text": [
      "0.827095844925\n",
      "{'gb__max_features': 30, 'gb__min_samples_leaf': 7, 'gb__min_samples_split': 13, 'gb__n_estimators': 128}\n"
     ]
    }
   ],
   "source": [
    "param_dist = {\n",
    "              \"gb__max_features\": sp_randint(1, 100),\n",
    "              \"gb__min_samples_split\": sp_randint(2, 30),\n",
    "              \"gb__min_samples_leaf\": sp_randint(1, 20),\n",
    "              # \"rf__bootstrap\": [False],\n",
    "              # \"pca__n_components\": sp_randint(10, 300),\n",
    "              # \"pca__whiten\": [True, False],\n",
    "              # \"select_from_model__threshold\":sp_randint(0, 0.01),\n",
    "              \"gb__n_estimators\": sp_randint(20, 400)\n",
    "             }\n",
    "\n",
    "pipe = Pipeline([# (\"replace_0\", Replace0()),\n",
    "                 (\"imputer\", Imputer()),\n",
    "                 (\"sd_scaler\", StandardScaler()),\n",
    "                 # (\"pca\", PCA(n_components=150, whiten=True)),\n",
    "                 (\"gb\", GradientBoostingClassifier())\n",
    "                 # (\"rf\", LogisticRegression(penalty=\"l1\"))\n",
    "                ])\n",
    "\n",
    "\n",
    "random_search = RandomizedSearchCV(pipe, param_distributions=param_dist,\n",
    "                                   n_iter=n_iter_search, n_jobs=4, scoring=\"roc_auc\")\n",
    "\n",
    "random_search.fit(X_train.drop(\"ID\", axis=1), y_train.Target)\n",
    "\n",
    "print(random_search.best_score_)\n",
    "\n",
    "gb_estimator = random_search.best_estimator_\n",
    "\n",
    "print(random_search.best_params_)"
   ]
  },
  {
   "cell_type": "markdown",
   "metadata": {},
   "source": [
    "###### Extra tree"
   ]
  },
  {
   "cell_type": "code",
   "execution_count": 30,
   "metadata": {},
   "outputs": [
    {
     "name": "stdout",
     "output_type": "stream",
     "text": [
      "0.83270537627\n",
      "{'et__max_features': 65, 'et__min_samples_leaf': 10, 'et__min_samples_split': 12, 'et__n_estimators': 309}\n"
     ]
    }
   ],
   "source": [
    "param_dist = {\n",
    "              \"et__max_features\": sp_randint(1, 100),\n",
    "              \"et__min_samples_split\": sp_randint(2, 30),\n",
    "              \"et__min_samples_leaf\": sp_randint(1, 20),\n",
    "              # \"rf__bootstrap\": [False],\n",
    "              # \"pca__n_components\": sp_randint(10, 300),\n",
    "              # \"pca__whiten\": [True, False],\n",
    "              # \"select_from_model__threshold\":sp_randint(0, 0.01),\n",
    "              \"et__n_estimators\": sp_randint(20, 400)\n",
    "             }\n",
    "\n",
    "pipe = Pipeline([# (\"replace_0\", Replace0()),\n",
    "                 (\"imputer\", Imputer()),\n",
    "                 (\"sd_scaler\", StandardScaler()),\n",
    "                 # (\"pca\", PCA(n_components=150, whiten=True)),\n",
    "                 (\"et\", ExtraTreesClassifier())\n",
    "                 # (\"rf\", LogisticRegression(penalty=\"l1\"))\n",
    "                ])\n",
    "\n",
    "\n",
    "random_search = RandomizedSearchCV(pipe, param_distributions=param_dist,\n",
    "                                   n_iter=n_iter_search, n_jobs=4, scoring=\"roc_auc\")\n",
    "\n",
    "random_search.fit(X_train.drop(\"ID\", axis=1), y_train.Target)\n",
    "\n",
    "print(random_search.best_score_)\n",
    "\n",
    "et_estimator = random_search.best_estimator_\n",
    "\n",
    "print(random_search.best_params_)"
   ]
  },
  {
   "cell_type": "markdown",
   "metadata": {},
   "source": [
    "###### New model with feature from previous model"
   ]
  },
  {
   "cell_type": "code",
   "execution_count": 31,
   "metadata": {
    "collapsed": true
   },
   "outputs": [],
   "source": [
    "rf_proba_predictions = rf_estimator.predict_proba(X_full.drop([\"ID\"], axis=1))[:, 1]\n",
    "gb_proba_predictions = gb_estimator.predict_proba(X_full.drop([\"ID\"], axis=1))[:, 1]\n",
    "et_proba_predictions = et_estimator.predict_proba(X_full.drop([\"ID\"], axis=1))[:, 1]\n",
    "\n",
    "\n",
    "X_full.loc[:, \"prediction_rf\"] = rf_proba_predictions\n",
    "X_full.loc[:, \"prediction_gb\"] = gb_proba_predictions\n",
    "X_full.loc[:, \"prediction_et\"] = gb_proba_predictions\n",
    "\n",
    "X = X_full.loc[X_full.ID.map(lambda x: x in list(X.ID)), :]\n",
    "final_test = X_full.loc[X_full.ID.map(lambda x: x in list(final_test.ID)), :]\n",
    "\n",
    "X_train, X_test, y_train, y_test =\\\n",
    "    train_test_split(X, Y, test_size=0.33, random_state=42)"
   ]
  },
  {
   "cell_type": "code",
   "execution_count": 33,
   "metadata": {},
   "outputs": [
    {
     "name": "stdout",
     "output_type": "stream",
     "text": [
      "0.879991013008\n",
      "{'pca__n_components': 292}\n"
     ]
    }
   ],
   "source": [
    "param_dist = {\n",
    "              # \"lr__max_features\": sp_randint(1, 100),\n",
    "              # \"lr__min_samples_split\": sp_randint(2, 30),\n",
    "              # \"lr__min_samples_leaf\": sp_randint(1, 20),\n",
    "              # \"rf__bootstrap\": [False],\n",
    "              \"pca__n_components\": sp_randint(10, 300),\n",
    "              # \"pca__whiten\": [True, False],\n",
    "              # \"select_from_model__threshold\":sp_randint(0, 0.01),\n",
    "              # \"lr__n_estimators\": sp_randint(20, 400)\n",
    "             }\n",
    "\n",
    "pipe = Pipeline([# (\"replace_0\", Replace0()),\n",
    "                 (\"imputer\", Imputer()),\n",
    "                 (\"sd_scaler\", StandardScaler()),\n",
    "                 (\"pca\", PCA(n_components=150, whiten=True)),\n",
    "                 (\"lr\", LogisticRegression(\"l1\"))\n",
    "                 # (\"rf\", LogisticRegression(penalty=\"l1\"))\n",
    "                ])\n",
    "\n",
    "random_search = RandomizedSearchCV(pipe, param_distributions=param_dist,\n",
    "                                   n_iter=n_iter_search, n_jobs=4, scoring=\"roc_auc\")\n",
    "\n",
    "random_search.fit(X_train.drop(\"ID\", axis=1), y_train.Target)\n",
    "\n",
    "print(random_search.best_score_)\n",
    "\n",
    "lr_estimator = random_search.best_estimator_\n",
    "\n",
    "print(random_search.best_params_)"
   ]
  },
  {
   "cell_type": "markdown",
   "metadata": {},
   "source": [
    "# 4 - EVALUATION"
   ]
  },
  {
   "cell_type": "markdown",
   "metadata": {},
   "source": [
    "### A) Random Forest"
   ]
  },
  {
   "cell_type": "markdown",
   "metadata": {},
   "source": [
    "###### Train set"
   ]
  },
  {
   "cell_type": "code",
   "execution_count": 34,
   "metadata": {},
   "outputs": [
    {
     "data": {
      "text/plain": [
       "0.92285970522176897"
      ]
     },
     "execution_count": 34,
     "metadata": {},
     "output_type": "execute_result"
    }
   ],
   "source": [
    "y_train_predit = rf_estimator.predict_proba(X_train.drop([\"ID\", \"prediction_rf\", \n",
    "                                                          \"prediction_gb\", \"prediction_et\"], axis=1))[:, 1]\n",
    "\n",
    "result_comparison = pd.DataFrame(y_train).merge(pd.DataFrame(y_train_predit), left_index=True, right_index=True)\n",
    "result_comparison.sample(10)\n",
    "\n",
    "roc_auc_score(y_train.Target, y_train_predit)"
   ]
  },
  {
   "cell_type": "markdown",
   "metadata": {},
   "source": [
    "###### Test set"
   ]
  },
  {
   "cell_type": "code",
   "execution_count": 35,
   "metadata": {
    "scrolled": true
   },
   "outputs": [
    {
     "data": {
      "text/plain": [
       "0.82513436304653076"
      ]
     },
     "execution_count": 35,
     "metadata": {},
     "output_type": "execute_result"
    }
   ],
   "source": [
    "y_test_predit = rf_estimator.predict_proba(X_test.drop([\"ID\", \"prediction_rf\", \n",
    "                                                        \"prediction_gb\", \"prediction_et\"], axis=1))[:, 1]\n",
    "\n",
    "result_comparison = pd.DataFrame(y_test).merge(pd.DataFrame(y_test_predit), left_index=True, right_index=True)\n",
    "result_comparison.sample(10)\n",
    "\n",
    "roc_auc_score(y_test.Target, y_test_predit)"
   ]
  },
  {
   "cell_type": "markdown",
   "metadata": {},
   "source": [
    "### B) Gradient boosting"
   ]
  },
  {
   "cell_type": "markdown",
   "metadata": {},
   "source": [
    "###### Test set"
   ]
  },
  {
   "cell_type": "code",
   "execution_count": 36,
   "metadata": {},
   "outputs": [
    {
     "data": {
      "text/plain": [
       "0.82481963879339548"
      ]
     },
     "execution_count": 36,
     "metadata": {},
     "output_type": "execute_result"
    }
   ],
   "source": [
    "y_test_predit = gb_estimator.predict_proba(X_test.drop([\"ID\", \"prediction_rf\", \n",
    "                                                        \"prediction_gb\", \"prediction_et\"], axis=1))[:, 1]\n",
    "\n",
    "result_comparison = pd.DataFrame(y_test).merge(pd.DataFrame(y_test_predit), left_index=True, right_index=True)\n",
    "result_comparison.sample(10)\n",
    "\n",
    "roc_auc_score(y_test.Target, y_test_predit)"
   ]
  },
  {
   "cell_type": "markdown",
   "metadata": {},
   "source": [
    "### C) Extra tree"
   ]
  },
  {
   "cell_type": "markdown",
   "metadata": {},
   "source": [
    "###### Test set"
   ]
  },
  {
   "cell_type": "code",
   "execution_count": 38,
   "metadata": {},
   "outputs": [
    {
     "data": {
      "text/plain": [
       "0.82413571878177505"
      ]
     },
     "execution_count": 38,
     "metadata": {},
     "output_type": "execute_result"
    }
   ],
   "source": [
    "y_test_predit = et_estimator.predict_proba(X_test.drop([\"ID\", \"prediction_rf\", \n",
    "                                                        \"prediction_gb\", \"prediction_et\"], axis=1))[:, 1]\n",
    "\n",
    "result_comparison = pd.DataFrame(y_test).merge(pd.DataFrame(y_test_predit), left_index=True, right_index=True)\n",
    "result_comparison.sample(10)\n",
    "\n",
    "roc_auc_score(y_test.Target, y_test_predit)"
   ]
  },
  {
   "cell_type": "markdown",
   "metadata": {},
   "source": [
    "### D) Logistic regression"
   ]
  },
  {
   "cell_type": "code",
   "execution_count": 39,
   "metadata": {},
   "outputs": [
    {
     "data": {
      "text/plain": [
       "0.80111767459126204"
      ]
     },
     "execution_count": 39,
     "metadata": {},
     "output_type": "execute_result"
    }
   ],
   "source": [
    "y_test_predit = lr_estimator.predict_proba(X_test.drop([\"ID\"], axis=1))[:, 1]\n",
    "\n",
    "result_comparison = pd.DataFrame(y_test).merge(pd.DataFrame(y_test_predit), left_index=True, right_index=True)\n",
    "result_comparison.sample(10)\n",
    "\n",
    "roc_auc_score(y_test.Target, y_test_predit)"
   ]
  },
  {
   "cell_type": "markdown",
   "metadata": {},
   "source": [
    "### E) Combining estimator"
   ]
  },
  {
   "cell_type": "code",
   "execution_count": 43,
   "metadata": {},
   "outputs": [
    {
     "data": {
      "text/plain": [
       "0.82704651463064283"
      ]
     },
     "execution_count": 43,
     "metadata": {},
     "output_type": "execute_result"
    }
   ],
   "source": [
    "y_test_predit = 0.31 * rf_estimator.predict_proba(X_test.drop([\"ID\", \"prediction_rf\", \n",
    "                                                               \"prediction_gb\", \"prediction_et\"], axis=1))[:, 1] +\\\n",
    "                0.31 * gb_estimator.predict_proba(X_test.drop([\"ID\", \"prediction_rf\", \n",
    "                                                               \"prediction_gb\", \"prediction_et\"], axis=1))[:, 1] +\\\n",
    "                0.31 * et_estimator.predict_proba(X_test.drop([\"ID\", \"prediction_rf\", \n",
    "                                                               \"prediction_gb\", \"prediction_et\"], axis=1))[:, 1] +\\\n",
    "                0.07 * lr_estimator.predict_proba(X_test.drop(\"ID\", axis=1))[:, 1]\n",
    "\n",
    "result_comparison = pd.DataFrame(y_test).merge(pd.DataFrame(y_test_predit), left_index=True, right_index=True)\n",
    "result_comparison.sample(10)\n",
    "\n",
    "roc_auc_score(y_test.Target, y_test_predit)"
   ]
  },
  {
   "cell_type": "markdown",
   "metadata": {},
   "source": [
    "# Variable importance"
   ]
  },
  {
   "cell_type": "markdown",
   "metadata": {},
   "source": [
    "We can see lot of features with importance < 0.005"
   ]
  },
  {
   "cell_type": "code",
   "execution_count": 44,
   "metadata": {},
   "outputs": [
    {
     "data": {
      "text/plain": [
       "(array([  3.52900000e+03,   1.14000000e+02,   3.10000000e+01,\n",
       "          1.00000000e+01,   2.20000000e+01,   1.30000000e+01,\n",
       "          4.00000000e+00,   0.00000000e+00,   1.00000000e+00,\n",
       "          1.00000000e+00]),\n",
       " array([ 0.        ,  0.00078177,  0.00156353,  0.0023453 ,  0.00312706,\n",
       "         0.00390883,  0.00469059,  0.00547236,  0.00625412,  0.00703589,\n",
       "         0.00781765]),\n",
       " <a list of 10 Patch objects>)"
      ]
     },
     "execution_count": 44,
     "metadata": {},
     "output_type": "execute_result"
    },
    {
     "data": {
      "image/png": "[encoded data removed]",
      "text/plain": [
       "<matplotlib.figure.Figure at 0x7fa9339e9be0>"
      ]
     },
     "metadata": {},
     "output_type": "display_data"
    }
   ],
   "source": [
    "plt.hist(rf_estimator.named_steps[\"rf\"].feature_importances_)"
   ]
  },
  {
   "cell_type": "code",
   "execution_count": 45,
   "metadata": {},
   "outputs": [
    {
     "data": {
      "text/html": [
       "<div>\n",
       "<style>\n",
       "    .dataframe thead tr:only-child th {\n",
       "        text-align: right;\n",
       "    }\n",
       "\n",
       "    .dataframe thead th {\n",
       "        text-align: left;\n",
       "    }\n",
       "\n",
       "    .dataframe tbody tr th {\n",
       "        vertical-align: top;\n",
       "    }\n",
       "</style>\n",
       "<table border=\"1\" class=\"dataframe\">\n",
       "  <thead>\n",
       "    <tr style=\"text-align: right;\">\n",
       "      <th></th>\n",
       "      <th>variable</th>\n",
       "      <th>importance</th>\n",
       "    </tr>\n",
       "  </thead>\n",
       "  <tbody>\n",
       "    <tr>\n",
       "      <th>619</th>\n",
       "      <td>1_diffSumRefinery intake(kmt) nanmedian</td>\n",
       "      <td>0.007818</td>\n",
       "    </tr>\n",
       "    <tr>\n",
       "      <th>584</th>\n",
       "      <td>1_diffSumExports(kmt) percentile_75</td>\n",
       "      <td>0.006444</td>\n",
       "    </tr>\n",
       "    <tr>\n",
       "      <th>590</th>\n",
       "      <td>1_diffSumImports(kmt) nansum</td>\n",
       "      <td>0.005388</td>\n",
       "    </tr>\n",
       "    <tr>\n",
       "      <th>583</th>\n",
       "      <td>1_diffSumExports(kmt) nanmedian</td>\n",
       "      <td>0.005179</td>\n",
       "    </tr>\n",
       "    <tr>\n",
       "      <th>358</th>\n",
       "      <td>percent_0_6_diffClosing stocks(kmt)</td>\n",
       "      <td>0.005178</td>\n",
       "    </tr>\n",
       "    <tr>\n",
       "      <th>1932</th>\n",
       "      <td>12_diffSumProduction(kmt) percentile_5</td>\n",
       "      <td>0.004784</td>\n",
       "    </tr>\n",
       "    <tr>\n",
       "      <th>598</th>\n",
       "      <td>1_diffSumImports(kmt) percentile_10</td>\n",
       "      <td>0.004623</td>\n",
       "    </tr>\n",
       "    <tr>\n",
       "      <th>589</th>\n",
       "      <td>1_diffSumExports(kmt) percentile_95</td>\n",
       "      <td>0.004543</td>\n",
       "    </tr>\n",
       "    <tr>\n",
       "      <th>577</th>\n",
       "      <td>1_diffSumClosing stocks(kmt) percentile_95</td>\n",
       "      <td>0.004538</td>\n",
       "    </tr>\n",
       "    <tr>\n",
       "      <th>366</th>\n",
       "      <td>percent_0_8_diffClosing stocks(kmt)</td>\n",
       "      <td>0.004499</td>\n",
       "    </tr>\n",
       "    <tr>\n",
       "      <th>382</th>\n",
       "      <td>percent_0_12_diffClosing stocks(kmt)</td>\n",
       "      <td>0.004300</td>\n",
       "    </tr>\n",
       "    <tr>\n",
       "      <th>350</th>\n",
       "      <td>percent_0_4_diffClosing stocks(kmt)</td>\n",
       "      <td>0.004284</td>\n",
       "    </tr>\n",
       "    <tr>\n",
       "      <th>594</th>\n",
       "      <td>1_diffSumImports(kmt) amax</td>\n",
       "      <td>0.004201</td>\n",
       "    </tr>\n",
       "    <tr>\n",
       "      <th>611</th>\n",
       "      <td>1_diffSumProduction(kmt) percentile_90</td>\n",
       "      <td>0.004163</td>\n",
       "    </tr>\n",
       "    <tr>\n",
       "      <th>1522</th>\n",
       "      <td>9_diffWTI percentile_10</td>\n",
       "      <td>0.004126</td>\n",
       "    </tr>\n",
       "  </tbody>\n",
       "</table>\n",
       "</div>"
      ],
      "text/plain": [
       "                                        variable  importance\n",
       "619      1_diffSumRefinery intake(kmt) nanmedian    0.007818\n",
       "584          1_diffSumExports(kmt) percentile_75    0.006444\n",
       "590                 1_diffSumImports(kmt) nansum    0.005388\n",
       "583              1_diffSumExports(kmt) nanmedian    0.005179\n",
       "358          percent_0_6_diffClosing stocks(kmt)    0.005178\n",
       "1932      12_diffSumProduction(kmt) percentile_5    0.004784\n",
       "598          1_diffSumImports(kmt) percentile_10    0.004623\n",
       "589          1_diffSumExports(kmt) percentile_95    0.004543\n",
       "577   1_diffSumClosing stocks(kmt) percentile_95    0.004538\n",
       "366          percent_0_8_diffClosing stocks(kmt)    0.004499\n",
       "382         percent_0_12_diffClosing stocks(kmt)    0.004300\n",
       "350          percent_0_4_diffClosing stocks(kmt)    0.004284\n",
       "594                   1_diffSumImports(kmt) amax    0.004201\n",
       "611       1_diffSumProduction(kmt) percentile_90    0.004163\n",
       "1522                     9_diffWTI percentile_10    0.004126"
      ]
     },
     "execution_count": 45,
     "metadata": {},
     "output_type": "execute_result"
    }
   ],
   "source": [
    "variable_importance =\\\n",
    "    pd.concat([pd.DataFrame(X_train.columns),\n",
    "               pd.DataFrame(rf_estimator.named_steps[\"rf\"].feature_importances_)], axis=1)\n",
    "variable_importance.columns =[\"variable\", \"importance\"]\n",
    "    \n",
    "variable_importance = variable_importance.sort_values(by=\"importance\", ascending=False)\n",
    "variable_importance.head(15)"
   ]
  },
  {
   "cell_type": "markdown",
   "metadata": {},
   "source": [
    "# 5 - Prediction"
   ]
  },
  {
   "cell_type": "code",
   "execution_count": 46,
   "metadata": {
    "collapsed": true
   },
   "outputs": [],
   "source": [
    "id_final_test = final_test.ID"
   ]
  },
  {
   "cell_type": "code",
   "execution_count": 47,
   "metadata": {
    "collapsed": true
   },
   "outputs": [],
   "source": [
    "X_final_test = final_test.drop(\"ID\", axis=1)"
   ]
  },
  {
   "cell_type": "code",
   "execution_count": 51,
   "metadata": {},
   "outputs": [
    {
     "name": "stderr",
     "output_type": "stream",
     "text": [
      "/home/thibault/anaconda3/lib/python3.6/site-packages/sklearn/linear_model/base.py:352: RuntimeWarning: overflow encountered in exp\n",
      "  np.exp(prob, prob)\n"
     ]
    }
   ],
   "source": [
    "predictions = 0.33 * rf_estimator.predict_proba(X_final_test.drop([\"prediction_rf\", \n",
    "                                                                   \"prediction_gb\", \"prediction_et\"], axis=1))[:, 1] +\\\n",
    "              0.33 * gb_estimator.predict_proba(X_final_test.drop([\"prediction_rf\", \n",
    "                                                                   \"prediction_gb\", \"prediction_et\"], axis=1))[:, 1] +\\\n",
    "              0.34 * et_estimator.predict_proba(X_final_test.drop([\"prediction_rf\", \n",
    "                                                                   \"prediction_gb\", \"prediction_et\"], axis=1))[:, 1] +\\\n",
    "              0.00 * lr_estimator.predict_proba(X_final_test)[:, 1]\n",
    "    "
   ]
  },
  {
   "cell_type": "code",
   "execution_count": 52,
   "metadata": {},
   "outputs": [
    {
     "data": {
      "text/html": [
       "<div>\n",
       "<style>\n",
       "    .dataframe thead tr:only-child th {\n",
       "        text-align: right;\n",
       "    }\n",
       "\n",
       "    .dataframe thead th {\n",
       "        text-align: left;\n",
       "    }\n",
       "\n",
       "    .dataframe tbody tr th {\n",
       "        vertical-align: top;\n",
       "    }\n",
       "</style>\n",
       "<table border=\"1\" class=\"dataframe\">\n",
       "  <thead>\n",
       "    <tr style=\"text-align: right;\">\n",
       "      <th></th>\n",
       "      <th>ID</th>\n",
       "      <th>Target</th>\n",
       "    </tr>\n",
       "  </thead>\n",
       "  <tbody>\n",
       "    <tr>\n",
       "      <th>0</th>\n",
       "      <td>ID10160</td>\n",
       "      <td>0.292571</td>\n",
       "    </tr>\n",
       "    <tr>\n",
       "      <th>1</th>\n",
       "      <td>ID10161</td>\n",
       "      <td>0.021153</td>\n",
       "    </tr>\n",
       "    <tr>\n",
       "      <th>2</th>\n",
       "      <td>ID10162</td>\n",
       "      <td>0.424225</td>\n",
       "    </tr>\n",
       "    <tr>\n",
       "      <th>3</th>\n",
       "      <td>ID10163</td>\n",
       "      <td>0.808301</td>\n",
       "    </tr>\n",
       "    <tr>\n",
       "      <th>4</th>\n",
       "      <td>ID10164</td>\n",
       "      <td>0.245966</td>\n",
       "    </tr>\n",
       "  </tbody>\n",
       "</table>\n",
       "</div>"
      ],
      "text/plain": [
       "        ID    Target\n",
       "0  ID10160  0.292571\n",
       "1  ID10161  0.021153\n",
       "2  ID10162  0.424225\n",
       "3  ID10163  0.808301\n",
       "4  ID10164  0.245966"
      ]
     },
     "execution_count": 52,
     "metadata": {},
     "output_type": "execute_result"
    }
   ],
   "source": [
    "result = pd.DataFrame(predictions).merge(pd.DataFrame(id_final_test).reset_index(drop=True), \n",
    "                                         left_index=True, right_index=True)\n",
    "result.columns = [\"Target\", \"ID\"]\n",
    "result = result.loc[:, [\"ID\", \"Target\"]]\n",
    "result.head()"
   ]
  },
  {
   "cell_type": "code",
   "execution_count": 53,
   "metadata": {
    "collapsed": true
   },
   "outputs": [],
   "source": [
    "\n",
    "result.to_csv(PATH_RESULT + \"result.csv\", index=False, sep=\";\", quoting=csv.QUOTE_NONNUMERIC)"
   ]
  },
  {
   "cell_type": "code",
   "execution_count": null,
   "metadata": {
    "collapsed": true
   },
   "outputs": [],
   "source": []
  }
 ],
 "metadata": {
  "kernelspec": {
   "display_name": "Python 3",
   "language": "python",
   "name": "python3"
  },
  "language_info": {
   "codemirror_mode": {
    "name": "ipython",
    "version": 3
   },
   "file_extension": ".py",
   "mimetype": "text/x-python",
   "name": "python",
   "nbconvert_exporter": "python",
   "pygments_lexer": "ipython3",
   "version": "3.6.1"
  }
 },
 "nbformat": 4,
 "nbformat_minor": 2
}
