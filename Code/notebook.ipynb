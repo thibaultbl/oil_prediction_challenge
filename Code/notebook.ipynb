{
 "cells": [
  {
   "cell_type": "code",
   "execution_count": 4,
   "metadata": {
    "collapsed": true
   },
   "outputs": [],
   "source": [
    "import csv\n",
    "import pandas as pd\n",
    "from sklearn.ensemble import RandomForestClassifier, ExtraTreesClassifier, GradientBoostingClassifier\n",
    "from sklearn.preprocessing import StandardScaler\n",
    "from sklearn.linear_model import LogisticRegression\n",
    "from sklearn.pipeline import Pipeline,FeatureUnion\n",
    "from sklearn.preprocessing import LabelEncoder, Imputer\n",
    "from sklearn.metrics import auc, roc_auc_score\n",
    "from sklearn.model_selection import train_test_split\n",
    "from sklearn.model_selection import RandomizedSearchCV\n",
    "from sklearn.linear_model import LogisticRegression\n",
    "from scipy.stats import randint as sp_randint\n",
    "from sklearn.feature_selection import SelectFromModel\n",
    "from sklearn.decomposition import PCA\n",
    "import random\n",
    "import numpy as np\n",
    "\n",
    "\n",
    "import warnings\n",
    "warnings.filterwarnings(\"ignore\", category=DeprecationWarning)\n",
    "\n",
    "import os\n",
    "os.chdir(\"/home/thibault/Documents/oilprediction_challenge/Code/functions\")\n",
    "import skmice\n",
    "import functions as fn\n",
    "\n",
    "import matplotlib.pyplot as plt\n",
    "plt.style.use('ggplot')\n",
    "%matplotlib inline\n",
    "\n",
    "pd.set_option(\"display.max_columns\", 200)\n",
    "\n",
    "PATH = \"/home/thibault/Documents/oilprediction_challenge/\"\n",
    "PATH_DATA = PATH + \"Data/\"\n",
    "PATH_RESULT = PATH + \"Result/\""
   ]
  },
  {
   "cell_type": "code",
   "execution_count": 5,
   "metadata": {},
   "outputs": [],
   "source": [
    "random.seed(42)"
   ]
  },
  {
   "cell_type": "markdown",
   "metadata": {},
   "source": [
    "# 1 - LOAD DATA"
   ]
  },
  {
   "cell_type": "code",
   "execution_count": 6,
   "metadata": {
    "collapsed": true
   },
   "outputs": [],
   "source": [
    "Y = pd.read_csv(PATH_DATA + \"Y_train.csv\", sep=\";\")\n",
    "X = pd.read_csv(PATH_DATA + \"Train.csv\", sep=\";\")\n",
    "final_test = pd.read_csv(PATH_DATA + \"Test.csv\", sep=\";\")\n",
    "\n",
    "X_full = pd.concat([X, final_test])"
   ]
  },
  {
   "cell_type": "markdown",
   "metadata": {},
   "source": [
    "# 2 - Data transformation"
   ]
  },
  {
   "cell_type": "markdown",
   "metadata": {},
   "source": [
    "### First analysis"
   ]
  },
  {
   "cell_type": "code",
   "execution_count": 7,
   "metadata": {},
   "outputs": [
    {
     "data": {
      "text/html": [
       "<div>\n",
       "<style>\n",
       "    .dataframe thead tr:only-child th {\n",
       "        text-align: right;\n",
       "    }\n",
       "\n",
       "    .dataframe thead th {\n",
       "        text-align: left;\n",
       "    }\n",
       "\n",
       "    .dataframe tbody tr th {\n",
       "        vertical-align: top;\n",
       "    }\n",
       "</style>\n",
       "<table border=\"1\" class=\"dataframe\">\n",
       "  <thead>\n",
       "    <tr style=\"text-align: right;\">\n",
       "      <th></th>\n",
       "      <th>1_diffClosing stocks(kmt)</th>\n",
       "      <th>1_diffExports(kmt)</th>\n",
       "      <th>1_diffImports(kmt)</th>\n",
       "      <th>1_diffRefinery intake(kmt)</th>\n",
       "      <th>1_diffWTI</th>\n",
       "      <th>1_diffSumClosing stocks(kmt)</th>\n",
       "      <th>1_diffSumExports(kmt)</th>\n",
       "      <th>1_diffSumImports(kmt)</th>\n",
       "      <th>1_diffSumProduction(kmt)</th>\n",
       "      <th>1_diffSumRefinery intake(kmt)</th>\n",
       "      <th>2_diffClosing stocks(kmt)</th>\n",
       "      <th>2_diffExports(kmt)</th>\n",
       "      <th>2_diffImports(kmt)</th>\n",
       "      <th>2_diffRefinery intake(kmt)</th>\n",
       "      <th>2_diffWTI</th>\n",
       "      <th>2_diffSumClosing stocks(kmt)</th>\n",
       "      <th>2_diffSumExports(kmt)</th>\n",
       "      <th>2_diffSumImports(kmt)</th>\n",
       "      <th>2_diffSumProduction(kmt)</th>\n",
       "      <th>2_diffSumRefinery intake(kmt)</th>\n",
       "      <th>3_diffClosing stocks(kmt)</th>\n",
       "      <th>3_diffExports(kmt)</th>\n",
       "      <th>3_diffImports(kmt)</th>\n",
       "      <th>3_diffRefinery intake(kmt)</th>\n",
       "      <th>3_diffWTI</th>\n",
       "      <th>3_diffSumClosing stocks(kmt)</th>\n",
       "      <th>3_diffSumExports(kmt)</th>\n",
       "      <th>3_diffSumImports(kmt)</th>\n",
       "      <th>3_diffSumProduction(kmt)</th>\n",
       "      <th>3_diffSumRefinery intake(kmt)</th>\n",
       "      <th>4_diffClosing stocks(kmt)</th>\n",
       "      <th>4_diffExports(kmt)</th>\n",
       "      <th>4_diffImports(kmt)</th>\n",
       "      <th>4_diffRefinery intake(kmt)</th>\n",
       "      <th>4_diffWTI</th>\n",
       "      <th>4_diffSumClosing stocks(kmt)</th>\n",
       "      <th>4_diffSumExports(kmt)</th>\n",
       "      <th>4_diffSumImports(kmt)</th>\n",
       "      <th>4_diffSumProduction(kmt)</th>\n",
       "      <th>4_diffSumRefinery intake(kmt)</th>\n",
       "      <th>5_diffClosing stocks(kmt)</th>\n",
       "      <th>5_diffExports(kmt)</th>\n",
       "      <th>5_diffImports(kmt)</th>\n",
       "      <th>5_diffRefinery intake(kmt)</th>\n",
       "      <th>5_diffWTI</th>\n",
       "      <th>5_diffSumClosing stocks(kmt)</th>\n",
       "      <th>5_diffSumExports(kmt)</th>\n",
       "      <th>5_diffSumImports(kmt)</th>\n",
       "      <th>5_diffSumProduction(kmt)</th>\n",
       "      <th>5_diffSumRefinery intake(kmt)</th>\n",
       "      <th>6_diffClosing stocks(kmt)</th>\n",
       "      <th>6_diffExports(kmt)</th>\n",
       "      <th>6_diffImports(kmt)</th>\n",
       "      <th>6_diffRefinery intake(kmt)</th>\n",
       "      <th>6_diffWTI</th>\n",
       "      <th>6_diffSumClosing stocks(kmt)</th>\n",
       "      <th>6_diffSumExports(kmt)</th>\n",
       "      <th>6_diffSumImports(kmt)</th>\n",
       "      <th>6_diffSumProduction(kmt)</th>\n",
       "      <th>6_diffSumRefinery intake(kmt)</th>\n",
       "      <th>7_diffClosing stocks(kmt)</th>\n",
       "      <th>7_diffExports(kmt)</th>\n",
       "      <th>7_diffImports(kmt)</th>\n",
       "      <th>7_diffRefinery intake(kmt)</th>\n",
       "      <th>7_diffWTI</th>\n",
       "      <th>7_diffSumClosing stocks(kmt)</th>\n",
       "      <th>7_diffSumExports(kmt)</th>\n",
       "      <th>7_diffSumImports(kmt)</th>\n",
       "      <th>7_diffSumProduction(kmt)</th>\n",
       "      <th>7_diffSumRefinery intake(kmt)</th>\n",
       "      <th>8_diffClosing stocks(kmt)</th>\n",
       "      <th>8_diffExports(kmt)</th>\n",
       "      <th>8_diffImports(kmt)</th>\n",
       "      <th>8_diffRefinery intake(kmt)</th>\n",
       "      <th>8_diffWTI</th>\n",
       "      <th>8_diffSumClosing stocks(kmt)</th>\n",
       "      <th>8_diffSumExports(kmt)</th>\n",
       "      <th>8_diffSumImports(kmt)</th>\n",
       "      <th>8_diffSumProduction(kmt)</th>\n",
       "      <th>8_diffSumRefinery intake(kmt)</th>\n",
       "      <th>9_diffClosing stocks(kmt)</th>\n",
       "      <th>9_diffExports(kmt)</th>\n",
       "      <th>9_diffImports(kmt)</th>\n",
       "      <th>9_diffRefinery intake(kmt)</th>\n",
       "      <th>9_diffWTI</th>\n",
       "      <th>9_diffSumClosing stocks(kmt)</th>\n",
       "      <th>9_diffSumExports(kmt)</th>\n",
       "      <th>9_diffSumImports(kmt)</th>\n",
       "      <th>9_diffSumProduction(kmt)</th>\n",
       "      <th>9_diffSumRefinery intake(kmt)</th>\n",
       "      <th>10_diffClosing stocks(kmt)</th>\n",
       "      <th>10_diffExports(kmt)</th>\n",
       "      <th>10_diffImports(kmt)</th>\n",
       "      <th>10_diffRefinery intake(kmt)</th>\n",
       "      <th>10_diffWTI</th>\n",
       "      <th>10_diffSumClosing stocks(kmt)</th>\n",
       "      <th>10_diffSumExports(kmt)</th>\n",
       "      <th>10_diffSumImports(kmt)</th>\n",
       "      <th>10_diffSumProduction(kmt)</th>\n",
       "      <th>10_diffSumRefinery intake(kmt)</th>\n",
       "      <th>11_diffClosing stocks(kmt)</th>\n",
       "      <th>11_diffExports(kmt)</th>\n",
       "      <th>11_diffImports(kmt)</th>\n",
       "      <th>11_diffRefinery intake(kmt)</th>\n",
       "      <th>11_diffWTI</th>\n",
       "      <th>11_diffSumClosing stocks(kmt)</th>\n",
       "      <th>11_diffSumExports(kmt)</th>\n",
       "      <th>11_diffSumImports(kmt)</th>\n",
       "      <th>11_diffSumProduction(kmt)</th>\n",
       "      <th>11_diffSumRefinery intake(kmt)</th>\n",
       "      <th>12_diffClosing stocks(kmt)</th>\n",
       "      <th>12_diffExports(kmt)</th>\n",
       "      <th>12_diffImports(kmt)</th>\n",
       "      <th>12_diffRefinery intake(kmt)</th>\n",
       "      <th>12_diffWTI</th>\n",
       "      <th>12_diffSumClosing stocks(kmt)</th>\n",
       "      <th>12_diffSumExports(kmt)</th>\n",
       "      <th>12_diffSumImports(kmt)</th>\n",
       "      <th>12_diffSumProduction(kmt)</th>\n",
       "      <th>12_diffSumRefinery intake(kmt)</th>\n",
       "    </tr>\n",
       "  </thead>\n",
       "  <tbody>\n",
       "    <tr>\n",
       "      <th>count</th>\n",
       "      <td>9898.000000</td>\n",
       "      <td>10159.000000</td>\n",
       "      <td>10008.000000</td>\n",
       "      <td>10159.000000</td>\n",
       "      <td>10159.000000</td>\n",
       "      <td>10159.000000</td>\n",
       "      <td>10159.000000</td>\n",
       "      <td>10159.000000</td>\n",
       "      <td>10159.000000</td>\n",
       "      <td>10159.000000</td>\n",
       "      <td>9902.000000</td>\n",
       "      <td>10159.000000</td>\n",
       "      <td>10011.000000</td>\n",
       "      <td>10159.000000</td>\n",
       "      <td>10159.000000</td>\n",
       "      <td>10159.000000</td>\n",
       "      <td>10159.000000</td>\n",
       "      <td>10159.000000</td>\n",
       "      <td>10159.000000</td>\n",
       "      <td>10159.000000</td>\n",
       "      <td>9906.000000</td>\n",
       "      <td>10159.000000</td>\n",
       "      <td>10014.000000</td>\n",
       "      <td>10159.000000</td>\n",
       "      <td>10159.000000</td>\n",
       "      <td>10159.000000</td>\n",
       "      <td>10159.000000</td>\n",
       "      <td>10159.000000</td>\n",
       "      <td>10159.000000</td>\n",
       "      <td>10159.000000</td>\n",
       "      <td>9910.000000</td>\n",
       "      <td>10159.000000</td>\n",
       "      <td>10017.000000</td>\n",
       "      <td>10159.000000</td>\n",
       "      <td>10159.000000</td>\n",
       "      <td>10159.000000</td>\n",
       "      <td>10159.000000</td>\n",
       "      <td>10159.000000</td>\n",
       "      <td>10159.000000</td>\n",
       "      <td>10159.000000</td>\n",
       "      <td>9914.000000</td>\n",
       "      <td>10159.000000</td>\n",
       "      <td>10020.000000</td>\n",
       "      <td>10159.000000</td>\n",
       "      <td>10159.000000</td>\n",
       "      <td>10159.000000</td>\n",
       "      <td>10159.000000</td>\n",
       "      <td>10159.000000</td>\n",
       "      <td>10159.000000</td>\n",
       "      <td>10159.000000</td>\n",
       "      <td>9918.000000</td>\n",
       "      <td>10159.000000</td>\n",
       "      <td>10023.000000</td>\n",
       "      <td>10159.000000</td>\n",
       "      <td>10159.000000</td>\n",
       "      <td>10159.000000</td>\n",
       "      <td>10159.000000</td>\n",
       "      <td>10159.000000</td>\n",
       "      <td>10159.000000</td>\n",
       "      <td>10159.000000</td>\n",
       "      <td>9921.000000</td>\n",
       "      <td>10159.000000</td>\n",
       "      <td>10026.000000</td>\n",
       "      <td>10159.000000</td>\n",
       "      <td>10159.000000</td>\n",
       "      <td>10159.000000</td>\n",
       "      <td>10159.000000</td>\n",
       "      <td>10159.000000</td>\n",
       "      <td>10159.000000</td>\n",
       "      <td>10159.000000</td>\n",
       "      <td>9924.000000</td>\n",
       "      <td>10159.000000</td>\n",
       "      <td>10029.000000</td>\n",
       "      <td>10159.000000</td>\n",
       "      <td>10159.000000</td>\n",
       "      <td>10159.000000</td>\n",
       "      <td>10159.000000</td>\n",
       "      <td>10159.000000</td>\n",
       "      <td>10159.000000</td>\n",
       "      <td>10159.000000</td>\n",
       "      <td>9927.000000</td>\n",
       "      <td>10159.000000</td>\n",
       "      <td>10032.000000</td>\n",
       "      <td>10159.000000</td>\n",
       "      <td>10159.000000</td>\n",
       "      <td>10159.000000</td>\n",
       "      <td>10159.000000</td>\n",
       "      <td>10159.000000</td>\n",
       "      <td>10159.000000</td>\n",
       "      <td>10159.000000</td>\n",
       "      <td>9931.000000</td>\n",
       "      <td>10159.000000</td>\n",
       "      <td>10035.000000</td>\n",
       "      <td>10159.000000</td>\n",
       "      <td>10159.000000</td>\n",
       "      <td>10159.000000</td>\n",
       "      <td>10159.000000</td>\n",
       "      <td>10159.000000</td>\n",
       "      <td>10159.000000</td>\n",
       "      <td>10159.000000</td>\n",
       "      <td>9935.000000</td>\n",
       "      <td>10159.000000</td>\n",
       "      <td>10038.000000</td>\n",
       "      <td>10159.000000</td>\n",
       "      <td>10159.000000</td>\n",
       "      <td>10159.000000</td>\n",
       "      <td>10159.000000</td>\n",
       "      <td>10159.000000</td>\n",
       "      <td>10159.000000</td>\n",
       "      <td>10159.000000</td>\n",
       "      <td>9939.000000</td>\n",
       "      <td>10159.000000</td>\n",
       "      <td>10041.000000</td>\n",
       "      <td>10159.000000</td>\n",
       "      <td>10159.000000</td>\n",
       "      <td>10159.000000</td>\n",
       "      <td>10159.000000</td>\n",
       "      <td>10159.000000</td>\n",
       "      <td>10159.000000</td>\n",
       "      <td>10159.000000</td>\n",
       "    </tr>\n",
       "    <tr>\n",
       "      <th>mean</th>\n",
       "      <td>0.517624</td>\n",
       "      <td>3.772813</td>\n",
       "      <td>1.581989</td>\n",
       "      <td>3.531208</td>\n",
       "      <td>0.567494</td>\n",
       "      <td>57.443267</td>\n",
       "      <td>302.377589</td>\n",
       "      <td>129.356949</td>\n",
       "      <td>387.809522</td>\n",
       "      <td>305.419239</td>\n",
       "      <td>0.742556</td>\n",
       "      <td>4.959824</td>\n",
       "      <td>2.777854</td>\n",
       "      <td>6.552034</td>\n",
       "      <td>0.543507</td>\n",
       "      <td>81.652426</td>\n",
       "      <td>371.192552</td>\n",
       "      <td>212.352611</td>\n",
       "      <td>597.579487</td>\n",
       "      <td>476.154170</td>\n",
       "      <td>0.756207</td>\n",
       "      <td>3.266168</td>\n",
       "      <td>2.085293</td>\n",
       "      <td>4.444096</td>\n",
       "      <td>0.494593</td>\n",
       "      <td>67.252350</td>\n",
       "      <td>262.106381</td>\n",
       "      <td>150.980411</td>\n",
       "      <td>475.690192</td>\n",
       "      <td>367.901279</td>\n",
       "      <td>0.929504</td>\n",
       "      <td>3.901432</td>\n",
       "      <td>1.851947</td>\n",
       "      <td>6.004567</td>\n",
       "      <td>0.506218</td>\n",
       "      <td>74.957057</td>\n",
       "      <td>278.104558</td>\n",
       "      <td>140.658140</td>\n",
       "      <td>505.278104</td>\n",
       "      <td>454.249259</td>\n",
       "      <td>0.148683</td>\n",
       "      <td>3.201682</td>\n",
       "      <td>1.966797</td>\n",
       "      <td>6.374611</td>\n",
       "      <td>0.575677</td>\n",
       "      <td>14.960832</td>\n",
       "      <td>264.411945</td>\n",
       "      <td>141.656697</td>\n",
       "      <td>490.111846</td>\n",
       "      <td>498.325737</td>\n",
       "      <td>-0.561892</td>\n",
       "      <td>4.305713</td>\n",
       "      <td>2.314438</td>\n",
       "      <td>7.085336</td>\n",
       "      <td>0.600560</td>\n",
       "      <td>-13.577925</td>\n",
       "      <td>317.639705</td>\n",
       "      <td>181.657454</td>\n",
       "      <td>542.732103</td>\n",
       "      <td>531.215299</td>\n",
       "      <td>0.123963</td>\n",
       "      <td>3.266089</td>\n",
       "      <td>2.217709</td>\n",
       "      <td>5.442248</td>\n",
       "      <td>0.576707</td>\n",
       "      <td>27.380125</td>\n",
       "      <td>261.308999</td>\n",
       "      <td>137.161646</td>\n",
       "      <td>426.688120</td>\n",
       "      <td>376.907147</td>\n",
       "      <td>0.422250</td>\n",
       "      <td>3.295281</td>\n",
       "      <td>0.594964</td>\n",
       "      <td>3.968487</td>\n",
       "      <td>0.517805</td>\n",
       "      <td>56.568751</td>\n",
       "      <td>260.421113</td>\n",
       "      <td>62.933553</td>\n",
       "      <td>429.395413</td>\n",
       "      <td>315.572022</td>\n",
       "      <td>0.916874</td>\n",
       "      <td>3.142004</td>\n",
       "      <td>1.824298</td>\n",
       "      <td>5.374090</td>\n",
       "      <td>0.472697</td>\n",
       "      <td>83.724901</td>\n",
       "      <td>237.529515</td>\n",
       "      <td>110.191622</td>\n",
       "      <td>462.278965</td>\n",
       "      <td>398.929837</td>\n",
       "      <td>-0.029621</td>\n",
       "      <td>3.262001</td>\n",
       "      <td>1.666753</td>\n",
       "      <td>5.800392</td>\n",
       "      <td>0.517833</td>\n",
       "      <td>4.234261</td>\n",
       "      <td>240.206214</td>\n",
       "      <td>125.844331</td>\n",
       "      <td>394.037004</td>\n",
       "      <td>469.349083</td>\n",
       "      <td>-0.098057</td>\n",
       "      <td>3.023665</td>\n",
       "      <td>1.906747</td>\n",
       "      <td>6.342198</td>\n",
       "      <td>0.529798</td>\n",
       "      <td>19.068961</td>\n",
       "      <td>208.394996</td>\n",
       "      <td>137.001353</td>\n",
       "      <td>437.661116</td>\n",
       "      <td>451.711159</td>\n",
       "      <td>0.626760</td>\n",
       "      <td>2.026301</td>\n",
       "      <td>0.826485</td>\n",
       "      <td>3.664252</td>\n",
       "      <td>0.523349</td>\n",
       "      <td>65.882228</td>\n",
       "      <td>133.373726</td>\n",
       "      <td>51.287479</td>\n",
       "      <td>320.985333</td>\n",
       "      <td>238.099595</td>\n",
       "    </tr>\n",
       "    <tr>\n",
       "      <th>std</th>\n",
       "      <td>761.965975</td>\n",
       "      <td>543.533615</td>\n",
       "      <td>677.256249</td>\n",
       "      <td>1874.477959</td>\n",
       "      <td>6.699482</td>\n",
       "      <td>6016.337184</td>\n",
       "      <td>7961.169490</td>\n",
       "      <td>9111.023583</td>\n",
       "      <td>12819.753888</td>\n",
       "      <td>20404.435382</td>\n",
       "      <td>761.724351</td>\n",
       "      <td>543.609346</td>\n",
       "      <td>677.185134</td>\n",
       "      <td>1874.895261</td>\n",
       "      <td>6.709918</td>\n",
       "      <td>6022.238313</td>\n",
       "      <td>7964.623137</td>\n",
       "      <td>9104.624705</td>\n",
       "      <td>12705.850266</td>\n",
       "      <td>20349.593763</td>\n",
       "      <td>760.428316</td>\n",
       "      <td>540.212842</td>\n",
       "      <td>675.497710</td>\n",
       "      <td>1873.822198</td>\n",
       "      <td>6.706375</td>\n",
       "      <td>6016.557513</td>\n",
       "      <td>7837.376082</td>\n",
       "      <td>9066.522039</td>\n",
       "      <td>12602.407490</td>\n",
       "      <td>20298.699148</td>\n",
       "      <td>760.189186</td>\n",
       "      <td>539.922887</td>\n",
       "      <td>675.381751</td>\n",
       "      <td>1874.232188</td>\n",
       "      <td>6.712582</td>\n",
       "      <td>6015.310966</td>\n",
       "      <td>7847.959689</td>\n",
       "      <td>9089.658713</td>\n",
       "      <td>12614.537370</td>\n",
       "      <td>20299.721440</td>\n",
       "      <td>760.086752</td>\n",
       "      <td>540.748238</td>\n",
       "      <td>676.300343</td>\n",
       "      <td>1874.231460</td>\n",
       "      <td>6.737413</td>\n",
       "      <td>6020.245332</td>\n",
       "      <td>7883.368182</td>\n",
       "      <td>9131.282055</td>\n",
       "      <td>12643.816541</td>\n",
       "      <td>20320.669476</td>\n",
       "      <td>759.828553</td>\n",
       "      <td>542.334204</td>\n",
       "      <td>678.121502</td>\n",
       "      <td>1875.048388</td>\n",
       "      <td>6.750667</td>\n",
       "      <td>6022.932328</td>\n",
       "      <td>7878.614835</td>\n",
       "      <td>9147.970064</td>\n",
       "      <td>12653.844123</td>\n",
       "      <td>20334.409775</td>\n",
       "      <td>759.399822</td>\n",
       "      <td>543.639557</td>\n",
       "      <td>679.469411</td>\n",
       "      <td>1875.388295</td>\n",
       "      <td>6.766100</td>\n",
       "      <td>6020.097070</td>\n",
       "      <td>7892.909126</td>\n",
       "      <td>9152.891025</td>\n",
       "      <td>12681.073428</td>\n",
       "      <td>20347.741969</td>\n",
       "      <td>758.955748</td>\n",
       "      <td>543.953575</td>\n",
       "      <td>681.603134</td>\n",
       "      <td>1876.233179</td>\n",
       "      <td>6.788187</td>\n",
       "      <td>6037.621640</td>\n",
       "      <td>7898.750968</td>\n",
       "      <td>9156.391802</td>\n",
       "      <td>12711.320010</td>\n",
       "      <td>20360.055882</td>\n",
       "      <td>758.368019</td>\n",
       "      <td>541.088837</td>\n",
       "      <td>681.201998</td>\n",
       "      <td>1876.047332</td>\n",
       "      <td>6.801640</td>\n",
       "      <td>6040.114786</td>\n",
       "      <td>7897.645932</td>\n",
       "      <td>9132.844984</td>\n",
       "      <td>12714.589179</td>\n",
       "      <td>20349.402748</td>\n",
       "      <td>757.501724</td>\n",
       "      <td>538.739515</td>\n",
       "      <td>680.373585</td>\n",
       "      <td>1876.392698</td>\n",
       "      <td>6.806354</td>\n",
       "      <td>6039.745140</td>\n",
       "      <td>7901.891816</td>\n",
       "      <td>9148.828479</td>\n",
       "      <td>12696.513769</td>\n",
       "      <td>20383.171695</td>\n",
       "      <td>757.647774</td>\n",
       "      <td>541.345419</td>\n",
       "      <td>679.968729</td>\n",
       "      <td>1876.418096</td>\n",
       "      <td>6.810870</td>\n",
       "      <td>6039.385624</td>\n",
       "      <td>7882.452268</td>\n",
       "      <td>9157.467835</td>\n",
       "      <td>12706.141011</td>\n",
       "      <td>20393.577376</td>\n",
       "      <td>758.094021</td>\n",
       "      <td>542.103160</td>\n",
       "      <td>680.449831</td>\n",
       "      <td>1877.736256</td>\n",
       "      <td>6.811864</td>\n",
       "      <td>6040.377757</td>\n",
       "      <td>7929.716792</td>\n",
       "      <td>9225.553905</td>\n",
       "      <td>12850.960948</td>\n",
       "      <td>20514.098723</td>\n",
       "    </tr>\n",
       "    <tr>\n",
       "      <th>min</th>\n",
       "      <td>-39400.000000</td>\n",
       "      <td>-10200.000000</td>\n",
       "      <td>-22159.000000</td>\n",
       "      <td>-73610.740900</td>\n",
       "      <td>-32.600000</td>\n",
       "      <td>-33236.738500</td>\n",
       "      <td>-16196.649500</td>\n",
       "      <td>-26272.287500</td>\n",
       "      <td>-28046.135700</td>\n",
       "      <td>-71439.414000</td>\n",
       "      <td>-39400.000000</td>\n",
       "      <td>-10200.000000</td>\n",
       "      <td>-22159.000000</td>\n",
       "      <td>-73610.740900</td>\n",
       "      <td>-32.600000</td>\n",
       "      <td>-33236.738500</td>\n",
       "      <td>-16196.649500</td>\n",
       "      <td>-26272.287500</td>\n",
       "      <td>-28046.135700</td>\n",
       "      <td>-71439.414000</td>\n",
       "      <td>-39400.000000</td>\n",
       "      <td>-10200.000000</td>\n",
       "      <td>-22159.000000</td>\n",
       "      <td>-73610.740900</td>\n",
       "      <td>-32.600000</td>\n",
       "      <td>-33236.738500</td>\n",
       "      <td>-16196.649500</td>\n",
       "      <td>-26272.287500</td>\n",
       "      <td>-28046.135700</td>\n",
       "      <td>-71439.414000</td>\n",
       "      <td>-39400.000000</td>\n",
       "      <td>-10200.000000</td>\n",
       "      <td>-22159.000000</td>\n",
       "      <td>-73610.740900</td>\n",
       "      <td>-32.600000</td>\n",
       "      <td>-33236.738500</td>\n",
       "      <td>-16196.649500</td>\n",
       "      <td>-26272.287500</td>\n",
       "      <td>-28046.135700</td>\n",
       "      <td>-71439.414000</td>\n",
       "      <td>-39400.000000</td>\n",
       "      <td>-10200.000000</td>\n",
       "      <td>-22159.000000</td>\n",
       "      <td>-73610.740900</td>\n",
       "      <td>-32.600000</td>\n",
       "      <td>-33236.738500</td>\n",
       "      <td>-16196.649500</td>\n",
       "      <td>-26272.287500</td>\n",
       "      <td>-28046.135700</td>\n",
       "      <td>-71439.414000</td>\n",
       "      <td>-39400.000000</td>\n",
       "      <td>-10200.000000</td>\n",
       "      <td>-22159.000000</td>\n",
       "      <td>-73610.740900</td>\n",
       "      <td>-32.600000</td>\n",
       "      <td>-33236.738500</td>\n",
       "      <td>-16196.649500</td>\n",
       "      <td>-26272.287500</td>\n",
       "      <td>-28046.135700</td>\n",
       "      <td>-71439.414000</td>\n",
       "      <td>-39400.000000</td>\n",
       "      <td>-10200.000000</td>\n",
       "      <td>-22159.000000</td>\n",
       "      <td>-73610.740900</td>\n",
       "      <td>-32.600000</td>\n",
       "      <td>-33236.738500</td>\n",
       "      <td>-16196.649500</td>\n",
       "      <td>-26272.287500</td>\n",
       "      <td>-28046.135700</td>\n",
       "      <td>-71439.414000</td>\n",
       "      <td>-39400.000000</td>\n",
       "      <td>-10200.000000</td>\n",
       "      <td>-22159.000000</td>\n",
       "      <td>-73610.740900</td>\n",
       "      <td>-32.600000</td>\n",
       "      <td>-33236.738500</td>\n",
       "      <td>-16196.649500</td>\n",
       "      <td>-26272.287500</td>\n",
       "      <td>-28046.135700</td>\n",
       "      <td>-71439.414000</td>\n",
       "      <td>-39400.000000</td>\n",
       "      <td>-10200.000000</td>\n",
       "      <td>-22159.000000</td>\n",
       "      <td>-73610.740900</td>\n",
       "      <td>-32.600000</td>\n",
       "      <td>-33236.738500</td>\n",
       "      <td>-16196.649500</td>\n",
       "      <td>-26272.287500</td>\n",
       "      <td>-28046.135700</td>\n",
       "      <td>-71439.414000</td>\n",
       "      <td>-39400.000000</td>\n",
       "      <td>-10200.000000</td>\n",
       "      <td>-22159.000000</td>\n",
       "      <td>-73610.740900</td>\n",
       "      <td>-32.600000</td>\n",
       "      <td>-33236.738500</td>\n",
       "      <td>-16196.649500</td>\n",
       "      <td>-26272.287500</td>\n",
       "      <td>-28046.135700</td>\n",
       "      <td>-71439.414000</td>\n",
       "      <td>-39400.000000</td>\n",
       "      <td>-10200.000000</td>\n",
       "      <td>-22159.000000</td>\n",
       "      <td>-73610.740900</td>\n",
       "      <td>-32.600000</td>\n",
       "      <td>-33236.738500</td>\n",
       "      <td>-16196.649500</td>\n",
       "      <td>-26272.287500</td>\n",
       "      <td>-28046.135700</td>\n",
       "      <td>-71439.414000</td>\n",
       "      <td>-39400.000000</td>\n",
       "      <td>-10200.000000</td>\n",
       "      <td>-22159.000000</td>\n",
       "      <td>-73610.740900</td>\n",
       "      <td>-32.600000</td>\n",
       "      <td>-33236.738500</td>\n",
       "      <td>-16196.649500</td>\n",
       "      <td>-26272.287500</td>\n",
       "      <td>-28046.135700</td>\n",
       "      <td>-71439.414000</td>\n",
       "    </tr>\n",
       "    <tr>\n",
       "      <th>25%</th>\n",
       "      <td>-35.173625</td>\n",
       "      <td>-5.000000</td>\n",
       "      <td>-49.000000</td>\n",
       "      <td>-61.000000</td>\n",
       "      <td>-2.680000</td>\n",
       "      <td>-2418.415500</td>\n",
       "      <td>-6369.542000</td>\n",
       "      <td>-4827.157600</td>\n",
       "      <td>-9099.789000</td>\n",
       "      <td>-9271.910400</td>\n",
       "      <td>-35.173625</td>\n",
       "      <td>-5.000000</td>\n",
       "      <td>-49.000000</td>\n",
       "      <td>-60.000000</td>\n",
       "      <td>-2.870000</td>\n",
       "      <td>-2418.415500</td>\n",
       "      <td>-6194.267400</td>\n",
       "      <td>-4605.276500</td>\n",
       "      <td>-8954.648500</td>\n",
       "      <td>-9245.266300</td>\n",
       "      <td>-35.000000</td>\n",
       "      <td>-6.000000</td>\n",
       "      <td>-49.000000</td>\n",
       "      <td>-61.000000</td>\n",
       "      <td>-2.870000</td>\n",
       "      <td>-2418.415500</td>\n",
       "      <td>-6194.267400</td>\n",
       "      <td>-4605.276500</td>\n",
       "      <td>-8954.648500</td>\n",
       "      <td>-9245.266300</td>\n",
       "      <td>-35.000000</td>\n",
       "      <td>-6.000000</td>\n",
       "      <td>-49.000000</td>\n",
       "      <td>-60.573700</td>\n",
       "      <td>-2.870000</td>\n",
       "      <td>-2418.415500</td>\n",
       "      <td>-6194.267400</td>\n",
       "      <td>-4827.157600</td>\n",
       "      <td>-9099.789000</td>\n",
       "      <td>-9245.266300</td>\n",
       "      <td>-36.000000</td>\n",
       "      <td>-6.000000</td>\n",
       "      <td>-49.002825</td>\n",
       "      <td>-60.895250</td>\n",
       "      <td>-2.870000</td>\n",
       "      <td>-2504.463200</td>\n",
       "      <td>-6194.267400</td>\n",
       "      <td>-4827.157600</td>\n",
       "      <td>-9099.789000</td>\n",
       "      <td>-9245.266300</td>\n",
       "      <td>-36.000000</td>\n",
       "      <td>-6.000000</td>\n",
       "      <td>-49.000000</td>\n",
       "      <td>-60.573700</td>\n",
       "      <td>-2.870000</td>\n",
       "      <td>-2504.463200</td>\n",
       "      <td>-6194.267400</td>\n",
       "      <td>-4827.157600</td>\n",
       "      <td>-9099.789000</td>\n",
       "      <td>-9245.266300</td>\n",
       "      <td>-36.000000</td>\n",
       "      <td>-6.000000</td>\n",
       "      <td>-49.287600</td>\n",
       "      <td>-61.000000</td>\n",
       "      <td>-2.980000</td>\n",
       "      <td>-2418.415500</td>\n",
       "      <td>-6369.542000</td>\n",
       "      <td>-4827.157600</td>\n",
       "      <td>-9144.697500</td>\n",
       "      <td>-9271.910400</td>\n",
       "      <td>-36.084800</td>\n",
       "      <td>-6.000000</td>\n",
       "      <td>-50.000000</td>\n",
       "      <td>-63.000000</td>\n",
       "      <td>-3.410000</td>\n",
       "      <td>-2418.415500</td>\n",
       "      <td>-6369.542000</td>\n",
       "      <td>-5157.092800</td>\n",
       "      <td>-9144.697500</td>\n",
       "      <td>-9271.910400</td>\n",
       "      <td>-37.000000</td>\n",
       "      <td>-6.000000</td>\n",
       "      <td>-50.000000</td>\n",
       "      <td>-62.268600</td>\n",
       "      <td>-3.740000</td>\n",
       "      <td>-2418.415500</td>\n",
       "      <td>-6369.542000</td>\n",
       "      <td>-4827.157600</td>\n",
       "      <td>-9152.096300</td>\n",
       "      <td>-9271.910400</td>\n",
       "      <td>-37.336250</td>\n",
       "      <td>-6.000000</td>\n",
       "      <td>-50.000000</td>\n",
       "      <td>-63.000000</td>\n",
       "      <td>-3.740000</td>\n",
       "      <td>-2504.463200</td>\n",
       "      <td>-6369.542000</td>\n",
       "      <td>-4827.157600</td>\n",
       "      <td>-9152.096300</td>\n",
       "      <td>-9271.910400</td>\n",
       "      <td>-38.000000</td>\n",
       "      <td>-6.000000</td>\n",
       "      <td>-50.000000</td>\n",
       "      <td>-62.945400</td>\n",
       "      <td>-3.740000</td>\n",
       "      <td>-2418.415500</td>\n",
       "      <td>-6369.542000</td>\n",
       "      <td>-4827.157600</td>\n",
       "      <td>-9152.096300</td>\n",
       "      <td>-9271.910400</td>\n",
       "      <td>-38.000000</td>\n",
       "      <td>-6.000000</td>\n",
       "      <td>-51.000000</td>\n",
       "      <td>-65.000000</td>\n",
       "      <td>-3.740000</td>\n",
       "      <td>-2247.483400</td>\n",
       "      <td>-6372.051800</td>\n",
       "      <td>-5157.092800</td>\n",
       "      <td>-9312.587100</td>\n",
       "      <td>-9465.906300</td>\n",
       "    </tr>\n",
       "    <tr>\n",
       "      <th>50%</th>\n",
       "      <td>0.000000</td>\n",
       "      <td>0.000000</td>\n",
       "      <td>0.000000</td>\n",
       "      <td>0.000000</td>\n",
       "      <td>1.420000</td>\n",
       "      <td>192.813600</td>\n",
       "      <td>269.701500</td>\n",
       "      <td>504.019700</td>\n",
       "      <td>-174.794200</td>\n",
       "      <td>635.276000</td>\n",
       "      <td>0.000000</td>\n",
       "      <td>0.000000</td>\n",
       "      <td>0.000000</td>\n",
       "      <td>0.000000</td>\n",
       "      <td>1.420000</td>\n",
       "      <td>195.200500</td>\n",
       "      <td>762.337300</td>\n",
       "      <td>523.269100</td>\n",
       "      <td>-162.943000</td>\n",
       "      <td>1082.392200</td>\n",
       "      <td>0.000000</td>\n",
       "      <td>0.000000</td>\n",
       "      <td>0.000000</td>\n",
       "      <td>0.000000</td>\n",
       "      <td>1.200000</td>\n",
       "      <td>195.200500</td>\n",
       "      <td>269.701500</td>\n",
       "      <td>504.019700</td>\n",
       "      <td>-174.794200</td>\n",
       "      <td>635.276000</td>\n",
       "      <td>0.000000</td>\n",
       "      <td>0.000000</td>\n",
       "      <td>0.000000</td>\n",
       "      <td>0.000000</td>\n",
       "      <td>1.200000</td>\n",
       "      <td>355.823700</td>\n",
       "      <td>762.337300</td>\n",
       "      <td>523.269100</td>\n",
       "      <td>-162.943000</td>\n",
       "      <td>1082.392200</td>\n",
       "      <td>0.000000</td>\n",
       "      <td>0.000000</td>\n",
       "      <td>0.000000</td>\n",
       "      <td>0.000000</td>\n",
       "      <td>1.420000</td>\n",
       "      <td>195.200500</td>\n",
       "      <td>269.701500</td>\n",
       "      <td>504.019700</td>\n",
       "      <td>-174.794200</td>\n",
       "      <td>1082.392200</td>\n",
       "      <td>0.000000</td>\n",
       "      <td>0.000000</td>\n",
       "      <td>0.000000</td>\n",
       "      <td>0.000000</td>\n",
       "      <td>1.500000</td>\n",
       "      <td>192.813600</td>\n",
       "      <td>762.337300</td>\n",
       "      <td>523.269100</td>\n",
       "      <td>-162.943000</td>\n",
       "      <td>1474.511300</td>\n",
       "      <td>0.000000</td>\n",
       "      <td>0.000000</td>\n",
       "      <td>0.000000</td>\n",
       "      <td>0.000000</td>\n",
       "      <td>1.560000</td>\n",
       "      <td>192.813600</td>\n",
       "      <td>269.701500</td>\n",
       "      <td>504.019700</td>\n",
       "      <td>-174.794200</td>\n",
       "      <td>1082.392200</td>\n",
       "      <td>0.000000</td>\n",
       "      <td>0.000000</td>\n",
       "      <td>0.000000</td>\n",
       "      <td>0.000000</td>\n",
       "      <td>1.500000</td>\n",
       "      <td>192.813600</td>\n",
       "      <td>269.701500</td>\n",
       "      <td>354.899500</td>\n",
       "      <td>-219.458400</td>\n",
       "      <td>635.276000</td>\n",
       "      <td>0.000000</td>\n",
       "      <td>0.000000</td>\n",
       "      <td>0.000000</td>\n",
       "      <td>0.000000</td>\n",
       "      <td>1.200000</td>\n",
       "      <td>195.200500</td>\n",
       "      <td>269.701500</td>\n",
       "      <td>354.899500</td>\n",
       "      <td>-174.794200</td>\n",
       "      <td>635.276000</td>\n",
       "      <td>0.000000</td>\n",
       "      <td>0.000000</td>\n",
       "      <td>0.000000</td>\n",
       "      <td>0.000000</td>\n",
       "      <td>1.200000</td>\n",
       "      <td>192.813600</td>\n",
       "      <td>219.281300</td>\n",
       "      <td>327.280400</td>\n",
       "      <td>-219.458400</td>\n",
       "      <td>635.276000</td>\n",
       "      <td>0.000000</td>\n",
       "      <td>0.000000</td>\n",
       "      <td>0.000000</td>\n",
       "      <td>0.000000</td>\n",
       "      <td>1.500000</td>\n",
       "      <td>192.813600</td>\n",
       "      <td>219.281300</td>\n",
       "      <td>327.280400</td>\n",
       "      <td>-174.794200</td>\n",
       "      <td>635.276000</td>\n",
       "      <td>0.000000</td>\n",
       "      <td>0.000000</td>\n",
       "      <td>0.000000</td>\n",
       "      <td>0.000000</td>\n",
       "      <td>1.200000</td>\n",
       "      <td>195.200500</td>\n",
       "      <td>219.281300</td>\n",
       "      <td>327.280400</td>\n",
       "      <td>-174.794200</td>\n",
       "      <td>496.914800</td>\n",
       "    </tr>\n",
       "    <tr>\n",
       "      <th>75%</th>\n",
       "      <td>39.000000</td>\n",
       "      <td>5.000000</td>\n",
       "      <td>51.000000</td>\n",
       "      <td>64.071400</td>\n",
       "      <td>4.340000</td>\n",
       "      <td>2676.372400</td>\n",
       "      <td>6490.399600</td>\n",
       "      <td>5399.618300</td>\n",
       "      <td>9787.322500</td>\n",
       "      <td>9437.765600</td>\n",
       "      <td>39.759875</td>\n",
       "      <td>5.000000</td>\n",
       "      <td>51.714300</td>\n",
       "      <td>66.000000</td>\n",
       "      <td>4.340000</td>\n",
       "      <td>2786.935900</td>\n",
       "      <td>6490.399600</td>\n",
       "      <td>5399.618300</td>\n",
       "      <td>9787.322500</td>\n",
       "      <td>9437.765600</td>\n",
       "      <td>40.000000</td>\n",
       "      <td>5.000000</td>\n",
       "      <td>51.037275</td>\n",
       "      <td>65.614250</td>\n",
       "      <td>4.250000</td>\n",
       "      <td>2676.372400</td>\n",
       "      <td>6087.291800</td>\n",
       "      <td>5399.618300</td>\n",
       "      <td>9787.322500</td>\n",
       "      <td>9437.765600</td>\n",
       "      <td>40.577250</td>\n",
       "      <td>5.000000</td>\n",
       "      <td>51.000000</td>\n",
       "      <td>66.000000</td>\n",
       "      <td>4.340000</td>\n",
       "      <td>2676.372400</td>\n",
       "      <td>6087.291800</td>\n",
       "      <td>5399.618300</td>\n",
       "      <td>9787.322500</td>\n",
       "      <td>9437.765600</td>\n",
       "      <td>40.577250</td>\n",
       "      <td>5.000000</td>\n",
       "      <td>51.000000</td>\n",
       "      <td>66.743600</td>\n",
       "      <td>4.430000</td>\n",
       "      <td>2536.242400</td>\n",
       "      <td>6490.399600</td>\n",
       "      <td>5399.618300</td>\n",
       "      <td>9865.380400</td>\n",
       "      <td>9538.819600</td>\n",
       "      <td>40.000000</td>\n",
       "      <td>6.000000</td>\n",
       "      <td>51.383000</td>\n",
       "      <td>67.000000</td>\n",
       "      <td>4.430000</td>\n",
       "      <td>2536.242400</td>\n",
       "      <td>6490.399600</td>\n",
       "      <td>5399.618300</td>\n",
       "      <td>9865.380400</td>\n",
       "      <td>9538.819600</td>\n",
       "      <td>41.000000</td>\n",
       "      <td>5.731300</td>\n",
       "      <td>51.037275</td>\n",
       "      <td>66.432600</td>\n",
       "      <td>4.430000</td>\n",
       "      <td>2676.372400</td>\n",
       "      <td>6490.399600</td>\n",
       "      <td>5399.618300</td>\n",
       "      <td>9865.380400</td>\n",
       "      <td>9538.819600</td>\n",
       "      <td>41.000000</td>\n",
       "      <td>5.731300</td>\n",
       "      <td>51.000000</td>\n",
       "      <td>66.461900</td>\n",
       "      <td>4.430000</td>\n",
       "      <td>2786.935900</td>\n",
       "      <td>6490.399600</td>\n",
       "      <td>5399.618300</td>\n",
       "      <td>9865.380400</td>\n",
       "      <td>9538.819600</td>\n",
       "      <td>41.000000</td>\n",
       "      <td>6.000000</td>\n",
       "      <td>51.360200</td>\n",
       "      <td>67.000000</td>\n",
       "      <td>4.430000</td>\n",
       "      <td>2786.935900</td>\n",
       "      <td>6490.399600</td>\n",
       "      <td>5399.618300</td>\n",
       "      <td>9865.380400</td>\n",
       "      <td>9538.819600</td>\n",
       "      <td>41.000000</td>\n",
       "      <td>6.000000</td>\n",
       "      <td>51.193550</td>\n",
       "      <td>68.000000</td>\n",
       "      <td>4.550000</td>\n",
       "      <td>2676.372400</td>\n",
       "      <td>6490.399600</td>\n",
       "      <td>5461.803600</td>\n",
       "      <td>9865.380400</td>\n",
       "      <td>9752.462000</td>\n",
       "      <td>41.135000</td>\n",
       "      <td>5.520350</td>\n",
       "      <td>52.000000</td>\n",
       "      <td>68.036950</td>\n",
       "      <td>4.550000</td>\n",
       "      <td>2676.372400</td>\n",
       "      <td>6087.291800</td>\n",
       "      <td>5461.803600</td>\n",
       "      <td>9865.380400</td>\n",
       "      <td>9752.462000</td>\n",
       "      <td>42.000000</td>\n",
       "      <td>5.000000</td>\n",
       "      <td>52.000000</td>\n",
       "      <td>67.000000</td>\n",
       "      <td>4.880000</td>\n",
       "      <td>2786.935900</td>\n",
       "      <td>6087.291800</td>\n",
       "      <td>5461.803600</td>\n",
       "      <td>9865.380400</td>\n",
       "      <td>9752.462000</td>\n",
       "    </tr>\n",
       "    <tr>\n",
       "      <th>max</th>\n",
       "      <td>31600.000000</td>\n",
       "      <td>14600.000000</td>\n",
       "      <td>22021.000000</td>\n",
       "      <td>141083.000000</td>\n",
       "      <td>15.960000</td>\n",
       "      <td>25173.836000</td>\n",
       "      <td>19899.824200</td>\n",
       "      <td>22441.050100</td>\n",
       "      <td>32234.630200</td>\n",
       "      <td>149904.727600</td>\n",
       "      <td>31600.000000</td>\n",
       "      <td>14600.000000</td>\n",
       "      <td>22021.000000</td>\n",
       "      <td>141083.000000</td>\n",
       "      <td>15.960000</td>\n",
       "      <td>25173.836000</td>\n",
       "      <td>19899.824200</td>\n",
       "      <td>22441.050100</td>\n",
       "      <td>32234.630200</td>\n",
       "      <td>149904.727600</td>\n",
       "      <td>31600.000000</td>\n",
       "      <td>14600.000000</td>\n",
       "      <td>22021.000000</td>\n",
       "      <td>141083.000000</td>\n",
       "      <td>15.960000</td>\n",
       "      <td>25173.836000</td>\n",
       "      <td>19899.824200</td>\n",
       "      <td>22441.050100</td>\n",
       "      <td>32234.630200</td>\n",
       "      <td>149904.727600</td>\n",
       "      <td>31600.000000</td>\n",
       "      <td>14600.000000</td>\n",
       "      <td>22021.000000</td>\n",
       "      <td>141083.000000</td>\n",
       "      <td>15.960000</td>\n",
       "      <td>25173.836000</td>\n",
       "      <td>19899.824200</td>\n",
       "      <td>22441.050100</td>\n",
       "      <td>32234.630200</td>\n",
       "      <td>149904.727600</td>\n",
       "      <td>31600.000000</td>\n",
       "      <td>14600.000000</td>\n",
       "      <td>22021.000000</td>\n",
       "      <td>141083.000000</td>\n",
       "      <td>15.960000</td>\n",
       "      <td>25173.836000</td>\n",
       "      <td>19899.824200</td>\n",
       "      <td>22441.050100</td>\n",
       "      <td>32234.630200</td>\n",
       "      <td>149904.727600</td>\n",
       "      <td>31600.000000</td>\n",
       "      <td>14600.000000</td>\n",
       "      <td>22021.000000</td>\n",
       "      <td>141083.000000</td>\n",
       "      <td>15.960000</td>\n",
       "      <td>25173.836000</td>\n",
       "      <td>19899.824200</td>\n",
       "      <td>22441.050100</td>\n",
       "      <td>32234.630200</td>\n",
       "      <td>149904.727600</td>\n",
       "      <td>31600.000000</td>\n",
       "      <td>14600.000000</td>\n",
       "      <td>22021.000000</td>\n",
       "      <td>141083.000000</td>\n",
       "      <td>15.960000</td>\n",
       "      <td>25173.836000</td>\n",
       "      <td>19899.824200</td>\n",
       "      <td>22441.050100</td>\n",
       "      <td>32234.630200</td>\n",
       "      <td>149904.727600</td>\n",
       "      <td>31600.000000</td>\n",
       "      <td>14600.000000</td>\n",
       "      <td>22021.000000</td>\n",
       "      <td>141083.000000</td>\n",
       "      <td>15.960000</td>\n",
       "      <td>25173.836000</td>\n",
       "      <td>19899.824200</td>\n",
       "      <td>22441.050100</td>\n",
       "      <td>32234.630200</td>\n",
       "      <td>149904.727600</td>\n",
       "      <td>31600.000000</td>\n",
       "      <td>14600.000000</td>\n",
       "      <td>22021.000000</td>\n",
       "      <td>141083.000000</td>\n",
       "      <td>15.960000</td>\n",
       "      <td>25173.836000</td>\n",
       "      <td>19899.824200</td>\n",
       "      <td>22441.050100</td>\n",
       "      <td>32234.630200</td>\n",
       "      <td>149904.727600</td>\n",
       "      <td>31600.000000</td>\n",
       "      <td>14600.000000</td>\n",
       "      <td>22021.000000</td>\n",
       "      <td>141083.000000</td>\n",
       "      <td>15.960000</td>\n",
       "      <td>25173.836000</td>\n",
       "      <td>19899.824200</td>\n",
       "      <td>22441.050100</td>\n",
       "      <td>32234.630200</td>\n",
       "      <td>149904.727600</td>\n",
       "      <td>31600.000000</td>\n",
       "      <td>14600.000000</td>\n",
       "      <td>22021.000000</td>\n",
       "      <td>141083.000000</td>\n",
       "      <td>15.960000</td>\n",
       "      <td>25173.836000</td>\n",
       "      <td>19899.824200</td>\n",
       "      <td>22441.050100</td>\n",
       "      <td>32234.630200</td>\n",
       "      <td>149904.727600</td>\n",
       "      <td>31600.000000</td>\n",
       "      <td>14600.000000</td>\n",
       "      <td>22021.000000</td>\n",
       "      <td>141083.000000</td>\n",
       "      <td>15.960000</td>\n",
       "      <td>25173.836000</td>\n",
       "      <td>19899.824200</td>\n",
       "      <td>22441.050100</td>\n",
       "      <td>32234.630200</td>\n",
       "      <td>149904.727600</td>\n",
       "    </tr>\n",
       "  </tbody>\n",
       "</table>\n",
       "</div>"
      ],
      "text/plain": [
       "       1_diffClosing stocks(kmt)  1_diffExports(kmt)  1_diffImports(kmt)  \\\n",
       "count                9898.000000        10159.000000        10008.000000   \n",
       "mean                    0.517624            3.772813            1.581989   \n",
       "std                   761.965975          543.533615          677.256249   \n",
       "min                -39400.000000       -10200.000000       -22159.000000   \n",
       "25%                   -35.173625           -5.000000          -49.000000   \n",
       "50%                     0.000000            0.000000            0.000000   \n",
       "75%                    39.000000            5.000000           51.000000   \n",
       "max                 31600.000000        14600.000000        22021.000000   \n",
       "\n",
       "       1_diffRefinery intake(kmt)     1_diffWTI  1_diffSumClosing stocks(kmt)  \\\n",
       "count                10159.000000  10159.000000                  10159.000000   \n",
       "mean                     3.531208      0.567494                     57.443267   \n",
       "std                   1874.477959      6.699482                   6016.337184   \n",
       "min                 -73610.740900    -32.600000                 -33236.738500   \n",
       "25%                    -61.000000     -2.680000                  -2418.415500   \n",
       "50%                      0.000000      1.420000                    192.813600   \n",
       "75%                     64.071400      4.340000                   2676.372400   \n",
       "max                 141083.000000     15.960000                  25173.836000   \n",
       "\n",
       "       1_diffSumExports(kmt)  1_diffSumImports(kmt)  1_diffSumProduction(kmt)  \\\n",
       "count           10159.000000           10159.000000              10159.000000   \n",
       "mean              302.377589             129.356949                387.809522   \n",
       "std              7961.169490            9111.023583              12819.753888   \n",
       "min            -16196.649500          -26272.287500             -28046.135700   \n",
       "25%             -6369.542000           -4827.157600              -9099.789000   \n",
       "50%               269.701500             504.019700               -174.794200   \n",
       "75%              6490.399600            5399.618300               9787.322500   \n",
       "max             19899.824200           22441.050100              32234.630200   \n",
       "\n",
       "       1_diffSumRefinery intake(kmt)  2_diffClosing stocks(kmt)  \\\n",
       "count                   10159.000000                9902.000000   \n",
       "mean                      305.419239                   0.742556   \n",
       "std                     20404.435382                 761.724351   \n",
       "min                    -71439.414000              -39400.000000   \n",
       "25%                     -9271.910400                 -35.173625   \n",
       "50%                       635.276000                   0.000000   \n",
       "75%                      9437.765600                  39.759875   \n",
       "max                    149904.727600               31600.000000   \n",
       "\n",
       "       2_diffExports(kmt)  2_diffImports(kmt)  2_diffRefinery intake(kmt)  \\\n",
       "count        10159.000000        10011.000000                10159.000000   \n",
       "mean             4.959824            2.777854                    6.552034   \n",
       "std            543.609346          677.185134                 1874.895261   \n",
       "min         -10200.000000       -22159.000000               -73610.740900   \n",
       "25%             -5.000000          -49.000000                  -60.000000   \n",
       "50%              0.000000            0.000000                    0.000000   \n",
       "75%              5.000000           51.714300                   66.000000   \n",
       "max          14600.000000        22021.000000               141083.000000   \n",
       "\n",
       "          2_diffWTI  2_diffSumClosing stocks(kmt)  2_diffSumExports(kmt)  \\\n",
       "count  10159.000000                  10159.000000           10159.000000   \n",
       "mean       0.543507                     81.652426             371.192552   \n",
       "std        6.709918                   6022.238313            7964.623137   \n",
       "min      -32.600000                 -33236.738500          -16196.649500   \n",
       "25%       -2.870000                  -2418.415500           -6194.267400   \n",
       "50%        1.420000                    195.200500             762.337300   \n",
       "75%        4.340000                   2786.935900            6490.399600   \n",
       "max       15.960000                  25173.836000           19899.824200   \n",
       "\n",
       "       2_diffSumImports(kmt)  2_diffSumProduction(kmt)  \\\n",
       "count           10159.000000              10159.000000   \n",
       "mean              212.352611                597.579487   \n",
       "std              9104.624705              12705.850266   \n",
       "min            -26272.287500             -28046.135700   \n",
       "25%             -4605.276500              -8954.648500   \n",
       "50%               523.269100               -162.943000   \n",
       "75%              5399.618300               9787.322500   \n",
       "max             22441.050100              32234.630200   \n",
       "\n",
       "       2_diffSumRefinery intake(kmt)  3_diffClosing stocks(kmt)  \\\n",
       "count                   10159.000000                9906.000000   \n",
       "mean                      476.154170                   0.756207   \n",
       "std                     20349.593763                 760.428316   \n",
       "min                    -71439.414000              -39400.000000   \n",
       "25%                     -9245.266300                 -35.000000   \n",
       "50%                      1082.392200                   0.000000   \n",
       "75%                      9437.765600                  40.000000   \n",
       "max                    149904.727600               31600.000000   \n",
       "\n",
       "       3_diffExports(kmt)  3_diffImports(kmt)  3_diffRefinery intake(kmt)  \\\n",
       "count        10159.000000        10014.000000                10159.000000   \n",
       "mean             3.266168            2.085293                    4.444096   \n",
       "std            540.212842          675.497710                 1873.822198   \n",
       "min         -10200.000000       -22159.000000               -73610.740900   \n",
       "25%             -6.000000          -49.000000                  -61.000000   \n",
       "50%              0.000000            0.000000                    0.000000   \n",
       "75%              5.000000           51.037275                   65.614250   \n",
       "max          14600.000000        22021.000000               141083.000000   \n",
       "\n",
       "          3_diffWTI  3_diffSumClosing stocks(kmt)  3_diffSumExports(kmt)  \\\n",
       "count  10159.000000                  10159.000000           10159.000000   \n",
       "mean       0.494593                     67.252350             262.106381   \n",
       "std        6.706375                   6016.557513            7837.376082   \n",
       "min      -32.600000                 -33236.738500          -16196.649500   \n",
       "25%       -2.870000                  -2418.415500           -6194.267400   \n",
       "50%        1.200000                    195.200500             269.701500   \n",
       "75%        4.250000                   2676.372400            6087.291800   \n",
       "max       15.960000                  25173.836000           19899.824200   \n",
       "\n",
       "       3_diffSumImports(kmt)  3_diffSumProduction(kmt)  \\\n",
       "count           10159.000000              10159.000000   \n",
       "mean              150.980411                475.690192   \n",
       "std              9066.522039              12602.407490   \n",
       "min            -26272.287500             -28046.135700   \n",
       "25%             -4605.276500              -8954.648500   \n",
       "50%               504.019700               -174.794200   \n",
       "75%              5399.618300               9787.322500   \n",
       "max             22441.050100              32234.630200   \n",
       "\n",
       "       3_diffSumRefinery intake(kmt)  4_diffClosing stocks(kmt)  \\\n",
       "count                   10159.000000                9910.000000   \n",
       "mean                      367.901279                   0.929504   \n",
       "std                     20298.699148                 760.189186   \n",
       "min                    -71439.414000              -39400.000000   \n",
       "25%                     -9245.266300                 -35.000000   \n",
       "50%                       635.276000                   0.000000   \n",
       "75%                      9437.765600                  40.577250   \n",
       "max                    149904.727600               31600.000000   \n",
       "\n",
       "       4_diffExports(kmt)  4_diffImports(kmt)  4_diffRefinery intake(kmt)  \\\n",
       "count        10159.000000        10017.000000                10159.000000   \n",
       "mean             3.901432            1.851947                    6.004567   \n",
       "std            539.922887          675.381751                 1874.232188   \n",
       "min         -10200.000000       -22159.000000               -73610.740900   \n",
       "25%             -6.000000          -49.000000                  -60.573700   \n",
       "50%              0.000000            0.000000                    0.000000   \n",
       "75%              5.000000           51.000000                   66.000000   \n",
       "max          14600.000000        22021.000000               141083.000000   \n",
       "\n",
       "          4_diffWTI  4_diffSumClosing stocks(kmt)  4_diffSumExports(kmt)  \\\n",
       "count  10159.000000                  10159.000000           10159.000000   \n",
       "mean       0.506218                     74.957057             278.104558   \n",
       "std        6.712582                   6015.310966            7847.959689   \n",
       "min      -32.600000                 -33236.738500          -16196.649500   \n",
       "25%       -2.870000                  -2418.415500           -6194.267400   \n",
       "50%        1.200000                    355.823700             762.337300   \n",
       "75%        4.340000                   2676.372400            6087.291800   \n",
       "max       15.960000                  25173.836000           19899.824200   \n",
       "\n",
       "       4_diffSumImports(kmt)  4_diffSumProduction(kmt)  \\\n",
       "count           10159.000000              10159.000000   \n",
       "mean              140.658140                505.278104   \n",
       "std              9089.658713              12614.537370   \n",
       "min            -26272.287500             -28046.135700   \n",
       "25%             -4827.157600              -9099.789000   \n",
       "50%               523.269100               -162.943000   \n",
       "75%              5399.618300               9787.322500   \n",
       "max             22441.050100              32234.630200   \n",
       "\n",
       "       4_diffSumRefinery intake(kmt)  5_diffClosing stocks(kmt)  \\\n",
       "count                   10159.000000                9914.000000   \n",
       "mean                      454.249259                   0.148683   \n",
       "std                     20299.721440                 760.086752   \n",
       "min                    -71439.414000              -39400.000000   \n",
       "25%                     -9245.266300                 -36.000000   \n",
       "50%                      1082.392200                   0.000000   \n",
       "75%                      9437.765600                  40.577250   \n",
       "max                    149904.727600               31600.000000   \n",
       "\n",
       "       5_diffExports(kmt)  5_diffImports(kmt)  5_diffRefinery intake(kmt)  \\\n",
       "count        10159.000000        10020.000000                10159.000000   \n",
       "mean             3.201682            1.966797                    6.374611   \n",
       "std            540.748238          676.300343                 1874.231460   \n",
       "min         -10200.000000       -22159.000000               -73610.740900   \n",
       "25%             -6.000000          -49.002825                  -60.895250   \n",
       "50%              0.000000            0.000000                    0.000000   \n",
       "75%              5.000000           51.000000                   66.743600   \n",
       "max          14600.000000        22021.000000               141083.000000   \n",
       "\n",
       "          5_diffWTI  5_diffSumClosing stocks(kmt)  5_diffSumExports(kmt)  \\\n",
       "count  10159.000000                  10159.000000           10159.000000   \n",
       "mean       0.575677                     14.960832             264.411945   \n",
       "std        6.737413                   6020.245332            7883.368182   \n",
       "min      -32.600000                 -33236.738500          -16196.649500   \n",
       "25%       -2.870000                  -2504.463200           -6194.267400   \n",
       "50%        1.420000                    195.200500             269.701500   \n",
       "75%        4.430000                   2536.242400            6490.399600   \n",
       "max       15.960000                  25173.836000           19899.824200   \n",
       "\n",
       "       5_diffSumImports(kmt)  5_diffSumProduction(kmt)  \\\n",
       "count           10159.000000              10159.000000   \n",
       "mean              141.656697                490.111846   \n",
       "std              9131.282055              12643.816541   \n",
       "min            -26272.287500             -28046.135700   \n",
       "25%             -4827.157600              -9099.789000   \n",
       "50%               504.019700               -174.794200   \n",
       "75%              5399.618300               9865.380400   \n",
       "max             22441.050100              32234.630200   \n",
       "\n",
       "       5_diffSumRefinery intake(kmt)  6_diffClosing stocks(kmt)  \\\n",
       "count                   10159.000000                9918.000000   \n",
       "mean                      498.325737                  -0.561892   \n",
       "std                     20320.669476                 759.828553   \n",
       "min                    -71439.414000              -39400.000000   \n",
       "25%                     -9245.266300                 -36.000000   \n",
       "50%                      1082.392200                   0.000000   \n",
       "75%                      9538.819600                  40.000000   \n",
       "max                    149904.727600               31600.000000   \n",
       "\n",
       "       6_diffExports(kmt)  6_diffImports(kmt)  6_diffRefinery intake(kmt)  \\\n",
       "count        10159.000000        10023.000000                10159.000000   \n",
       "mean             4.305713            2.314438                    7.085336   \n",
       "std            542.334204          678.121502                 1875.048388   \n",
       "min         -10200.000000       -22159.000000               -73610.740900   \n",
       "25%             -6.000000          -49.000000                  -60.573700   \n",
       "50%              0.000000            0.000000                    0.000000   \n",
       "75%              6.000000           51.383000                   67.000000   \n",
       "max          14600.000000        22021.000000               141083.000000   \n",
       "\n",
       "          6_diffWTI  6_diffSumClosing stocks(kmt)  6_diffSumExports(kmt)  \\\n",
       "count  10159.000000                  10159.000000           10159.000000   \n",
       "mean       0.600560                    -13.577925             317.639705   \n",
       "std        6.750667                   6022.932328            7878.614835   \n",
       "min      -32.600000                 -33236.738500          -16196.649500   \n",
       "25%       -2.870000                  -2504.463200           -6194.267400   \n",
       "50%        1.500000                    192.813600             762.337300   \n",
       "75%        4.430000                   2536.242400            6490.399600   \n",
       "max       15.960000                  25173.836000           19899.824200   \n",
       "\n",
       "       6_diffSumImports(kmt)  6_diffSumProduction(kmt)  \\\n",
       "count           10159.000000              10159.000000   \n",
       "mean              181.657454                542.732103   \n",
       "std              9147.970064              12653.844123   \n",
       "min            -26272.287500             -28046.135700   \n",
       "25%             -4827.157600              -9099.789000   \n",
       "50%               523.269100               -162.943000   \n",
       "75%              5399.618300               9865.380400   \n",
       "max             22441.050100              32234.630200   \n",
       "\n",
       "       6_diffSumRefinery intake(kmt)  7_diffClosing stocks(kmt)  \\\n",
       "count                   10159.000000                9921.000000   \n",
       "mean                      531.215299                   0.123963   \n",
       "std                     20334.409775                 759.399822   \n",
       "min                    -71439.414000              -39400.000000   \n",
       "25%                     -9245.266300                 -36.000000   \n",
       "50%                      1474.511300                   0.000000   \n",
       "75%                      9538.819600                  41.000000   \n",
       "max                    149904.727600               31600.000000   \n",
       "\n",
       "       7_diffExports(kmt)  7_diffImports(kmt)  7_diffRefinery intake(kmt)  \\\n",
       "count        10159.000000        10026.000000                10159.000000   \n",
       "mean             3.266089            2.217709                    5.442248   \n",
       "std            543.639557          679.469411                 1875.388295   \n",
       "min         -10200.000000       -22159.000000               -73610.740900   \n",
       "25%             -6.000000          -49.287600                  -61.000000   \n",
       "50%              0.000000            0.000000                    0.000000   \n",
       "75%              5.731300           51.037275                   66.432600   \n",
       "max          14600.000000        22021.000000               141083.000000   \n",
       "\n",
       "          7_diffWTI  7_diffSumClosing stocks(kmt)  7_diffSumExports(kmt)  \\\n",
       "count  10159.000000                  10159.000000           10159.000000   \n",
       "mean       0.576707                     27.380125             261.308999   \n",
       "std        6.766100                   6020.097070            7892.909126   \n",
       "min      -32.600000                 -33236.738500          -16196.649500   \n",
       "25%       -2.980000                  -2418.415500           -6369.542000   \n",
       "50%        1.560000                    192.813600             269.701500   \n",
       "75%        4.430000                   2676.372400            6490.399600   \n",
       "max       15.960000                  25173.836000           19899.824200   \n",
       "\n",
       "       7_diffSumImports(kmt)  7_diffSumProduction(kmt)  \\\n",
       "count           10159.000000              10159.000000   \n",
       "mean              137.161646                426.688120   \n",
       "std              9152.891025              12681.073428   \n",
       "min            -26272.287500             -28046.135700   \n",
       "25%             -4827.157600              -9144.697500   \n",
       "50%               504.019700               -174.794200   \n",
       "75%              5399.618300               9865.380400   \n",
       "max             22441.050100              32234.630200   \n",
       "\n",
       "       7_diffSumRefinery intake(kmt)  8_diffClosing stocks(kmt)  \\\n",
       "count                   10159.000000                9924.000000   \n",
       "mean                      376.907147                   0.422250   \n",
       "std                     20347.741969                 758.955748   \n",
       "min                    -71439.414000              -39400.000000   \n",
       "25%                     -9271.910400                 -36.084800   \n",
       "50%                      1082.392200                   0.000000   \n",
       "75%                      9538.819600                  41.000000   \n",
       "max                    149904.727600               31600.000000   \n",
       "\n",
       "       8_diffExports(kmt)  8_diffImports(kmt)  8_diffRefinery intake(kmt)  \\\n",
       "count        10159.000000        10029.000000                10159.000000   \n",
       "mean             3.295281            0.594964                    3.968487   \n",
       "std            543.953575          681.603134                 1876.233179   \n",
       "min         -10200.000000       -22159.000000               -73610.740900   \n",
       "25%             -6.000000          -50.000000                  -63.000000   \n",
       "50%              0.000000            0.000000                    0.000000   \n",
       "75%              5.731300           51.000000                   66.461900   \n",
       "max          14600.000000        22021.000000               141083.000000   \n",
       "\n",
       "          8_diffWTI  8_diffSumClosing stocks(kmt)  8_diffSumExports(kmt)  \\\n",
       "count  10159.000000                  10159.000000           10159.000000   \n",
       "mean       0.517805                     56.568751             260.421113   \n",
       "std        6.788187                   6037.621640            7898.750968   \n",
       "min      -32.600000                 -33236.738500          -16196.649500   \n",
       "25%       -3.410000                  -2418.415500           -6369.542000   \n",
       "50%        1.500000                    192.813600             269.701500   \n",
       "75%        4.430000                   2786.935900            6490.399600   \n",
       "max       15.960000                  25173.836000           19899.824200   \n",
       "\n",
       "       8_diffSumImports(kmt)  8_diffSumProduction(kmt)  \\\n",
       "count           10159.000000              10159.000000   \n",
       "mean               62.933553                429.395413   \n",
       "std              9156.391802              12711.320010   \n",
       "min            -26272.287500             -28046.135700   \n",
       "25%             -5157.092800              -9144.697500   \n",
       "50%               354.899500               -219.458400   \n",
       "75%              5399.618300               9865.380400   \n",
       "max             22441.050100              32234.630200   \n",
       "\n",
       "       8_diffSumRefinery intake(kmt)  9_diffClosing stocks(kmt)  \\\n",
       "count                   10159.000000                9927.000000   \n",
       "mean                      315.572022                   0.916874   \n",
       "std                     20360.055882                 758.368019   \n",
       "min                    -71439.414000              -39400.000000   \n",
       "25%                     -9271.910400                 -37.000000   \n",
       "50%                       635.276000                   0.000000   \n",
       "75%                      9538.819600                  41.000000   \n",
       "max                    149904.727600               31600.000000   \n",
       "\n",
       "       9_diffExports(kmt)  9_diffImports(kmt)  9_diffRefinery intake(kmt)  \\\n",
       "count        10159.000000        10032.000000                10159.000000   \n",
       "mean             3.142004            1.824298                    5.374090   \n",
       "std            541.088837          681.201998                 1876.047332   \n",
       "min         -10200.000000       -22159.000000               -73610.740900   \n",
       "25%             -6.000000          -50.000000                  -62.268600   \n",
       "50%              0.000000            0.000000                    0.000000   \n",
       "75%              6.000000           51.360200                   67.000000   \n",
       "max          14600.000000        22021.000000               141083.000000   \n",
       "\n",
       "          9_diffWTI  9_diffSumClosing stocks(kmt)  9_diffSumExports(kmt)  \\\n",
       "count  10159.000000                  10159.000000           10159.000000   \n",
       "mean       0.472697                     83.724901             237.529515   \n",
       "std        6.801640                   6040.114786            7897.645932   \n",
       "min      -32.600000                 -33236.738500          -16196.649500   \n",
       "25%       -3.740000                  -2418.415500           -6369.542000   \n",
       "50%        1.200000                    195.200500             269.701500   \n",
       "75%        4.430000                   2786.935900            6490.399600   \n",
       "max       15.960000                  25173.836000           19899.824200   \n",
       "\n",
       "       9_diffSumImports(kmt)  9_diffSumProduction(kmt)  \\\n",
       "count           10159.000000              10159.000000   \n",
       "mean              110.191622                462.278965   \n",
       "std              9132.844984              12714.589179   \n",
       "min            -26272.287500             -28046.135700   \n",
       "25%             -4827.157600              -9152.096300   \n",
       "50%               354.899500               -174.794200   \n",
       "75%              5399.618300               9865.380400   \n",
       "max             22441.050100              32234.630200   \n",
       "\n",
       "       9_diffSumRefinery intake(kmt)  10_diffClosing stocks(kmt)  \\\n",
       "count                   10159.000000                 9931.000000   \n",
       "mean                      398.929837                   -0.029621   \n",
       "std                     20349.402748                  757.501724   \n",
       "min                    -71439.414000               -39400.000000   \n",
       "25%                     -9271.910400                  -37.336250   \n",
       "50%                       635.276000                    0.000000   \n",
       "75%                      9538.819600                   41.000000   \n",
       "max                    149904.727600                31600.000000   \n",
       "\n",
       "       10_diffExports(kmt)  10_diffImports(kmt)  10_diffRefinery intake(kmt)  \\\n",
       "count         10159.000000         10035.000000                 10159.000000   \n",
       "mean              3.262001             1.666753                     5.800392   \n",
       "std             538.739515           680.373585                  1876.392698   \n",
       "min          -10200.000000        -22159.000000                -73610.740900   \n",
       "25%              -6.000000           -50.000000                   -63.000000   \n",
       "50%               0.000000             0.000000                     0.000000   \n",
       "75%               6.000000            51.193550                    68.000000   \n",
       "max           14600.000000         22021.000000                141083.000000   \n",
       "\n",
       "         10_diffWTI  10_diffSumClosing stocks(kmt)  10_diffSumExports(kmt)  \\\n",
       "count  10159.000000                   10159.000000            10159.000000   \n",
       "mean       0.517833                       4.234261              240.206214   \n",
       "std        6.806354                    6039.745140             7901.891816   \n",
       "min      -32.600000                  -33236.738500           -16196.649500   \n",
       "25%       -3.740000                   -2504.463200            -6369.542000   \n",
       "50%        1.200000                     192.813600              219.281300   \n",
       "75%        4.550000                    2676.372400             6490.399600   \n",
       "max       15.960000                   25173.836000            19899.824200   \n",
       "\n",
       "       10_diffSumImports(kmt)  10_diffSumProduction(kmt)  \\\n",
       "count            10159.000000               10159.000000   \n",
       "mean               125.844331                 394.037004   \n",
       "std               9148.828479               12696.513769   \n",
       "min             -26272.287500              -28046.135700   \n",
       "25%              -4827.157600               -9152.096300   \n",
       "50%                327.280400                -219.458400   \n",
       "75%               5461.803600                9865.380400   \n",
       "max              22441.050100               32234.630200   \n",
       "\n",
       "       10_diffSumRefinery intake(kmt)  11_diffClosing stocks(kmt)  \\\n",
       "count                    10159.000000                 9935.000000   \n",
       "mean                       469.349083                   -0.098057   \n",
       "std                      20383.171695                  757.647774   \n",
       "min                     -71439.414000               -39400.000000   \n",
       "25%                      -9271.910400                  -38.000000   \n",
       "50%                        635.276000                    0.000000   \n",
       "75%                       9752.462000                   41.135000   \n",
       "max                     149904.727600                31600.000000   \n",
       "\n",
       "       11_diffExports(kmt)  11_diffImports(kmt)  11_diffRefinery intake(kmt)  \\\n",
       "count         10159.000000         10038.000000                 10159.000000   \n",
       "mean              3.023665             1.906747                     6.342198   \n",
       "std             541.345419           679.968729                  1876.418096   \n",
       "min          -10200.000000        -22159.000000                -73610.740900   \n",
       "25%              -6.000000           -50.000000                   -62.945400   \n",
       "50%               0.000000             0.000000                     0.000000   \n",
       "75%               5.520350            52.000000                    68.036950   \n",
       "max           14600.000000         22021.000000                141083.000000   \n",
       "\n",
       "         11_diffWTI  11_diffSumClosing stocks(kmt)  11_diffSumExports(kmt)  \\\n",
       "count  10159.000000                   10159.000000            10159.000000   \n",
       "mean       0.529798                      19.068961              208.394996   \n",
       "std        6.810870                    6039.385624             7882.452268   \n",
       "min      -32.600000                  -33236.738500           -16196.649500   \n",
       "25%       -3.740000                   -2418.415500            -6369.542000   \n",
       "50%        1.500000                     192.813600              219.281300   \n",
       "75%        4.550000                    2676.372400             6087.291800   \n",
       "max       15.960000                   25173.836000            19899.824200   \n",
       "\n",
       "       11_diffSumImports(kmt)  11_diffSumProduction(kmt)  \\\n",
       "count            10159.000000               10159.000000   \n",
       "mean               137.001353                 437.661116   \n",
       "std               9157.467835               12706.141011   \n",
       "min             -26272.287500              -28046.135700   \n",
       "25%              -4827.157600               -9152.096300   \n",
       "50%                327.280400                -174.794200   \n",
       "75%               5461.803600                9865.380400   \n",
       "max              22441.050100               32234.630200   \n",
       "\n",
       "       11_diffSumRefinery intake(kmt)  12_diffClosing stocks(kmt)  \\\n",
       "count                    10159.000000                 9939.000000   \n",
       "mean                       451.711159                    0.626760   \n",
       "std                      20393.577376                  758.094021   \n",
       "min                     -71439.414000               -39400.000000   \n",
       "25%                      -9271.910400                  -38.000000   \n",
       "50%                        635.276000                    0.000000   \n",
       "75%                       9752.462000                   42.000000   \n",
       "max                     149904.727600                31600.000000   \n",
       "\n",
       "       12_diffExports(kmt)  12_diffImports(kmt)  12_diffRefinery intake(kmt)  \\\n",
       "count         10159.000000         10041.000000                 10159.000000   \n",
       "mean              2.026301             0.826485                     3.664252   \n",
       "std             542.103160           680.449831                  1877.736256   \n",
       "min          -10200.000000        -22159.000000                -73610.740900   \n",
       "25%              -6.000000           -51.000000                   -65.000000   \n",
       "50%               0.000000             0.000000                     0.000000   \n",
       "75%               5.000000            52.000000                    67.000000   \n",
       "max           14600.000000         22021.000000                141083.000000   \n",
       "\n",
       "         12_diffWTI  12_diffSumClosing stocks(kmt)  12_diffSumExports(kmt)  \\\n",
       "count  10159.000000                   10159.000000            10159.000000   \n",
       "mean       0.523349                      65.882228              133.373726   \n",
       "std        6.811864                    6040.377757             7929.716792   \n",
       "min      -32.600000                  -33236.738500           -16196.649500   \n",
       "25%       -3.740000                   -2247.483400            -6372.051800   \n",
       "50%        1.200000                     195.200500              219.281300   \n",
       "75%        4.880000                    2786.935900             6087.291800   \n",
       "max       15.960000                   25173.836000            19899.824200   \n",
       "\n",
       "       12_diffSumImports(kmt)  12_diffSumProduction(kmt)  \\\n",
       "count            10159.000000               10159.000000   \n",
       "mean                51.287479                 320.985333   \n",
       "std               9225.553905               12850.960948   \n",
       "min             -26272.287500              -28046.135700   \n",
       "25%              -5157.092800               -9312.587100   \n",
       "50%                327.280400                -174.794200   \n",
       "75%               5461.803600                9865.380400   \n",
       "max              22441.050100               32234.630200   \n",
       "\n",
       "       12_diffSumRefinery intake(kmt)  \n",
       "count                    10159.000000  \n",
       "mean                       238.099595  \n",
       "std                      20514.098723  \n",
       "min                     -71439.414000  \n",
       "25%                      -9465.906300  \n",
       "50%                        496.914800  \n",
       "75%                       9752.462000  \n",
       "max                     149904.727600  "
      ]
     },
     "execution_count": 7,
     "metadata": {},
     "output_type": "execute_result"
    }
   ],
   "source": [
    "NUMERIC_VARIABLE = [x for x in X.columns if x not in [\"ID\", \"month\", \"country\"]]\n",
    "\n",
    "X.loc[:, NUMERIC_VARIABLE].describe()"
   ]
  },
  {
   "cell_type": "markdown",
   "metadata": {},
   "source": [
    "###### Missing value"
   ]
  },
  {
   "cell_type": "markdown",
   "metadata": {},
   "source": [
    "Pas énormément de valeur manquante (la colonne avec le plus de valeurs manquantes à moins de 2.6% des valeurs manquantes). On supprime les lignes avec beaucoup trop de valeurs manquantes (seuil déterminé empiriquement). Le traitement des valeurs manquantes reste un gros point d'amélioration de la démarché présentée ici."
   ]
  },
  {
   "cell_type": "code",
   "execution_count": 8,
   "metadata": {},
   "outputs": [
    {
     "data": {
      "text/plain": [
       "1_diffClosing stocks(kmt)     (261, 0.0256915050694)\n",
       "1_diffImports(kmt)            (151, 0.0148636676838)\n",
       "2_diffClosing stocks(kmt)     (257, 0.0252977655281)\n",
       "2_diffImports(kmt)            (148, 0.0145683630279)\n",
       "3_diffClosing stocks(kmt)     (253, 0.0249040259868)\n",
       "3_diffImports(kmt)            (145, 0.0142730583719)\n",
       "4_diffClosing stocks(kmt)     (249, 0.0245102864455)\n",
       "4_diffImports(kmt)            (142, 0.0139777537159)\n",
       "5_diffClosing stocks(kmt)     (245, 0.0241165469042)\n",
       "5_diffImports(kmt)            (139, 0.0136824490599)\n",
       "6_diffClosing stocks(kmt)     (241, 0.0237228073629)\n",
       "6_diffImports(kmt)             (136, 0.013387144404)\n",
       "7_diffClosing stocks(kmt)      (238, 0.023427502707)\n",
       "7_diffImports(kmt)             (133, 0.013091839748)\n",
       "8_diffClosing stocks(kmt)      (235, 0.023132198051)\n",
       "8_diffImports(kmt)             (130, 0.012796535092)\n",
       "9_diffClosing stocks(kmt)      (232, 0.022836893395)\n",
       "9_diffImports(kmt)            (127, 0.0125012304361)\n",
       "10_diffClosing stocks(kmt)    (228, 0.0224431538537)\n",
       "10_diffImports(kmt)           (124, 0.0122059257801)\n",
       "11_diffClosing stocks(kmt)    (224, 0.0220494143124)\n",
       "11_diffImports(kmt)           (121, 0.0119106211241)\n",
       "12_diffClosing stocks(kmt)    (220, 0.0216556747711)\n",
       "12_diffImports(kmt)           (118, 0.0116153164682)\n",
       "dtype: object"
      ]
     },
     "execution_count": 8,
     "metadata": {},
     "output_type": "execute_result"
    }
   ],
   "source": [
    "# Columns with missing value\n",
    "X.apply(lambda x: (pd.isnull(x).sum(), pd.isnull(x).mean()), axis=0).loc[X.apply(lambda x: \n",
    "                                                                                 pd.isnull(x).sum(), \n",
    "                                                                                 axis=0) > 0]"
   ]
  },
  {
   "cell_type": "markdown",
   "metadata": {},
   "source": [
    "Néanmoins, les valeurs manquantes sont parfois concentrées sur les mêmes lignes. Il faudrait passer plus de temps sur cette étape."
   ]
  },
  {
   "cell_type": "code",
   "execution_count": 9,
   "metadata": {
    "collapsed": true
   },
   "outputs": [],
   "source": [
    "# Number of missing values by lines\n",
    "n_null_in_lines = X.apply(lambda x: pd.isnull(x).sum(), axis=1)\n",
    "\n",
    "# Keep only line with less than n missing value\n",
    "X = X.loc[n_null_in_lines <= 5, :] # 20\n",
    "Y = Y.loc[n_null_in_lines <= 5, :]\n",
    "\n",
    "X_full = pd.concat([X, final_test])"
   ]
  },
  {
   "cell_type": "markdown",
   "metadata": {},
   "source": [
    "###### Outliers"
   ]
  },
  {
   "cell_type": "markdown",
   "metadata": {},
   "source": [
    "Les modèles utilisés sont des modèles utilisant des arbres, donc par définition peu sensibles aux outliers. Il pourrait néanmoins être utile de s'intérésser tout de même à observer et exclure / catégoriser les outliers.\n",
    "\n",
    "On regarde ici principalement les outliers au sens d'une distribution normale, mais à nouveau, il faudrait passer plus de temps sur cette étape."
   ]
  },
  {
   "cell_type": "code",
   "execution_count": 10,
   "metadata": {},
   "outputs": [
    {
     "data": {
      "text/plain": [
       "1_diffClosing stocks(kmt)         {'sum': 39, 'mean': 0.00393383094614}\n",
       "1_diffExports(kmt)                {'sum': 194, 'mean': 0.0195682872705}\n",
       "1_diffImports(kmt)                {'sum': 157, 'mean': 0.0158361912447}\n",
       "1_diffRefinery intake(kmt)        {'sum': 26, 'mean': 0.00262255396409}\n",
       "1_diffWTI                          {'sum': 75, 'mean': 0.0075650595118}\n",
       "1_diffSumClosing stocks(kmt)      {'sum': 301, 'mean': 0.0303611055074}\n",
       "1_diffSumExports(kmt)                           {'sum': 0, 'mean': 0.0}\n",
       "1_diffSumImports(kmt)                           {'sum': 0, 'mean': 0.0}\n",
       "1_diffSumProduction(kmt)                        {'sum': 0, 'mean': 0.0}\n",
       "1_diffSumRefinery intake(kmt)      {'sum': 146, 'mean': 0.014726649183}\n",
       "2_diffClosing stocks(kmt)         {'sum': 39, 'mean': 0.00393383094614}\n",
       "2_diffExports(kmt)                {'sum': 194, 'mean': 0.0195682872705}\n",
       "2_diffImports(kmt)                 {'sum': 159, 'mean': 0.016037926165}\n",
       "2_diffRefinery intake(kmt)        {'sum': 26, 'mean': 0.00262255396409}\n",
       "2_diffWTI                          {'sum': 75, 'mean': 0.0075650595118}\n",
       "2_diffSumClosing stocks(kmt)      {'sum': 301, 'mean': 0.0303611055074}\n",
       "2_diffSumExports(kmt)                           {'sum': 0, 'mean': 0.0}\n",
       "2_diffSumImports(kmt)                           {'sum': 0, 'mean': 0.0}\n",
       "2_diffSumProduction(kmt)                        {'sum': 0, 'mean': 0.0}\n",
       "2_diffSumRefinery intake(kmt)      {'sum': 146, 'mean': 0.014726649183}\n",
       "3_diffClosing stocks(kmt)         {'sum': 38, 'mean': 0.00383296348598}\n",
       "3_diffExports(kmt)                {'sum': 191, 'mean': 0.0192656848901}\n",
       "3_diffImports(kmt)                {'sum': 157, 'mean': 0.0158361912447}\n",
       "3_diffRefinery intake(kmt)        {'sum': 25, 'mean': 0.00252168650393}\n",
       "3_diffWTI                         {'sum': 73, 'mean': 0.00736332459149}\n",
       "3_diffSumClosing stocks(kmt)      {'sum': 301, 'mean': 0.0303611055074}\n",
       "3_diffSumExports(kmt)                           {'sum': 0, 'mean': 0.0}\n",
       "3_diffSumImports(kmt)                           {'sum': 0, 'mean': 0.0}\n",
       "3_diffSumProduction(kmt)                        {'sum': 0, 'mean': 0.0}\n",
       "3_diffSumRefinery intake(kmt)      {'sum': 146, 'mean': 0.014726649183}\n",
       "                                                  ...                  \n",
       "10_diffClosing stocks(kmt)        {'sum': 36, 'mean': 0.00363122856566}\n",
       "10_diffExports(kmt)               {'sum': 189, 'mean': 0.0190639499697}\n",
       "10_diffImports(kmt)                {'sum': 159, 'mean': 0.016037926165}\n",
       "10_diffRefinery intake(kmt)       {'sum': 24, 'mean': 0.00242081904378}\n",
       "10_diffWTI                        {'sum': 73, 'mean': 0.00736332459149}\n",
       "10_diffSumClosing stocks(kmt)     {'sum': 298, 'mean': 0.0300585031269}\n",
       "10_diffSumExports(kmt)                          {'sum': 0, 'mean': 0.0}\n",
       "10_diffSumImports(kmt)                          {'sum': 0, 'mean': 0.0}\n",
       "10_diffSumProduction(kmt)                       {'sum': 0, 'mean': 0.0}\n",
       "10_diffSumRefinery intake(kmt)     {'sum': 146, 'mean': 0.014726649183}\n",
       "11_diffClosing stocks(kmt)        {'sum': 37, 'mean': 0.00373209602582}\n",
       "11_diffExports(kmt)               {'sum': 188, 'mean': 0.0189630825096}\n",
       "11_diffImports(kmt)                {'sum': 159, 'mean': 0.016037926165}\n",
       "11_diffRefinery intake(kmt)       {'sum': 24, 'mean': 0.00242081904378}\n",
       "11_diffWTI                        {'sum': 73, 'mean': 0.00736332459149}\n",
       "11_diffSumClosing stocks(kmt)     {'sum': 298, 'mean': 0.0300585031269}\n",
       "11_diffSumExports(kmt)                          {'sum': 0, 'mean': 0.0}\n",
       "11_diffSumImports(kmt)                          {'sum': 0, 'mean': 0.0}\n",
       "11_diffSumProduction(kmt)                       {'sum': 0, 'mean': 0.0}\n",
       "11_diffSumRefinery intake(kmt)     {'sum': 146, 'mean': 0.014726649183}\n",
       "12_diffClosing stocks(kmt)        {'sum': 38, 'mean': 0.00383296348598}\n",
       "12_diffExports(kmt)               {'sum': 189, 'mean': 0.0190639499697}\n",
       "12_diffImports(kmt)               {'sum': 156, 'mean': 0.0157353237845}\n",
       "12_diffRefinery intake(kmt)       {'sum': 25, 'mean': 0.00252168650393}\n",
       "12_diffWTI                        {'sum': 73, 'mean': 0.00736332459149}\n",
       "12_diffSumClosing stocks(kmt)     {'sum': 298, 'mean': 0.0300585031269}\n",
       "12_diffSumExports(kmt)                          {'sum': 0, 'mean': 0.0}\n",
       "12_diffSumImports(kmt)                          {'sum': 0, 'mean': 0.0}\n",
       "12_diffSumProduction(kmt)                       {'sum': 0, 'mean': 0.0}\n",
       "12_diffSumRefinery intake(kmt)     {'sum': 146, 'mean': 0.014726649183}\n",
       "Length: 120, dtype: object"
      ]
     },
     "execution_count": 10,
     "metadata": {},
     "output_type": "execute_result"
    }
   ],
   "source": [
    "X.loc[:, NUMERIC_VARIABLE].apply(lambda x: fn.describe_normal_outliers(x), axis=0)"
   ]
  },
  {
   "cell_type": "code",
   "execution_count": 11,
   "metadata": {},
   "outputs": [
    {
     "data": {
      "text/plain": [
       "(array([1, 2, 3, 4, 5]), <a list of 5 Text xticklabel objects>)"
      ]
     },
     "execution_count": 11,
     "metadata": {},
     "output_type": "execute_result"
    },
    {
     "data": {
      "image/png": "[encoded data removed]",
      "text/plain": [
       "<matplotlib.figure.Figure at 0x7fe83adcc470>"
      ]
     },
     "metadata": {},
     "output_type": "display_data"
    }
   ],
   "source": [
    "# Boxplot to look at univariate outliers\n",
    "boxplots = X.loc[:, NUMERIC_VARIABLE[5:10]].boxplot(figsize=(14, 14))\n",
    "plt.xticks(rotation=45)"
   ]
  },
  {
   "cell_type": "markdown",
   "metadata": {},
   "source": [
    "### Create Variable"
   ]
  },
  {
   "cell_type": "markdown",
   "metadata": {},
   "source": [
    "Le format du projet est une compétition où le meilleur score doit être obtenu. Dans ce cadre, la création de nouvelles features est primordiale. On créera un ensemble de nouvelles variables et on laissera le modèle décider des variables à conserver. Une partie de sélection de variables plus approfondies aurait probablement était nécessaire pour un projet tournant en production."
   ]
  },
  {
   "cell_type": "code",
   "execution_count": 12,
   "metadata": {
    "collapsed": true
   },
   "outputs": [],
   "source": [
    "# List of columns to use to create new feature\n",
    "COLUMNS_TO_TRANSFORM = list(X_full.columns[3:])"
   ]
  },
  {
   "cell_type": "markdown",
   "metadata": {},
   "source": [
    "###### Variation in country vs variation in all countries"
   ]
  },
  {
   "cell_type": "markdown",
   "metadata": {},
   "source": [
    "On compare les variations dans un pays (variables sans \"Sum\") aux variations dans tous les pays (variables avec \"Sum\" dans leurs noms)."
   ]
  },
  {
   "cell_type": "code",
   "execution_count": 13,
   "metadata": {
    "collapsed": true
   },
   "outputs": [],
   "source": [
    "COLUMNS_TO_TRANSFORM_WITHOUT_SUM = [x for x in COLUMNS_TO_TRANSFORM if ((\"Sum\" not in x) and (\"WTI\" not in x))]\n",
    "\n",
    "for var in COLUMNS_TO_TRANSFORM_WITHOUT_SUM:\n",
    "    X_full.loc[:, var + \"_diff_with_global\"] =\\\n",
    "        X_full.loc[:, var] / X_full.loc[:, var.split(\"diff\")[0] + \"diffSum\" + var.split(\"diff\")[1]].abs()\n",
    "    "
   ]
  },
  {
   "cell_type": "markdown",
   "metadata": {},
   "source": [
    "###### Diff between export and import"
   ]
  },
  {
   "cell_type": "markdown",
   "metadata": {},
   "source": [
    "Variation de la ballance commerciale"
   ]
  },
  {
   "cell_type": "code",
   "execution_count": 14,
   "metadata": {
    "collapsed": true
   },
   "outputs": [],
   "source": [
    "COLUMN_IMPORT =\\\n",
    "    [ x for x in COLUMNS_TO_TRANSFORM if (\"_diffImports(kmt)\" in x) ]\n",
    "    \n",
    "COLUMN_EXPORT =\\\n",
    "    [ x for x in COLUMNS_TO_TRANSFORM if (\"_diffExports(kmt)\" in x) ]\n",
    "    \n",
    "COLUMNS_IMPORT_EXPORT = [(a,b) for a,b in zip(COLUMN_IMPORT, COLUMN_EXPORT)]\n",
    "\n",
    "for (a, b) in COLUMNS_IMPORT_EXPORT:\n",
    "    X_full.loc[:, a + b] = X_full.loc[:, b] - X_full.loc[:, a]"
   ]
  },
  {
   "cell_type": "markdown",
   "metadata": {},
   "source": [
    "###### Diff_import_export + closing stock"
   ]
  },
  {
   "cell_type": "markdown",
   "metadata": {},
   "source": [
    "Variation de la balance commerciale + variation des stocks."
   ]
  },
  {
   "cell_type": "code",
   "execution_count": 15,
   "metadata": {
    "collapsed": true
   },
   "outputs": [],
   "source": [
    "COLUMNS_CLOSING_STOCKS =\\\n",
    "    [ x for x in COLUMNS_TO_TRANSFORM if (\"_diffClosing stocks(kmt)\" in x) ]\n",
    "    \n",
    "COLUMNS_IMPORT_EXPORT_CLOSING_STOCK = [(a, b, c) for (a, b, c) \n",
    "                                       in zip(COLUMN_IMPORT, COLUMN_EXPORT, COLUMNS_CLOSING_STOCKS)]\n",
    "\n",
    "for (a, b, c) in COLUMNS_IMPORT_EXPORT_CLOSING_STOCK:\n",
    "    X_full.loc[:, a + b + c] = X_full.loc[:, c] + (X_full.loc[:, a] - X_full.loc[:, b])"
   ]
  },
  {
   "cell_type": "markdown",
   "metadata": {},
   "source": [
    "###### If positiv"
   ]
  },
  {
   "cell_type": "code",
   "execution_count": 16,
   "metadata": {
    "collapsed": true
   },
   "outputs": [],
   "source": [
    "for var in COLUMNS_TO_TRANSFORM:\n",
    "    X_full.loc[:, \"binary_if_positive_\" + var] =\\\n",
    "        X_full.loc[:, var].map(lambda x: fn.binary_if_positive(x))"
   ]
  },
  {
   "cell_type": "markdown",
   "metadata": {},
   "source": [
    "###### If is 0"
   ]
  },
  {
   "cell_type": "markdown",
   "metadata": {},
   "source": [
    "Certaines variables ont beaucoup de 0 dans leurs distribution (parfois plus de 50% de 0), on crée une nouvelle variable pour indiquer si la variable est à 0. Avec la varible \"binary if positive\", c'est une manière différente de catégoriser une variable selon (+, - ou 0).\n",
    "\n",
    "A nouveau, la gestion des 0 pourrait probablement être une source d'amélioration importante pour le projet."
   ]
  },
  {
   "cell_type": "code",
   "execution_count": 17,
   "metadata": {},
   "outputs": [],
   "source": [
    "# Get columns with lot of 0\n",
    "COLUMNS_WITH_0 =\\\n",
    "    [ x for x in COLUMNS_TO_TRANSFORM if (\"_diffClosing stocks(kmt)\" in x or \"_diffExports(kmt)\" in x\n",
    "                                        or \"_diffImports(kmt)\" in x or \"_diffRefinery intake(kmt\" in x) ]\n",
    "\n",
    "for var in COLUMNS_WITH_0:\n",
    "    X_full.loc[:, \"binary_if_0_\" + var] =\\\n",
    "        X_full.loc[:, var].map(lambda x: fn.binary_if_0(x))\n",
    "        \n",
    "BINARY_0_COLUMNS =\\\n",
    "    pd.Series(X_full.columns ).loc[pd.Series(X_full.columns ).map(lambda x: \"binary_if_0_\" in x)]"
   ]
  },
  {
   "cell_type": "markdown",
   "metadata": {},
   "source": [
    "###### Percent of 0 by columns, country and month"
   ]
  },
  {
   "cell_type": "markdown",
   "metadata": {},
   "source": [
    "La même chose mais au niveau agrégée, avec le porucentage de 0 par columns, pays et mois de l'année."
   ]
  },
  {
   "cell_type": "code",
   "execution_count": 18,
   "metadata": {
    "collapsed": true
   },
   "outputs": [],
   "source": [
    "for var in COLUMNS_WITH_0:\n",
    "    if var == COLUMNS_WITH_0[0]:\n",
    "        grouped_0_values =\\\n",
    "            X_full.loc[:, [var] + [\"country\", \"month\"]].groupby([\"country\", \"month\"])[var].\\\n",
    "                apply(lambda x: (x ==0).mean()).reset_index()\n",
    "    else:\n",
    "        temp_grouped_0_values =\\\n",
    "            X_full.loc[:, [var] + [\"country\", \"month\"]].groupby([\"country\", \"month\"])[var].\\\n",
    "                apply(lambda x: (x ==0).mean()).reset_index()\n",
    "        grouped_0_values = grouped_0_values.merge(temp_grouped_0_values, how=\"left\",\n",
    "                                                 on=[\"country\", \"month\"])\n",
    "        \n",
    "grouped_0_values.columns = list(grouped_0_values.columns[:2]) +\\\n",
    "                               [\"percent_0_\" + x for x in list(grouped_0_values.columns[2:])]\n",
    "    \n",
    "X_full = X_full.merge(grouped_0_values, how=\"left\", on=[\"country\", \"month\"])"
   ]
  },
  {
   "cell_type": "markdown",
   "metadata": {},
   "source": [
    "###### Percent of 0 by country"
   ]
  },
  {
   "cell_type": "code",
   "execution_count": 19,
   "metadata": {},
   "outputs": [],
   "source": [
    "for var in COLUMNS_WITH_0:\n",
    "    if var == COLUMNS_WITH_0[0]:\n",
    "        grouped_0_values =\\\n",
    "            X_full.loc[:, [var] + [\"country\"]].groupby([\"country\"])[var].\\\n",
    "                apply(lambda x: (x ==0).mean()).reset_index()\n",
    "    else:\n",
    "        temp_grouped_0_values =\\\n",
    "            X_full.loc[:, [var] + [\"country\"]].groupby([\"country\"])[var].\\\n",
    "                apply(lambda x: (x ==0).mean()).reset_index()\n",
    "        grouped_0_values = grouped_0_values.merge(temp_grouped_0_values, how=\"left\",\n",
    "                                                 on=[\"country\"])\n",
    "        \n",
    "grouped_0_values.columns = list(grouped_0_values.columns[:1]) +\\\n",
    "                               [\"percent_0_country_\" + x for x in list(grouped_0_values.columns[1:])]\n",
    "    \n",
    "X_full = X_full.merge(grouped_0_values, how=\"left\", on=[\"country\"])"
   ]
  },
  {
   "cell_type": "markdown",
   "metadata": {},
   "source": [
    "###### Binary if Null"
   ]
  },
  {
   "cell_type": "markdown",
   "metadata": {},
   "source": [
    "Avant d'imputer les valeurs manquantes dans la modélisation, on crée une variable indiquant si la valeur était manquante ou non dans la ligne."
   ]
  },
  {
   "cell_type": "code",
   "execution_count": 20,
   "metadata": {},
   "outputs": [],
   "source": [
    "for var in COLUMNS_TO_TRANSFORM:\n",
    "    X_full.loc[:, \"binary_if_null_\" + var] =\\\n",
    "        X_full.loc[:, var].map(lambda x: fn.binary_if_null(x))"
   ]
  },
  {
   "cell_type": "markdown",
   "metadata": {},
   "source": [
    "###### Aggregate by month and country"
   ]
  },
  {
   "cell_type": "markdown",
   "metadata": {},
   "source": [
    "On crée un certains nombres de nouvelles valeurs agrégées par pays et par mois. A un fort impact sur la prédiction."
   ]
  },
  {
   "cell_type": "code",
   "execution_count": 21,
   "metadata": {},
   "outputs": [
    {
     "name": "stderr",
     "output_type": "stream",
     "text": [
      "/home/thibault/anaconda3/lib/python3.6/site-packages/pandas/core/groupby.py:842: RuntimeWarning: Mean of empty slice\n",
      "  f = lambda x: func(x, *args, **kwargs)\n",
      "/home/thibault/anaconda3/lib/python3.6/site-packages/numpy/lib/nanfunctions.py:1423: RuntimeWarning: Degrees of freedom <= 0 for slice.\n",
      "  keepdims=keepdims)\n",
      "/home/thibault/anaconda3/lib/python3.6/site-packages/numpy/lib/function_base.py:3858: RuntimeWarning: All-NaN slice encountered\n",
      "  r = func(a, **kwargs)\n"
     ]
    }
   ],
   "source": [
    "grouped_values =\\\n",
    "    X_full.loc[:, COLUMNS_TO_TRANSFORM + [\"country\", \"month\"]].replace(0, np.nan).groupby([\"country\", \"month\"]).\\\n",
    "        agg([np.nansum, np.nanmean, np.nanstd, np.min, \n",
    "             np.max, np.nanmedian, fn.percentile(75),\n",
    "             fn.percentile(25), fn.percentile(10), fn.percentile(90),\n",
    "             fn.percentile(5), fn.percentile(95)]).reset_index()\n",
    "    \n",
    "grouped_values.columns = [' '.join(col).strip() for col in grouped_values.columns.values]\n",
    "\n",
    "X_full = X_full.merge(grouped_values, how=\"left\", on=[\"country\", \"month\"])"
   ]
  },
  {
   "cell_type": "markdown",
   "metadata": {},
   "source": [
    "###### Aggregate by country"
   ]
  },
  {
   "cell_type": "markdown",
   "metadata": {},
   "source": [
    "On crée un certains nombres de nouvelles valeurs agrégées par pays et par mois. N'apporte pas énormément d'informations lorsque les aggrégations par pays et mois de l'année sont présentes."
   ]
  },
  {
   "cell_type": "code",
   "execution_count": 22,
   "metadata": {},
   "outputs": [
    {
     "name": "stderr",
     "output_type": "stream",
     "text": [
      "/home/thibault/anaconda3/lib/python3.6/site-packages/pandas/core/groupby.py:842: RuntimeWarning: Mean of empty slice\n",
      "  f = lambda x: func(x, *args, **kwargs)\n",
      "/home/thibault/anaconda3/lib/python3.6/site-packages/numpy/lib/nanfunctions.py:1423: RuntimeWarning: Degrees of freedom <= 0 for slice.\n",
      "  keepdims=keepdims)\n",
      "/home/thibault/anaconda3/lib/python3.6/site-packages/numpy/lib/function_base.py:3858: RuntimeWarning: All-NaN slice encountered\n",
      "  r = func(a, **kwargs)\n"
     ]
    }
   ],
   "source": [
    "grouped_values =\\\n",
    "    X_full.loc[:, COLUMNS_TO_TRANSFORM + [\"country\"]].replace(0, np.nan).groupby([\"country\"]).\\\n",
    "        agg([np.nansum, np.nanmean, np.nanstd, np.min, \n",
    "             np.max, np.nanmedian, fn.percentile(75),\n",
    "             fn.percentile(25), fn.percentile(10), fn.percentile(90),\n",
    "             fn.percentile(5), fn.percentile(95)]).reset_index()\n",
    "    \n",
    "grouped_values.columns = [fn.new_name_if_not_id(' '.join(col).strip(), \"_country_\", \"country\") \n",
    "                          for col in grouped_values.columns.values]\n",
    "\n",
    "X_full = X_full.merge(grouped_values, how=\"left\", on=\"country\")"
   ]
  },
  {
   "cell_type": "markdown",
   "metadata": {},
   "source": [
    "###### Countries with no variation in import and export"
   ]
  },
  {
   "cell_type": "markdown",
   "metadata": {},
   "source": [
    "Pays qui n'ont connu aucune variation de leurs importations, exportations et des deux."
   ]
  },
  {
   "cell_type": "code",
   "execution_count": 23,
   "metadata": {
    "collapsed": true
   },
   "outputs": [],
   "source": [
    "countries_with_no_variation_in_import =\\\n",
    "    X_full.loc[:, [\"1_diffImports(kmt)\", \"country\"]].groupby(\"country\")[\"1_diffImports(kmt)\"].\\\n",
    "        apply(lambda x: (x == 0).mean()).reset_index()"
   ]
  },
  {
   "cell_type": "code",
   "execution_count": 24,
   "metadata": {
    "collapsed": true
   },
   "outputs": [],
   "source": [
    "countries_with_no_variation_in_export =\\\n",
    "    X_full.loc[:, [\"1_diffExports(kmt)\", \"country\"]].groupby(\"country\")[\"1_diffExports(kmt)\"].\\\n",
    "        apply(lambda x: (x == 0).mean()).reset_index()"
   ]
  },
  {
   "cell_type": "code",
   "execution_count": 25,
   "metadata": {
    "collapsed": true
   },
   "outputs": [],
   "source": [
    "countries_with_no_variation_in_import_export =\\\n",
    "    countries_with_no_variation_in_import.merge(countries_with_no_variation_in_export, how=\"left\",\n",
    "                                               on=\"country\")\n",
    "    \n",
    "countries_with_no_variation_in_import_export.loc[:, \"no_import_variation\"] =\\\n",
    "    countries_with_no_variation_in_import.loc[:, \"1_diffImports(kmt)\"] == 1\n",
    "\n",
    "countries_with_no_variation_in_import_export.loc[:, \"no_export_variation\"] =\\\n",
    "    countries_with_no_variation_in_export.loc[:, \"1_diffExports(kmt)\"] == 1\n",
    "    \n",
    "countries_with_no_variation_in_import_export.loc[:, \"no_export_nor_import_variation\"] =\\\n",
    "    countries_with_no_variation_in_import_export.no_import_variation &\\\n",
    "    countries_with_no_variation_in_import_export.no_export_variation\n",
    "    \n",
    "X_full =\\\n",
    "    X_full.merge(countries_with_no_variation_in_import_export, how=\"left\",\n",
    "                on=\"country\")"
   ]
  },
  {
   "cell_type": "markdown",
   "metadata": {},
   "source": [
    "###### Compute relative value by countries"
   ]
  },
  {
   "cell_type": "markdown",
   "metadata": {},
   "source": [
    "Valeur relative (En comparaison à la somme pour le pays donné)."
   ]
  },
  {
   "cell_type": "code",
   "execution_count": 26,
   "metadata": {
    "collapsed": true
   },
   "outputs": [],
   "source": [
    "# Columns prefix to delete month in column name\n",
    "COL_NAMES_WITHOUT_MONTH = set([x.split(\"_\")[1] for x in COLUMNS_TO_TRANSFORM])\n",
    "\n",
    "# By countries\n",
    "relative_value = pd.DataFrame()\n",
    "for var in list(COL_NAMES_WITHOUT_MONTH):\n",
    "    relative_value_by_countries = pd.DataFrame()\n",
    "    for localisation in set(X_full.country):\n",
    "        all_months_columns = [str(j) + \"_\" + var for j in range(1, 13)]\n",
    "        median_value = fn.data_frame_as_Series(X_full.loc[X_full.country == localisation, all_months_columns]).\\\n",
    "            dropna().sum()\n",
    "        relative_value_by_countries_columns =\\\n",
    "            X_full.loc[X_full.country == localisation, all_months_columns] / median_value\n",
    "        # replace inf\n",
    "        relative_value_by_countries_columns =\\\n",
    "            relative_value_by_countries_columns.replace([np.inf, -np.inf], np.nan)\n",
    "        relative_value_by_countries_columns.loc[:, \"ID\"] = X_full.loc[X_full.country == localisation, \"ID\"]\n",
    "        if relative_value_by_countries.empty:\n",
    "            relative_value_by_countries = relative_value_by_countries_columns\n",
    "        else:\n",
    "            relative_value_by_countries = pd.concat([relative_value_by_countries, \n",
    "                                                     relative_value_by_countries_columns],\n",
    "                                                   axis=0)\n",
    "    if relative_value.empty:\n",
    "        relative_value = relative_value_by_countries\n",
    "    else:\n",
    "        relative_value = relative_value.merge(relative_value_by_countries, on=\"ID\", how=\"left\")\n"
   ]
  },
  {
   "cell_type": "code",
   "execution_count": 27,
   "metadata": {
    "collapsed": true
   },
   "outputs": [],
   "source": [
    "relative_value.columns = [fn.new_name_if_not_id(x, \"relative_by_countries_\") \n",
    "                          for x in list(relative_value.columns)]"
   ]
  },
  {
   "cell_type": "code",
   "execution_count": 28,
   "metadata": {
    "collapsed": true
   },
   "outputs": [],
   "source": [
    "X_full = X_full.merge(relative_value, how=\"left\", on=\"ID\")"
   ]
  },
  {
   "cell_type": "markdown",
   "metadata": {},
   "source": [
    "###### Compute relative values by countries and month"
   ]
  },
  {
   "cell_type": "markdown",
   "metadata": {},
   "source": [
    "Valeur relative (En comparaison à la somme pour le pays et le mois donnés)."
   ]
  },
  {
   "cell_type": "code",
   "execution_count": 29,
   "metadata": {
    "collapsed": true
   },
   "outputs": [],
   "source": [
    "# By countries\n",
    "relative_value = pd.DataFrame()\n",
    "for var in list(COL_NAMES_WITHOUT_MONTH):\n",
    "    relative_value_by_countries = pd.DataFrame()\n",
    "    for localisation in set(X_full.country):\n",
    "        for month in set(X_full.month):\n",
    "            all_months_columns = [str(j) + \"_\" + var for j in range(1, 13)]\n",
    "            median_value = fn.data_frame_as_Series(X_full.loc[(X_full.country == localisation) &\n",
    "                                                   (X_full.month == month), all_months_columns]).\\\n",
    "                dropna().sum()\n",
    "            relative_value_by_countries_columns =\\\n",
    "                X_full.loc[(X_full.country == localisation) &\n",
    "                           (X_full.month == month), all_months_columns] / median_value\n",
    "            # replace inf\n",
    "            relative_value_by_countries_columns =\\\n",
    "                relative_value_by_countries_columns.replace([np.inf, -np.inf], np.nan)\n",
    "            relative_value_by_countries_columns.loc[:, \"ID\"] = X_full.loc[(X_full.country == localisation) &\n",
    "                                                                          (X_full.month == month), \"ID\"]\n",
    "            if relative_value_by_countries.empty:\n",
    "                relative_value_by_countries = relative_value_by_countries_columns\n",
    "            else:\n",
    "                relative_value_by_countries = pd.concat([relative_value_by_countries, \n",
    "                                                         relative_value_by_countries_columns],\n",
    "                                                       axis=0)\n",
    "    if relative_value.empty:\n",
    "        relative_value = relative_value_by_countries\n",
    "    else:\n",
    "        relative_value = relative_value.merge(relative_value_by_countries, on=\"ID\", how=\"left\")"
   ]
  },
  {
   "cell_type": "code",
   "execution_count": 30,
   "metadata": {
    "collapsed": true
   },
   "outputs": [],
   "source": [
    "relative_value.columns = [fn.new_name_if_not_id(x, \"relative_by_countries_month_\") \n",
    "                          for x in list(relative_value.columns)]"
   ]
  },
  {
   "cell_type": "code",
   "execution_count": 31,
   "metadata": {
    "collapsed": true
   },
   "outputs": [],
   "source": [
    "X_full = X_full.merge(relative_value, how=\"left\", on=\"ID\")"
   ]
  },
  {
   "cell_type": "markdown",
   "metadata": {},
   "source": [
    "# Drop useless variable"
   ]
  },
  {
   "cell_type": "markdown",
   "metadata": {},
   "source": [
    "Here, we drop variable without effect in modelisation, based on differents models iterations"
   ]
  },
  {
   "cell_type": "code",
   "execution_count": 32,
   "metadata": {
    "collapsed": true
   },
   "outputs": [],
   "source": [
    "common_useless_variable =\\\n",
    "    pd.read_csv(PATH_DATA + \"common_useless_variable.csv\", sep=\";\")"
   ]
  },
  {
   "cell_type": "code",
   "execution_count": 33,
   "metadata": {
    "collapsed": true
   },
   "outputs": [],
   "source": [
    "X_full = X_full.drop(list(common_useless_variable), axis=1)"
   ]
  },
  {
   "cell_type": "markdown",
   "metadata": {},
   "source": [
    "# Split again between test and validation"
   ]
  },
  {
   "cell_type": "markdown",
   "metadata": {},
   "source": [
    "###### Create dummies"
   ]
  },
  {
   "cell_type": "markdown",
   "metadata": {},
   "source": [
    "On crée les variables dummies pour les variables catégorielles. La variable mois n'est pas modifié car semble donner de meilleur résultat non transformée. Pour une variable à n modalités, on ne garde que n-1 modalités pour éviter la multicolinéarité qui peut affecter certains modèles."
   ]
  },
  {
   "cell_type": "code",
   "execution_count": 34,
   "metadata": {
    "collapsed": true
   },
   "outputs": [],
   "source": [
    "CATEGORICAL_VARIABLES = pd.Series(X_full.columns[X_full.apply(lambda x: (type(x.iloc[0]) != float), axis=0)])\n",
    "\n",
    "# exclude month and ID\n",
    "CATEGORICAL_VARIABLES = CATEGORICAL_VARIABLES.loc[CATEGORICAL_VARIABLES.map(lambda x: x not in [\"ID\", \"month\"])]"
   ]
  },
  {
   "cell_type": "code",
   "execution_count": 35,
   "metadata": {
    "collapsed": true
   },
   "outputs": [],
   "source": [
    "# We put only country as categorical because month seems to have higher impact as numeric\n",
    "X_full = pd.get_dummies(X_full, columns=CATEGORICAL_VARIABLES, drop_first=True)"
   ]
  },
  {
   "cell_type": "markdown",
   "metadata": {},
   "source": [
    "###### Split dataset"
   ]
  },
  {
   "cell_type": "code",
   "execution_count": 36,
   "metadata": {
    "collapsed": true
   },
   "outputs": [],
   "source": [
    "X = X_full.loc[X_full.ID.map(lambda x: x in list(X.ID)), :]\n",
    "final_test = X_full.loc[X_full.ID.map(lambda x: x in list(final_test.ID)), :]\n",
    "\n",
    "X_train, X_test, y_train, y_test =\\\n",
    "    train_test_split(X, Y, test_size=0.33, random_state=42)"
   ]
  },
  {
   "cell_type": "markdown",
   "metadata": {},
   "source": [
    "# 3 - Model"
   ]
  },
  {
   "cell_type": "markdown",
   "metadata": {},
   "source": [
    "On créera ici 3 modèle différents et l'on finira par construire un score final comme moyenne des 3 scores. Un modèle supplémentaire prenant en entrée les prédictions du modèle et les autres variables sera aussi testé. Sa capacité prédictive est bien moins bonne, il sera donc inclut trés légérement dans l'analyse pour apporte davantage de diversité.\n",
    "\n",
    "A noter:\n",
    "    - Le plus souvent on utilise des modèles avec des caractéristiques différentes pour les assembler. Ici, nous avons construit 3 modèles à base d'arbre et donc trés proches dans leur construction. Néanmoins, il s'agit des modèles qui donné les meilleurs résultats et les autres modèles testés n'ayant pas été satisfaisant, ils ont été exclus malgré la diversité qu'ils contenaient. Le seul modèle différent est la régréssion logistique à partir des autres modèles qui est un modèle linéaire, mais ses performances seuls n'étaient pas satisfaisante.\n",
    "    \n",
    "    - L'imputation des valeurs manquantes par la moyenne n'est pas une bonne pratique. On préférera le plus souvent un autre traitement (suppression des lignes ou colonnes avec trop de valeurs manquantes si celles-ci semblent aléatoires, éventuellement imputation par équations chainées multiples, ...)\n",
    "    \n",
    "    - Il aurait été plus propre de combiner les estimateurs dans une même pipeline, mais garder les modèles dans des éxécutions différentes permet d'observer les fonctionnements des modèles un à un."
   ]
  },
  {
   "cell_type": "code",
   "execution_count": 37,
   "metadata": {
    "collapsed": true
   },
   "outputs": [],
   "source": [
    "N_ITER_SEARCH = 4\n",
    "N_JOBS = 4"
   ]
  },
  {
   "cell_type": "markdown",
   "metadata": {},
   "source": [
    "###### Random Forest"
   ]
  },
  {
   "cell_type": "code",
   "execution_count": 38,
   "metadata": {},
   "outputs": [
    {
     "name": "stdout",
     "output_type": "stream",
     "text": [
      "0.827163491741\n",
      "{'rf__max_features': 65, 'rf__min_samples_leaf': 10, 'rf__min_samples_split': 17, 'rf__n_estimators': 369}\n"
     ]
    }
   ],
   "source": [
    "param_dist = {\n",
    "              \"rf__max_features\": sp_randint(1, 100),\n",
    "              \"rf__min_samples_split\": sp_randint(2, 30),\n",
    "              \"rf__min_samples_leaf\": sp_randint(1, 20),\n",
    "              # \"rf__bootstrap\": [False],\n",
    "              # \"pca__n_components\": sp_randint(10, 300),\n",
    "              # \"pca__whiten\": [True, False],\n",
    "              # \"select_from_model__threshold\":sp_randint(0, 0.01),\n",
    "              \"rf__n_estimators\": sp_randint(20, 500)\n",
    "             }\n",
    "\n",
    "pipe = Pipeline([# (\"replace_0\", Replace0()),\n",
    "                 (\"imputer\", Imputer()),\n",
    "                 # (\"sd_scaler\", StandardScaler()),\n",
    "                 # (\"pca\", PCA(n_components=150, whiten=True)),\n",
    "                 (\"rf\", RandomForestClassifier())\n",
    "                 # (\"rf\", LogisticRegression(penalty=\"l1\"))\n",
    "                ])\n",
    "\n",
    "\n",
    "random_search = RandomizedSearchCV(pipe, param_distributions=param_dist,\n",
    "                                   n_iter=N_ITER_SEARCH, n_jobs=N_JOBS, scoring=\"roc_auc\")\n",
    "\n",
    "random_search.fit(X_train.drop(\"ID\", axis=1), y_train.Target)\n",
    "\n",
    "print(random_search.best_score_)\n",
    "\n",
    "rf_estimator = random_search.best_estimator_\n",
    "\n",
    "print(random_search.best_params_)"
   ]
  },
  {
   "cell_type": "markdown",
   "metadata": {},
   "source": [
    "###### Gradient boosting"
   ]
  },
  {
   "cell_type": "code",
   "execution_count": 39,
   "metadata": {},
   "outputs": [
    {
     "name": "stdout",
     "output_type": "stream",
     "text": [
      "0.820689809311\n",
      "{'gb__max_features': 71, 'gb__min_samples_leaf': 15, 'gb__min_samples_split': 13, 'gb__n_estimators': 126}\n"
     ]
    }
   ],
   "source": [
    "param_dist = {\n",
    "              \"gb__max_features\": sp_randint(1, 100),\n",
    "              \"gb__min_samples_split\": sp_randint(2, 30),\n",
    "              \"gb__min_samples_leaf\": sp_randint(1, 20),\n",
    "              # \"rf__bootstrap\": [False],\n",
    "              # \"pca__n_components\": sp_randint(10, 300),\n",
    "              # \"pca__whiten\": [True, False],\n",
    "              # \"select_from_model__threshold\":sp_randint(0, 0.01),\n",
    "              \"gb__n_estimators\": sp_randint(20, 400)\n",
    "             }\n",
    "\n",
    "pipe = Pipeline([# (\"replace_0\", Replace0()),\n",
    "                 (\"imputer\", Imputer()),\n",
    "                 # (\"sd_scaler\", StandardScaler()),\n",
    "                 # (\"pca\", PCA(n_components=150, whiten=True)),\n",
    "                 (\"gb\", GradientBoostingClassifier())\n",
    "                 # (\"rf\", LogisticRegression(penalty=\"l1\"))\n",
    "                ])\n",
    "\n",
    "\n",
    "random_search = RandomizedSearchCV(pipe, param_distributions=param_dist,\n",
    "                                   n_iter=N_ITER_SEARCH, n_jobs=N_JOBS, scoring=\"roc_auc\")\n",
    "\n",
    "random_search.fit(X_train.drop(\"ID\", axis=1), y_train.Target)\n",
    "\n",
    "print(random_search.best_score_)\n",
    "\n",
    "gb_estimator = random_search.best_estimator_\n",
    "\n",
    "print(random_search.best_params_)"
   ]
  },
  {
   "cell_type": "markdown",
   "metadata": {},
   "source": [
    "###### Extra tree"
   ]
  },
  {
   "cell_type": "code",
   "execution_count": 40,
   "metadata": {},
   "outputs": [
    {
     "name": "stdout",
     "output_type": "stream",
     "text": [
      "0.826754846956\n",
      "{'et__max_features': 81, 'et__min_samples_leaf': 9, 'et__min_samples_split': 9, 'et__n_estimators': 246}\n"
     ]
    }
   ],
   "source": [
    "param_dist = {\n",
    "              \"et__max_features\": sp_randint(1, 100),\n",
    "              \"et__min_samples_split\": sp_randint(2, 30),\n",
    "              \"et__min_samples_leaf\": sp_randint(1, 20),\n",
    "              # \"rf__bootstrap\": [False],\n",
    "              # \"pca__n_components\": sp_randint(10, 300),\n",
    "              # \"pca__whiten\": [True, False],\n",
    "              # \"select_from_model__threshold\":sp_randint(0, 0.01),\n",
    "              \"et__n_estimators\": sp_randint(20, 400)\n",
    "             }\n",
    "\n",
    "pipe = Pipeline([# (\"replace_0\", Replace0()),\n",
    "                 (\"imputer\", Imputer()),\n",
    "                 # (\"sd_scaler\", StandardScaler()),\n",
    "                 # (\"pca\", PCA(n_components=150, whiten=True)),\n",
    "                 (\"et\", ExtraTreesClassifier())\n",
    "                 # (\"rf\", LogisticRegression(penalty=\"l1\"))\n",
    "                ])\n",
    "\n",
    "\n",
    "random_search = RandomizedSearchCV(pipe, param_distributions=param_dist,\n",
    "                                   n_iter=N_ITER_SEARCH, n_jobs=N_JOBS, scoring=\"roc_auc\")\n",
    "\n",
    "random_search.fit(X_train.drop(\"ID\", axis=1), y_train.Target)\n",
    "\n",
    "print(random_search.best_score_)\n",
    "\n",
    "et_estimator = random_search.best_estimator_\n",
    "\n",
    "print(random_search.best_params_)"
   ]
  },
  {
   "cell_type": "markdown",
   "metadata": {},
   "source": [
    "###### New model with feature from previous model"
   ]
  },
  {
   "cell_type": "code",
   "execution_count": 41,
   "metadata": {
    "collapsed": true
   },
   "outputs": [],
   "source": [
    "N_ITER_SEARCH_lr = 1"
   ]
  },
  {
   "cell_type": "code",
   "execution_count": 42,
   "metadata": {
    "collapsed": true
   },
   "outputs": [],
   "source": [
    "rf_proba_predictions = rf_estimator.predict_proba(X_full.drop([\"ID\"], axis=1))[:, 1]\n",
    "gb_proba_predictions = gb_estimator.predict_proba(X_full.drop([\"ID\"], axis=1))[:, 1]\n",
    "et_proba_predictions = et_estimator.predict_proba(X_full.drop([\"ID\"], axis=1))[:, 1]\n",
    "\n",
    "\n",
    "X_full.loc[:, \"prediction_rf\"] = rf_proba_predictions\n",
    "X_full.loc[:, \"prediction_gb\"] = gb_proba_predictions\n",
    "X_full.loc[:, \"prediction_et\"] = gb_proba_predictions\n",
    "\n",
    "X = X_full.loc[X_full.ID.map(lambda x: x in list(X.ID)), :]\n",
    "final_test = X_full.loc[X_full.ID.map(lambda x: x in list(final_test.ID)), :]\n",
    "\n",
    "X_train, X_test, y_train, y_test =\\\n",
    "    train_test_split(X, Y, test_size=0.33, random_state=42)"
   ]
  },
  {
   "cell_type": "code",
   "execution_count": 43,
   "metadata": {},
   "outputs": [
    {
     "name": "stdout",
     "output_type": "stream",
     "text": [
      "0.967272475765\n",
      "{}\n"
     ]
    }
   ],
   "source": [
    "param_dist = {\n",
    "              # \"lr__max_features\": sp_randint(1, 100),\n",
    "              # \"lr__min_samples_split\": sp_randint(2, 30),\n",
    "              # \"lr__min_samples_leaf\": sp_randint(1, 20),\n",
    "              # \"rf__bootstrap\": [False],\n",
    "              # \"pca__n_components\": sp_randint(10, 300),\n",
    "              # \"pca__whiten\": [True, False],\n",
    "              # \"select_from_model__threshold\":sp_randint(0, 0.01),\n",
    "              # \"lr__n_estimators\": sp_randint(20, 400)\n",
    "             }\n",
    "\n",
    "pipe = Pipeline([# (\"replace_0\", Replace0()),\n",
    "                 (\"imputer\", Imputer()),\n",
    "                 (\"sd_scaler\", StandardScaler()),\n",
    "                 # (\"pca\", PCA(n_components=150, whiten=True)),\n",
    "                 (\"lr\", LogisticRegression(\"l1\"))\n",
    "                 # (\"rf\", LogisticRegression(penalty=\"l1\"))\n",
    "                ])\n",
    "\n",
    "random_search = RandomizedSearchCV(pipe, param_distributions=param_dist,\n",
    "                                   n_iter=N_ITER_SEARCH_lr, n_jobs=N_JOBS, scoring=\"roc_auc\")\n",
    "\n",
    "random_search.fit(X_train.drop(\"ID\", axis=1), y_train.Target)\n",
    "\n",
    "print(random_search.best_score_)\n",
    "\n",
    "lr_estimator = random_search.best_estimator_\n",
    "\n",
    "print(random_search.best_params_)"
   ]
  },
  {
   "cell_type": "markdown",
   "metadata": {},
   "source": [
    "# 4 - EVALUATION"
   ]
  },
  {
   "cell_type": "markdown",
   "metadata": {},
   "source": [
    "### A) Random Forest"
   ]
  },
  {
   "cell_type": "markdown",
   "metadata": {},
   "source": [
    "###### Train set"
   ]
  },
  {
   "cell_type": "code",
   "execution_count": 44,
   "metadata": {},
   "outputs": [
    {
     "data": {
      "text/plain": [
       "0.95583525423565008"
      ]
     },
     "execution_count": 44,
     "metadata": {},
     "output_type": "execute_result"
    }
   ],
   "source": [
    "y_train_predit = rf_estimator.predict_proba(X_train.drop([\"ID\", \"prediction_rf\", \n",
    "                                                          \"prediction_gb\", \"prediction_et\"], axis=1))[:, 1]\n",
    "\n",
    "result_comparison = pd.DataFrame(y_train).merge(pd.DataFrame(y_train_predit), left_index=True, right_index=True)\n",
    "result_comparison.sample(10)\n",
    "\n",
    "roc_auc_score(y_train.Target, y_train_predit)"
   ]
  },
  {
   "cell_type": "markdown",
   "metadata": {},
   "source": [
    "###### Test set"
   ]
  },
  {
   "cell_type": "code",
   "execution_count": 45,
   "metadata": {
    "scrolled": true
   },
   "outputs": [
    {
     "data": {
      "text/plain": [
       "0.8332972681673092"
      ]
     },
     "execution_count": 45,
     "metadata": {},
     "output_type": "execute_result"
    }
   ],
   "source": [
    "y_test_predit = rf_estimator.predict_proba(X_test.drop([\"ID\", \"prediction_rf\", \n",
    "                                                        \"prediction_gb\", \"prediction_et\"], axis=1))[:, 1]\n",
    "\n",
    "result_comparison = pd.DataFrame(y_test).merge(pd.DataFrame(y_test_predit), left_index=True, right_index=True)\n",
    "result_comparison.sample(10)\n",
    "\n",
    "roc_auc_score(y_test.Target, y_test_predit)"
   ]
  },
  {
   "cell_type": "markdown",
   "metadata": {},
   "source": [
    "### B) Gradient boosting"
   ]
  },
  {
   "cell_type": "markdown",
   "metadata": {},
   "source": [
    "###### Train set"
   ]
  },
  {
   "cell_type": "code",
   "execution_count": 46,
   "metadata": {},
   "outputs": [
    {
     "data": {
      "text/plain": [
       "0.89522650740493748"
      ]
     },
     "execution_count": 46,
     "metadata": {},
     "output_type": "execute_result"
    }
   ],
   "source": [
    "y_train_predit = gb_estimator.predict_proba(X_train.drop([\"ID\", \"prediction_rf\", \n",
    "                                                        \"prediction_gb\", \"prediction_et\"], axis=1))[:, 1]\n",
    "\n",
    "result_comparison = pd.DataFrame(y_train).merge(pd.DataFrame(y_train_predit), left_index=True, right_index=True)\n",
    "result_comparison.sample(10)\n",
    "\n",
    "roc_auc_score(y_train.Target, y_train_predit)"
   ]
  },
  {
   "cell_type": "markdown",
   "metadata": {},
   "source": [
    "###### Test set"
   ]
  },
  {
   "cell_type": "code",
   "execution_count": 47,
   "metadata": {},
   "outputs": [
    {
     "data": {
      "text/plain": [
       "0.83171993533142652"
      ]
     },
     "execution_count": 47,
     "metadata": {},
     "output_type": "execute_result"
    }
   ],
   "source": [
    "y_test_predit = gb_estimator.predict_proba(X_test.drop([\"ID\", \"prediction_rf\", \n",
    "                                                        \"prediction_gb\", \"prediction_et\"], axis=1))[:, 1]\n",
    "\n",
    "result_comparison = pd.DataFrame(y_test).merge(pd.DataFrame(y_test_predit), left_index=True, right_index=True)\n",
    "result_comparison.sample(10)\n",
    "\n",
    "roc_auc_score(y_test.Target, y_test_predit)"
   ]
  },
  {
   "cell_type": "markdown",
   "metadata": {},
   "source": [
    "### C) Extra tree"
   ]
  },
  {
   "cell_type": "markdown",
   "metadata": {},
   "source": [
    "###### Train set"
   ]
  },
  {
   "cell_type": "code",
   "execution_count": 48,
   "metadata": {},
   "outputs": [
    {
     "data": {
      "text/plain": [
       "0.9482059094526113"
      ]
     },
     "execution_count": 48,
     "metadata": {},
     "output_type": "execute_result"
    }
   ],
   "source": [
    "y_train_predit = et_estimator.predict_proba(X_train.drop([\"ID\", \"prediction_rf\", \n",
    "                                                        \"prediction_gb\", \"prediction_et\"], axis=1))[:, 1]\n",
    "\n",
    "result_comparison = pd.DataFrame(y_train).merge(pd.DataFrame(y_train_predit), left_index=True, right_index=True)\n",
    "result_comparison.sample(10)\n",
    "\n",
    "roc_auc_score(y_train.Target, y_train_predit)"
   ]
  },
  {
   "cell_type": "markdown",
   "metadata": {},
   "source": [
    "###### Test set"
   ]
  },
  {
   "cell_type": "code",
   "execution_count": 49,
   "metadata": {},
   "outputs": [
    {
     "data": {
      "text/plain": [
       "0.83204079094639971"
      ]
     },
     "execution_count": 49,
     "metadata": {},
     "output_type": "execute_result"
    }
   ],
   "source": [
    "y_test_predit = et_estimator.predict_proba(X_test.drop([\"ID\", \"prediction_rf\", \n",
    "                                                        \"prediction_gb\", \"prediction_et\"], axis=1))[:, 1]\n",
    "\n",
    "result_comparison = pd.DataFrame(y_test).merge(pd.DataFrame(y_test_predit), left_index=True, right_index=True)\n",
    "result_comparison.sample(10)\n",
    "\n",
    "roc_auc_score(y_test.Target, y_test_predit)"
   ]
  },
  {
   "cell_type": "markdown",
   "metadata": {},
   "source": [
    "### D) Logistic regression"
   ]
  },
  {
   "cell_type": "markdown",
   "metadata": {},
   "source": [
    "###### Test set"
   ]
  },
  {
   "cell_type": "code",
   "execution_count": 50,
   "metadata": {},
   "outputs": [
    {
     "name": "stderr",
     "output_type": "stream",
     "text": [
      "/home/thibault/anaconda3/lib/python3.6/site-packages/sklearn/linear_model/base.py:352: RuntimeWarning: overflow encountered in exp\n",
      "  np.exp(prob, prob)\n"
     ]
    },
    {
     "data": {
      "text/plain": [
       "0.78755461592670895"
      ]
     },
     "execution_count": 50,
     "metadata": {},
     "output_type": "execute_result"
    }
   ],
   "source": [
    "y_test_predit = lr_estimator.predict_proba(X_test.drop([\"ID\"], axis=1))[:, 1]\n",
    "\n",
    "result_comparison = pd.DataFrame(y_test).merge(pd.DataFrame(y_test_predit), left_index=True, right_index=True)\n",
    "result_comparison.sample(10)\n",
    "\n",
    "roc_auc_score(y_test.Target, y_test_predit)"
   ]
  },
  {
   "cell_type": "markdown",
   "metadata": {},
   "source": [
    "### E) Combining estimator"
   ]
  },
  {
   "cell_type": "code",
   "execution_count": 51,
   "metadata": {},
   "outputs": [
    {
     "name": "stderr",
     "output_type": "stream",
     "text": [
      "/home/thibault/anaconda3/lib/python3.6/site-packages/sklearn/linear_model/base.py:352: RuntimeWarning: overflow encountered in exp\n",
      "  np.exp(prob, prob)\n"
     ]
    },
    {
     "data": {
      "text/plain": [
       "0.83550719230609793"
      ]
     },
     "execution_count": 51,
     "metadata": {},
     "output_type": "execute_result"
    }
   ],
   "source": [
    "y_test_predit = 0.33 * rf_estimator.predict_proba(X_test.drop([\"ID\", \"prediction_rf\", \n",
    "                                                               \"prediction_gb\", \"prediction_et\"], axis=1))[:, 1] +\\\n",
    "                0.33 * gb_estimator.predict_proba(X_test.drop([\"ID\", \"prediction_rf\", \n",
    "                                                               \"prediction_gb\", \"prediction_et\"], axis=1))[:, 1] +\\\n",
    "                0.34 * et_estimator.predict_proba(X_test.drop([\"ID\", \"prediction_rf\", \n",
    "                                                               \"prediction_gb\", \"prediction_et\"], axis=1))[:, 1] +\\\n",
    "                0.00 * lr_estimator.predict_proba(X_test.drop(\"ID\", axis=1))[:, 1]\n",
    "\n",
    "result_comparison = pd.DataFrame(y_test).merge(pd.DataFrame(y_test_predit), left_index=True, right_index=True)\n",
    "result_comparison.sample(10)\n",
    "\n",
    "roc_auc_score(y_test.Target, y_test_predit)"
   ]
  },
  {
   "cell_type": "markdown",
   "metadata": {},
   "source": [
    "# Variable importance"
   ]
  },
  {
   "cell_type": "markdown",
   "metadata": {},
   "source": [
    "On regarde l'importance des variables pour rechercher des pistes d'amélioration et pour avoir une idée du comportement du modèle. On voit notamment que les sommes au niveau globale ont un fort impact, il y a probablement un fort potentiel d'amélioration en chechant à créer des variables supplémentaires à partir de ces variables.\n",
    "\n",
    "Si les dates étaients connues plus précisement, la recherche de variables en open data auraient probablement apporté beaucoup au modèle."
   ]
  },
  {
   "cell_type": "markdown",
   "metadata": {},
   "source": [
    "Beaucoup de variables avec de faibles importances car beaucoup de features en input."
   ]
  },
  {
   "cell_type": "markdown",
   "metadata": {},
   "source": [
    "###### Random Forest"
   ]
  },
  {
   "cell_type": "code",
   "execution_count": 61,
   "metadata": {},
   "outputs": [
    {
     "data": {
      "text/plain": [
       "(array([  3.13200000e+03,   4.05000000e+02,   4.40000000e+01,\n",
       "          2.20000000e+01,   2.50000000e+01,   1.40000000e+01,\n",
       "          1.40000000e+01,   5.00000000e+00,   2.00000000e+00,\n",
       "          2.00000000e+00]),\n",
       " array([ 0.        ,  0.00051581,  0.00103162,  0.00154743,  0.00206324,\n",
       "         0.00257905,  0.00309486,  0.00361067,  0.00412648,  0.00464229,\n",
       "         0.0051581 ]),\n",
       " <a list of 10 Patch objects>)"
      ]
     },
     "execution_count": 61,
     "metadata": {},
     "output_type": "execute_result"
    },
    {
     "data": {
      "image/png": "[encoded data removed]",
      "text/plain": [
       "<matplotlib.figure.Figure at 0x7fe79e71a048>"
      ]
     },
     "metadata": {},
     "output_type": "display_data"
    }
   ],
   "source": [
    "plt.hist(rf_estimator.named_steps[\"rf\"].feature_importances_)"
   ]
  },
  {
   "cell_type": "code",
   "execution_count": 62,
   "metadata": {},
   "outputs": [
    {
     "data": {
      "text/html": [
       "<div>\n",
       "<style>\n",
       "    .dataframe thead tr:only-child th {\n",
       "        text-align: right;\n",
       "    }\n",
       "\n",
       "    .dataframe thead th {\n",
       "        text-align: left;\n",
       "    }\n",
       "\n",
       "    .dataframe tbody tr th {\n",
       "        vertical-align: top;\n",
       "    }\n",
       "</style>\n",
       "<table border=\"1\" class=\"dataframe\">\n",
       "  <thead>\n",
       "    <tr style=\"text-align: right;\">\n",
       "      <th></th>\n",
       "      <th>variable</th>\n",
       "      <th>importance</th>\n",
       "    </tr>\n",
       "  </thead>\n",
       "  <tbody>\n",
       "    <tr>\n",
       "      <th>282</th>\n",
       "      <td>percent_0_country_11_diffClosing stocks(kmt)</td>\n",
       "      <td>0.005158</td>\n",
       "    </tr>\n",
       "    <tr>\n",
       "      <th>401</th>\n",
       "      <td>1_diffSumRefinery intake(kmt) amax</td>\n",
       "      <td>0.005041</td>\n",
       "    </tr>\n",
       "    <tr>\n",
       "      <th>372</th>\n",
       "      <td>1_diffSumExports(kmt) percentile_95</td>\n",
       "      <td>0.004403</td>\n",
       "    </tr>\n",
       "    <tr>\n",
       "      <th>3630</th>\n",
       "      <td>binary_if_0_7_diffClosing stocks(kmt)_1</td>\n",
       "      <td>0.004243</td>\n",
       "    </tr>\n",
       "    <tr>\n",
       "      <th>258</th>\n",
       "      <td>percent_0_country_5_diffClosing stocks(kmt)</td>\n",
       "      <td>0.004090</td>\n",
       "    </tr>\n",
       "    <tr>\n",
       "      <th>363</th>\n",
       "      <td>1_diffSumExports(kmt) nanstd</td>\n",
       "      <td>0.004071</td>\n",
       "    </tr>\n",
       "    <tr>\n",
       "      <th>274</th>\n",
       "      <td>percent_0_country_9_diffClosing stocks(kmt)</td>\n",
       "      <td>0.003896</td>\n",
       "    </tr>\n",
       "    <tr>\n",
       "      <th>226</th>\n",
       "      <td>percent_0_9_diffClosing stocks(kmt)</td>\n",
       "      <td>0.003886</td>\n",
       "    </tr>\n",
       "    <tr>\n",
       "      <th>1686</th>\n",
       "      <td>12_diffSumExports(kmt) nanmedian</td>\n",
       "      <td>0.003692</td>\n",
       "    </tr>\n",
       "    <tr>\n",
       "      <th>254</th>\n",
       "      <td>percent_0_country_4_diffClosing stocks(kmt)</td>\n",
       "      <td>0.003608</td>\n",
       "    </tr>\n",
       "    <tr>\n",
       "      <th>3646</th>\n",
       "      <td>binary_if_0_11_diffClosing stocks(kmt)_1</td>\n",
       "      <td>0.003557</td>\n",
       "    </tr>\n",
       "    <tr>\n",
       "      <th>1727</th>\n",
       "      <td>12_diffSumRefinery intake(kmt) percentile_5</td>\n",
       "      <td>0.003539</td>\n",
       "    </tr>\n",
       "    <tr>\n",
       "      <th>1705</th>\n",
       "      <td>12_diffSumProduction(kmt) nansum</td>\n",
       "      <td>0.003528</td>\n",
       "    </tr>\n",
       "    <tr>\n",
       "      <th>361</th>\n",
       "      <td>1_diffSumClosing stocks(kmt) percentile_95</td>\n",
       "      <td>0.003483</td>\n",
       "    </tr>\n",
       "    <tr>\n",
       "      <th>3626</th>\n",
       "      <td>binary_if_0_6_diffClosing stocks(kmt)_1</td>\n",
       "      <td>0.003474</td>\n",
       "    </tr>\n",
       "  </tbody>\n",
       "</table>\n",
       "</div>"
      ],
      "text/plain": [
       "                                          variable  importance\n",
       "282   percent_0_country_11_diffClosing stocks(kmt)    0.005158\n",
       "401             1_diffSumRefinery intake(kmt) amax    0.005041\n",
       "372            1_diffSumExports(kmt) percentile_95    0.004403\n",
       "3630       binary_if_0_7_diffClosing stocks(kmt)_1    0.004243\n",
       "258    percent_0_country_5_diffClosing stocks(kmt)    0.004090\n",
       "363                   1_diffSumExports(kmt) nanstd    0.004071\n",
       "274    percent_0_country_9_diffClosing stocks(kmt)    0.003896\n",
       "226            percent_0_9_diffClosing stocks(kmt)    0.003886\n",
       "1686              12_diffSumExports(kmt) nanmedian    0.003692\n",
       "254    percent_0_country_4_diffClosing stocks(kmt)    0.003608\n",
       "3646      binary_if_0_11_diffClosing stocks(kmt)_1    0.003557\n",
       "1727   12_diffSumRefinery intake(kmt) percentile_5    0.003539\n",
       "1705              12_diffSumProduction(kmt) nansum    0.003528\n",
       "361     1_diffSumClosing stocks(kmt) percentile_95    0.003483\n",
       "3626       binary_if_0_6_diffClosing stocks(kmt)_1    0.003474"
      ]
     },
     "execution_count": 62,
     "metadata": {},
     "output_type": "execute_result"
    }
   ],
   "source": [
    "variable_importance_rf =\\\n",
    "    pd.concat([pd.DataFrame(X_train.columns),\n",
    "               pd.DataFrame(rf_estimator.named_steps[\"rf\"].feature_importances_)], axis=1)\n",
    "variable_importance_rf.columns =[\"variable\", \"importance\"]\n",
    "    \n",
    "variable_importance_rf = variable_importance_rf.sort_values(by=\"importance\", ascending=False)\n",
    "variable_importance_rf.head(15)"
   ]
  },
  {
   "cell_type": "code",
   "execution_count": 63,
   "metadata": {},
   "outputs": [
    {
     "data": {
      "text/plain": [
       "481       2_diffSumExports(kmt) nansum\n",
       "484         2_diffSumExports(kmt) amin\n",
       "496         2_diffSumImports(kmt) amin\n",
       "606    3_diffSumExports(kmt) nanmedian\n",
       "817                   5_diffWTI nansum\n",
       "Name: variable, dtype: object"
      ]
     },
     "execution_count": 63,
     "metadata": {},
     "output_type": "execute_result"
    }
   ],
   "source": [
    "# Less important variable\n",
    "useless_variable_rf = fn.get_useless_variable(rf_estimator.named_steps[\"rf\"], X_train)\n",
    "useless_variable_rf.head()"
   ]
  },
  {
   "cell_type": "markdown",
   "metadata": {},
   "source": [
    "###### Gradient boosting"
   ]
  },
  {
   "cell_type": "code",
   "execution_count": 64,
   "metadata": {},
   "outputs": [
    {
     "data": {
      "text/plain": [
       "0                              ID\n",
       "1                           month\n",
       "5      1_diffRefinery intake(kmt)\n",
       "7    1_diffSumClosing stocks(kmt)\n",
       "8           1_diffSumExports(kmt)\n",
       "Name: variable, dtype: object"
      ]
     },
     "execution_count": 64,
     "metadata": {},
     "output_type": "execute_result"
    }
   ],
   "source": [
    "# Less important variable\n",
    "useless_variable_gb = fn.get_useless_variable(gb_estimator.named_steps[\"gb\"], X_train)\n",
    "useless_variable_gb.head()\n"
   ]
  },
  {
   "cell_type": "markdown",
   "metadata": {},
   "source": [
    "###### Extra tree"
   ]
  },
  {
   "cell_type": "code",
   "execution_count": 65,
   "metadata": {},
   "outputs": [
    {
     "data": {
      "text/plain": [
       "1776    _country_1_diffRefinery intake(kmt) percentile_95\n",
       "1777                            _country_1_diffWTI nansum\n",
       "1778                           _country_1_diffWTI nanmean\n",
       "1779                            _country_1_diffWTI nanstd\n",
       "1780                              _country_1_diffWTI amin\n",
       "Name: variable, dtype: object"
      ]
     },
     "execution_count": 65,
     "metadata": {},
     "output_type": "execute_result"
    }
   ],
   "source": [
    "# Less important variable\n",
    "useless_variable_et = fn.get_useless_variable(et_estimator.named_steps[\"et\"], X_train)\n",
    "useless_variable_et.head()"
   ]
  },
  {
   "cell_type": "markdown",
   "metadata": {},
   "source": [
    "###### Common useless variable"
   ]
  },
  {
   "cell_type": "code",
   "execution_count": 66,
   "metadata": {},
   "outputs": [],
   "source": [
    "common_useless_variable =\\\n",
    "    pd.Series(list((set(useless_variable_gb) - set(useless_variable_rf)) - set(useless_variable_et)))"
   ]
  },
  {
   "cell_type": "code",
   "execution_count": 67,
   "metadata": {},
   "outputs": [],
   "source": [
    "# Drop useless variable_to_disk\n",
    "# common_useless_variable.to_csv(PATH_DATA + \"common_useless_variable.csv\", index=False, sep=\";\")"
   ]
  },
  {
   "cell_type": "markdown",
   "metadata": {},
   "source": [
    "# 5 - Prediction"
   ]
  },
  {
   "cell_type": "markdown",
   "metadata": {},
   "source": [
    "On construit les prédictions finales comme une combinaisonsdes performances estimés par les modèles précédants.\n",
    "\n",
    "Le résultat de la régréssion logistique ne sera finalement pas inclus."
   ]
  },
  {
   "cell_type": "code",
   "execution_count": 68,
   "metadata": {
    "collapsed": true
   },
   "outputs": [],
   "source": [
    "id_final_test = final_test.ID\n",
    "\n",
    "X_final_test = final_test.drop(\"ID\", axis=1)"
   ]
  },
  {
   "cell_type": "code",
   "execution_count": 69,
   "metadata": {},
   "outputs": [
    {
     "name": "stderr",
     "output_type": "stream",
     "text": [
      "/home/thibault/anaconda3/lib/python3.6/site-packages/sklearn/linear_model/base.py:352: RuntimeWarning: overflow encountered in exp\n",
      "  np.exp(prob, prob)\n"
     ]
    }
   ],
   "source": [
    "predictions = 0.33 * rf_estimator.predict_proba(X_final_test.drop([\"prediction_rf\", \n",
    "                                                                   \"prediction_gb\", \"prediction_et\"], axis=1))[:, 1] +\\\n",
    "              0.33 * gb_estimator.predict_proba(X_final_test.drop([\"prediction_rf\", \n",
    "                                                                   \"prediction_gb\", \"prediction_et\"], axis=1))[:, 1] +\\\n",
    "              0.34 * et_estimator.predict_proba(X_final_test.drop([\"prediction_rf\", \n",
    "                                                                   \"prediction_gb\", \"prediction_et\"], axis=1))[:, 1] +\\\n",
    "              0.00 * lr_estimator.predict_proba(X_final_test)[:, 1]\n",
    "    "
   ]
  },
  {
   "cell_type": "code",
   "execution_count": 70,
   "metadata": {},
   "outputs": [
    {
     "data": {
      "text/html": [
       "<div>\n",
       "<style>\n",
       "    .dataframe thead tr:only-child th {\n",
       "        text-align: right;\n",
       "    }\n",
       "\n",
       "    .dataframe thead th {\n",
       "        text-align: left;\n",
       "    }\n",
       "\n",
       "    .dataframe tbody tr th {\n",
       "        vertical-align: top;\n",
       "    }\n",
       "</style>\n",
       "<table border=\"1\" class=\"dataframe\">\n",
       "  <thead>\n",
       "    <tr style=\"text-align: right;\">\n",
       "      <th></th>\n",
       "      <th>ID</th>\n",
       "      <th>Target</th>\n",
       "    </tr>\n",
       "  </thead>\n",
       "  <tbody>\n",
       "    <tr>\n",
       "      <th>0</th>\n",
       "      <td>ID10160</td>\n",
       "      <td>0.384645</td>\n",
       "    </tr>\n",
       "    <tr>\n",
       "      <th>1</th>\n",
       "      <td>ID10161</td>\n",
       "      <td>0.015771</td>\n",
       "    </tr>\n",
       "    <tr>\n",
       "      <th>2</th>\n",
       "      <td>ID10162</td>\n",
       "      <td>0.571102</td>\n",
       "    </tr>\n",
       "    <tr>\n",
       "      <th>3</th>\n",
       "      <td>ID10163</td>\n",
       "      <td>0.801886</td>\n",
       "    </tr>\n",
       "    <tr>\n",
       "      <th>4</th>\n",
       "      <td>ID10164</td>\n",
       "      <td>0.334052</td>\n",
       "    </tr>\n",
       "  </tbody>\n",
       "</table>\n",
       "</div>"
      ],
      "text/plain": [
       "        ID    Target\n",
       "0  ID10160  0.384645\n",
       "1  ID10161  0.015771\n",
       "2  ID10162  0.571102\n",
       "3  ID10163  0.801886\n",
       "4  ID10164  0.334052"
      ]
     },
     "execution_count": 70,
     "metadata": {},
     "output_type": "execute_result"
    }
   ],
   "source": [
    "result = pd.DataFrame(predictions).merge(pd.DataFrame(id_final_test).reset_index(drop=True), \n",
    "                                         left_index=True, right_index=True)\n",
    "result.columns = [\"Target\", \"ID\"]\n",
    "result = result.loc[:, [\"ID\", \"Target\"]]\n",
    "result.head()"
   ]
  },
  {
   "cell_type": "code",
   "execution_count": 71,
   "metadata": {
    "collapsed": true
   },
   "outputs": [],
   "source": [
    "result.to_csv(PATH_RESULT + \"result.csv\", index=False, sep=\";\", quoting=csv.QUOTE_NONNUMERIC)"
   ]
  },
  {
   "cell_type": "code",
   "execution_count": null,
   "metadata": {
    "collapsed": true
   },
   "outputs": [],
   "source": []
  }
 ],
 "metadata": {
  "kernelspec": {
   "display_name": "Python 3",
   "language": "python",
   "name": "python3"
  },
  "language_info": {
   "codemirror_mode": {
    "name": "ipython",
    "version": 3
   },
   "file_extension": ".py",
   "mimetype": "text/x-python",
   "name": "python",
   "nbconvert_exporter": "python",
   "pygments_lexer": "ipython3",
   "version": "3.6.1"
  }
 },
 "nbformat": 4,
 "nbformat_minor": 2
}
