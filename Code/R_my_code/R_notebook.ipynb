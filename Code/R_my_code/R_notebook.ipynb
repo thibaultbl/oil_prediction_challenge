{
 "cells": [
  {
   "cell_type": "markdown",
   "metadata": {},
   "source": [
    "# 1 - Load and prepare data"
   ]
  },
  {
   "cell_type": "code",
   "execution_count": 32,
   "metadata": {},
   "outputs": [
    {
     "data": {
      "text/html": [
       "<table>\n",
       "<thead><tr><th scope=col>ID</th><th scope=col>month</th><th scope=col>country</th><th scope=col>X1_diffClosing.stocks.kmt.</th><th scope=col>X1_diffExports.kmt.</th><th scope=col>X1_diffImports.kmt.</th><th scope=col>X1_diffRefinery.intake.kmt.</th><th scope=col>X1_diffWTI</th><th scope=col>X1_diffSumClosing.stocks.kmt.</th><th scope=col>X1_diffSumExports.kmt.</th><th scope=col>⋯</th><th scope=col>X12_diffClosing.stocks.kmt.</th><th scope=col>X12_diffExports.kmt.</th><th scope=col>X12_diffImports.kmt.</th><th scope=col>X12_diffRefinery.intake.kmt.</th><th scope=col>X12_diffWTI</th><th scope=col>X12_diffSumClosing.stocks.kmt.</th><th scope=col>X12_diffSumExports.kmt.</th><th scope=col>X12_diffSumImports.kmt.</th><th scope=col>X12_diffSumProduction.kmt.</th><th scope=col>X12_diffSumRefinery.intake.kmt.</th></tr></thead>\n",
       "<tbody>\n",
       "\t<tr><td>ID00001   </td><td> 5        </td><td>52        </td><td>   0.0000 </td><td>237.0000  </td><td>  0.0000  </td><td> 33.0000  </td><td> -5.62    </td><td>10426.2462</td><td>12135.102 </td><td>⋯         </td><td>    0.0000</td><td>   0.0000 </td><td>   0.0000 </td><td> 14.0000  </td><td> 2.92     </td><td>  673.8569</td><td>-13007.152</td><td>-5932.5482</td><td>-17130.833</td><td>-13151.456</td></tr>\n",
       "\t<tr><td>ID00002   </td><td>12        </td><td>69        </td><td>  28.0000 </td><td>-34.0000  </td><td> 60.0000  </td><td>  7.0000  </td><td> -5.95    </td><td>  195.2005</td><td> 7500.103 </td><td>⋯         </td><td>  -43.0000</td><td>-129.0000 </td><td> -67.0000 </td><td>-16.0000  </td><td>-5.62     </td><td> 3217.0304</td><td> -6563.642</td><td>-3587.5152</td><td>-13053.659</td><td>-13005.050</td></tr>\n",
       "\t<tr><td>ID00003   </td><td> 5        </td><td>74        </td><td>   0.0000 </td><td>  0.0000  </td><td>-29.1227  </td><td>-85.5816  </td><td> -5.62    </td><td>10426.2462</td><td>12135.102 </td><td>⋯         </td><td>    0.0000</td><td>   0.0000 </td><td> -17.8667 </td><td>-13.2214  </td><td> 2.92     </td><td>  673.8569</td><td>-13007.152</td><td>-5932.5482</td><td>-17130.833</td><td>-13151.456</td></tr>\n",
       "\t<tr><td>ID00004   </td><td>11        </td><td>34        </td><td> 175.3701 </td><td> 91.5209  </td><td>  0.0000  </td><td>339.4347  </td><td>  7.66    </td><td>-2247.4834</td><td>-6806.122 </td><td>⋯         </td><td>   81.8304</td><td>-579.9462 </td><td>   0.0000 </td><td> 16.6891  </td><td>-8.62     </td><td>-2929.8903</td><td>  1072.847</td><td>  504.0197</td><td> -4827.230</td><td>  3962.629</td></tr>\n",
       "\t<tr><td>ID00005   </td><td> 7        </td><td> 2        </td><td>-550.0674 </td><td>251.9568  </td><td>  0.0000  </td><td>-49.5277  </td><td>-12.07    </td><td>-2652.6804</td><td> 2165.712 </td><td>⋯         </td><td>-1127.1255</td><td>-512.5506 </td><td>   0.0000 </td><td> -2.0243  </td><td> 7.20     </td><td> 2513.6243</td><td> -1732.443</td><td>-4827.1576</td><td> -7242.551</td><td>-13079.225</td></tr>\n",
       "\t<tr><td>ID00006   </td><td>12        </td><td>18        </td><td>  -5.0000 </td><td>  0.0000  </td><td> 54.0000  </td><td>  0.0000  </td><td> -6.41    </td><td> 4667.8610</td><td> 5818.622 </td><td>⋯         </td><td>  -93.0000</td><td>   0.0000 </td><td>-159.0000 </td><td>  4.0000  </td><td>-7.48     </td><td> -321.0981</td><td> -2198.870</td><td>-3970.4225</td><td> -8308.610</td><td> -9271.910</td></tr>\n",
       "</tbody>\n",
       "</table>\n"
      ],
      "text/latex": [
       "\\begin{tabular}{r|lllllllllllllllllllllllllllllllllllllllllllllllllllllllllllllllllllllllllllllllllllllllllllllllllllllllllllllllllllllllllll}\n",
       " ID & month & country & X1\\_diffClosing.stocks.kmt. & X1\\_diffExports.kmt. & X1\\_diffImports.kmt. & X1\\_diffRefinery.intake.kmt. & X1\\_diffWTI & X1\\_diffSumClosing.stocks.kmt. & X1\\_diffSumExports.kmt. & ⋯ & X12\\_diffClosing.stocks.kmt. & X12\\_diffExports.kmt. & X12\\_diffImports.kmt. & X12\\_diffRefinery.intake.kmt. & X12\\_diffWTI & X12\\_diffSumClosing.stocks.kmt. & X12\\_diffSumExports.kmt. & X12\\_diffSumImports.kmt. & X12\\_diffSumProduction.kmt. & X12\\_diffSumRefinery.intake.kmt.\\\\\n",
       "\\hline\n",
       "\t ID00001    &  5         & 52         &    0.0000  & 237.0000   &   0.0000   &  33.0000   &  -5.62     & 10426.2462 & 12135.102  & ⋯          &     0.0000 &    0.0000  &    0.0000  &  14.0000   &  2.92      &   673.8569 & -13007.152 & -5932.5482 & -17130.833 & -13151.456\\\\\n",
       "\t ID00002    & 12         & 69         &   28.0000  & -34.0000   &  60.0000   &   7.0000   &  -5.95     &   195.2005 &  7500.103  & ⋯          &   -43.0000 & -129.0000  &  -67.0000  & -16.0000   & -5.62      &  3217.0304 &  -6563.642 & -3587.5152 & -13053.659 & -13005.050\\\\\n",
       "\t ID00003    &  5         & 74         &    0.0000  &   0.0000   & -29.1227   & -85.5816   &  -5.62     & 10426.2462 & 12135.102  & ⋯          &     0.0000 &    0.0000  &  -17.8667  & -13.2214   &  2.92      &   673.8569 & -13007.152 & -5932.5482 & -17130.833 & -13151.456\\\\\n",
       "\t ID00004    & 11         & 34         &  175.3701  &  91.5209   &   0.0000   & 339.4347   &   7.66     & -2247.4834 & -6806.122  & ⋯          &    81.8304 & -579.9462  &    0.0000  &  16.6891   & -8.62      & -2929.8903 &   1072.847 &   504.0197 &  -4827.230 &   3962.629\\\\\n",
       "\t ID00005    &  7         &  2         & -550.0674  & 251.9568   &   0.0000   & -49.5277   & -12.07     & -2652.6804 &  2165.712  & ⋯          & -1127.1255 & -512.5506  &    0.0000  &  -2.0243   &  7.20      &  2513.6243 &  -1732.443 & -4827.1576 &  -7242.551 & -13079.225\\\\\n",
       "\t ID00006    & 12         & 18         &   -5.0000  &   0.0000   &  54.0000   &   0.0000   &  -6.41     &  4667.8610 &  5818.622  & ⋯          &   -93.0000 &    0.0000  & -159.0000  &   4.0000   & -7.48      &  -321.0981 &  -2198.870 & -3970.4225 &  -8308.610 &  -9271.910\\\\\n",
       "\\end{tabular}\n"
      ],
      "text/markdown": [
       "\n",
       "ID | month | country | X1_diffClosing.stocks.kmt. | X1_diffExports.kmt. | X1_diffImports.kmt. | X1_diffRefinery.intake.kmt. | X1_diffWTI | X1_diffSumClosing.stocks.kmt. | X1_diffSumExports.kmt. | ⋯ | X12_diffClosing.stocks.kmt. | X12_diffExports.kmt. | X12_diffImports.kmt. | X12_diffRefinery.intake.kmt. | X12_diffWTI | X12_diffSumClosing.stocks.kmt. | X12_diffSumExports.kmt. | X12_diffSumImports.kmt. | X12_diffSumProduction.kmt. | X12_diffSumRefinery.intake.kmt. | \n",
       "|---|---|---|---|---|---|\n",
       "| ID00001    |  5         | 52         |    0.0000  | 237.0000   |   0.0000   |  33.0000   |  -5.62     | 10426.2462 | 12135.102  | ⋯          |     0.0000 |    0.0000  |    0.0000  |  14.0000   |  2.92      |   673.8569 | -13007.152 | -5932.5482 | -17130.833 | -13151.456 | \n",
       "| ID00002    | 12         | 69         |   28.0000  | -34.0000   |  60.0000   |   7.0000   |  -5.95     |   195.2005 |  7500.103  | ⋯          |   -43.0000 | -129.0000  |  -67.0000  | -16.0000   | -5.62      |  3217.0304 |  -6563.642 | -3587.5152 | -13053.659 | -13005.050 | \n",
       "| ID00003    |  5         | 74         |    0.0000  |   0.0000   | -29.1227   | -85.5816   |  -5.62     | 10426.2462 | 12135.102  | ⋯          |     0.0000 |    0.0000  |  -17.8667  | -13.2214   |  2.92      |   673.8569 | -13007.152 | -5932.5482 | -17130.833 | -13151.456 | \n",
       "| ID00004    | 11         | 34         |  175.3701  |  91.5209   |   0.0000   | 339.4347   |   7.66     | -2247.4834 | -6806.122  | ⋯          |    81.8304 | -579.9462  |    0.0000  |  16.6891   | -8.62      | -2929.8903 |   1072.847 |   504.0197 |  -4827.230 |   3962.629 | \n",
       "| ID00005    |  7         |  2         | -550.0674  | 251.9568   |   0.0000   | -49.5277   | -12.07     | -2652.6804 |  2165.712  | ⋯          | -1127.1255 | -512.5506  |    0.0000  |  -2.0243   |  7.20      |  2513.6243 |  -1732.443 | -4827.1576 |  -7242.551 | -13079.225 | \n",
       "| ID00006    | 12         | 18         |   -5.0000  |   0.0000   |  54.0000   |   0.0000   |  -6.41     |  4667.8610 |  5818.622  | ⋯          |   -93.0000 |    0.0000  | -159.0000  |   4.0000   | -7.48      |  -321.0981 |  -2198.870 | -3970.4225 |  -8308.610 |  -9271.910 | \n",
       "\n",
       "\n"
      ],
      "text/plain": [
       "  ID      month country X1_diffClosing.stocks.kmt. X1_diffExports.kmt.\n",
       "1 ID00001  5    52         0.0000                  237.0000           \n",
       "2 ID00002 12    69        28.0000                  -34.0000           \n",
       "3 ID00003  5    74         0.0000                    0.0000           \n",
       "4 ID00004 11    34       175.3701                   91.5209           \n",
       "5 ID00005  7     2      -550.0674                  251.9568           \n",
       "6 ID00006 12    18        -5.0000                    0.0000           \n",
       "  X1_diffImports.kmt. X1_diffRefinery.intake.kmt. X1_diffWTI\n",
       "1   0.0000             33.0000                     -5.62    \n",
       "2  60.0000              7.0000                     -5.95    \n",
       "3 -29.1227            -85.5816                     -5.62    \n",
       "4   0.0000            339.4347                      7.66    \n",
       "5   0.0000            -49.5277                    -12.07    \n",
       "6  54.0000              0.0000                     -6.41    \n",
       "  X1_diffSumClosing.stocks.kmt. X1_diffSumExports.kmt. ⋯\n",
       "1 10426.2462                    12135.102              ⋯\n",
       "2   195.2005                     7500.103              ⋯\n",
       "3 10426.2462                    12135.102              ⋯\n",
       "4 -2247.4834                    -6806.122              ⋯\n",
       "5 -2652.6804                     2165.712              ⋯\n",
       "6  4667.8610                     5818.622              ⋯\n",
       "  X12_diffClosing.stocks.kmt. X12_diffExports.kmt. X12_diffImports.kmt.\n",
       "1     0.0000                     0.0000               0.0000           \n",
       "2   -43.0000                  -129.0000             -67.0000           \n",
       "3     0.0000                     0.0000             -17.8667           \n",
       "4    81.8304                  -579.9462               0.0000           \n",
       "5 -1127.1255                  -512.5506               0.0000           \n",
       "6   -93.0000                     0.0000            -159.0000           \n",
       "  X12_diffRefinery.intake.kmt. X12_diffWTI X12_diffSumClosing.stocks.kmt.\n",
       "1  14.0000                      2.92         673.8569                    \n",
       "2 -16.0000                     -5.62        3217.0304                    \n",
       "3 -13.2214                      2.92         673.8569                    \n",
       "4  16.6891                     -8.62       -2929.8903                    \n",
       "5  -2.0243                      7.20        2513.6243                    \n",
       "6   4.0000                     -7.48        -321.0981                    \n",
       "  X12_diffSumExports.kmt. X12_diffSumImports.kmt. X12_diffSumProduction.kmt.\n",
       "1 -13007.152              -5932.5482              -17130.833                \n",
       "2  -6563.642              -3587.5152              -13053.659                \n",
       "3 -13007.152              -5932.5482              -17130.833                \n",
       "4   1072.847                504.0197               -4827.230                \n",
       "5  -1732.443              -4827.1576               -7242.551                \n",
       "6  -2198.870              -3970.4225               -8308.610                \n",
       "  X12_diffSumRefinery.intake.kmt.\n",
       "1 -13151.456                     \n",
       "2 -13005.050                     \n",
       "3 -13151.456                     \n",
       "4   3962.629                     \n",
       "5 -13079.225                     \n",
       "6  -9271.910                     "
      ]
     },
     "metadata": {},
     "output_type": "display_data"
    }
   ],
   "source": [
    "library(dplyr, warn.conflicts=FALSE)\n",
    "library(randomForest)\n",
    "library(ROCR)\n",
    "\n",
    "#------------------------------\n",
    "# I set the working directory.\n",
    "#------------------------------\n",
    "\n",
    "setwd(\"/home/thibault/Documents/oilprediction_challenge/\")\n",
    "\n",
    "#---------------------------------------------------------------\n",
    "# Load train and test set\n",
    "#---------------------------------------------------------------\n",
    "\n",
    "train <- read.csv(\"./Data/Train.csv\", sep = \";\",stringsAsFactors = FALSE)\n",
    "Y_train <- read.csv(\"./Data/Y_train.csv\", sep = \";\",stringsAsFactors = FALSE)\n",
    "test <- read.csv(\"./Data/Test.csv\", sep = \";\",stringsAsFactors = FALSE)\n",
    "\n",
    "#--------------------------------\n",
    "# We combine the two datasets.\n",
    "#--------------------------------\n",
    "\n",
    "full_dataset <- rbind(train, test)\n",
    "\n",
    "\n",
    "head(full_dataset)"
   ]
  },
  {
   "cell_type": "markdown",
   "metadata": {},
   "source": [
    "# Modeling"
   ]
  },
  {
   "cell_type": "code",
   "execution_count": 8,
   "metadata": {},
   "outputs": [
    {
     "name": "stderr",
     "output_type": "stream",
     "text": [
      "Joining, by = \"ID\"\n"
     ]
    },
    {
     "data": {
      "text/html": [
       "<table>\n",
       "<thead><tr><th scope=col>ID</th><th scope=col>month</th><th scope=col>country</th><th scope=col>X1_diffClosing.stocks.kmt.</th><th scope=col>X1_diffExports.kmt.</th><th scope=col>X1_diffImports.kmt.</th><th scope=col>X1_diffRefinery.intake.kmt.</th><th scope=col>X1_diffWTI</th><th scope=col>X1_diffSumClosing.stocks.kmt.</th><th scope=col>X1_diffSumExports.kmt.</th><th scope=col>⋯</th><th scope=col>X12_diffExports.kmt.</th><th scope=col>X12_diffImports.kmt.</th><th scope=col>X12_diffRefinery.intake.kmt.</th><th scope=col>X12_diffWTI</th><th scope=col>X12_diffSumClosing.stocks.kmt.</th><th scope=col>X12_diffSumExports.kmt.</th><th scope=col>X12_diffSumImports.kmt.</th><th scope=col>X12_diffSumProduction.kmt.</th><th scope=col>X12_diffSumRefinery.intake.kmt.</th><th scope=col>Target</th></tr></thead>\n",
       "<tbody>\n",
       "\t<tr><td>ID00001   </td><td> 5        </td><td>52        </td><td>   0.0000 </td><td>237.0000  </td><td>  0.0000  </td><td> 33.0000  </td><td> -5.62    </td><td>10426.2462</td><td>12135.102 </td><td>⋯         </td><td>   0.0000 </td><td>   0.0000 </td><td> 14.0000  </td><td> 2.92     </td><td>  673.8569</td><td>-13007.152</td><td>-5932.5482</td><td>-17130.833</td><td>-13151.456</td><td>1         </td></tr>\n",
       "\t<tr><td>ID00002   </td><td>12        </td><td>69        </td><td>  28.0000 </td><td>-34.0000  </td><td> 60.0000  </td><td>  7.0000  </td><td> -5.95    </td><td>  195.2005</td><td> 7500.103 </td><td>⋯         </td><td>-129.0000 </td><td> -67.0000 </td><td>-16.0000  </td><td>-5.62     </td><td> 3217.0304</td><td> -6563.642</td><td>-3587.5152</td><td>-13053.659</td><td>-13005.050</td><td>0         </td></tr>\n",
       "\t<tr><td>ID00003   </td><td> 5        </td><td>74        </td><td>   0.0000 </td><td>  0.0000  </td><td>-29.1227  </td><td>-85.5816  </td><td> -5.62    </td><td>10426.2462</td><td>12135.102 </td><td>⋯         </td><td>   0.0000 </td><td> -17.8667 </td><td>-13.2214  </td><td> 2.92     </td><td>  673.8569</td><td>-13007.152</td><td>-5932.5482</td><td>-17130.833</td><td>-13151.456</td><td>0         </td></tr>\n",
       "\t<tr><td>ID00004   </td><td>11        </td><td>34        </td><td> 175.3701 </td><td> 91.5209  </td><td>  0.0000  </td><td>339.4347  </td><td>  7.66    </td><td>-2247.4834</td><td>-6806.122 </td><td>⋯         </td><td>-579.9462 </td><td>   0.0000 </td><td> 16.6891  </td><td>-8.62     </td><td>-2929.8903</td><td>  1072.847</td><td>  504.0197</td><td> -4827.230</td><td>  3962.629</td><td>0         </td></tr>\n",
       "\t<tr><td>ID00005   </td><td> 7        </td><td> 2        </td><td>-550.0674 </td><td>251.9568  </td><td>  0.0000  </td><td>-49.5277  </td><td>-12.07    </td><td>-2652.6804</td><td> 2165.712 </td><td>⋯         </td><td>-512.5506 </td><td>   0.0000 </td><td> -2.0243  </td><td> 7.20     </td><td> 2513.6243</td><td> -1732.443</td><td>-4827.1576</td><td> -7242.551</td><td>-13079.225</td><td>1         </td></tr>\n",
       "\t<tr><td>ID00006   </td><td>12        </td><td>18        </td><td>  -5.0000 </td><td>  0.0000  </td><td> 54.0000  </td><td>  0.0000  </td><td> -6.41    </td><td> 4667.8610</td><td> 5818.622 </td><td>⋯         </td><td>   0.0000 </td><td>-159.0000 </td><td>  4.0000  </td><td>-7.48     </td><td> -321.0981</td><td> -2198.870</td><td>-3970.4225</td><td> -8308.610</td><td> -9271.910</td><td>1         </td></tr>\n",
       "</tbody>\n",
       "</table>\n"
      ],
      "text/latex": [
       "\\begin{tabular}{r|llllllllllllllllllllllllllllllllllllllllllllllllllllllllllllllllllllllllllllllllllllllllllllllllllllllllllllllllllllllllllll}\n",
       " ID & month & country & X1\\_diffClosing.stocks.kmt. & X1\\_diffExports.kmt. & X1\\_diffImports.kmt. & X1\\_diffRefinery.intake.kmt. & X1\\_diffWTI & X1\\_diffSumClosing.stocks.kmt. & X1\\_diffSumExports.kmt. & ⋯ & X12\\_diffExports.kmt. & X12\\_diffImports.kmt. & X12\\_diffRefinery.intake.kmt. & X12\\_diffWTI & X12\\_diffSumClosing.stocks.kmt. & X12\\_diffSumExports.kmt. & X12\\_diffSumImports.kmt. & X12\\_diffSumProduction.kmt. & X12\\_diffSumRefinery.intake.kmt. & Target\\\\\n",
       "\\hline\n",
       "\t ID00001    &  5         & 52         &    0.0000  & 237.0000   &   0.0000   &  33.0000   &  -5.62     & 10426.2462 & 12135.102  & ⋯          &    0.0000  &    0.0000  &  14.0000   &  2.92      &   673.8569 & -13007.152 & -5932.5482 & -17130.833 & -13151.456 & 1         \\\\\n",
       "\t ID00002    & 12         & 69         &   28.0000  & -34.0000   &  60.0000   &   7.0000   &  -5.95     &   195.2005 &  7500.103  & ⋯          & -129.0000  &  -67.0000  & -16.0000   & -5.62      &  3217.0304 &  -6563.642 & -3587.5152 & -13053.659 & -13005.050 & 0         \\\\\n",
       "\t ID00003    &  5         & 74         &    0.0000  &   0.0000   & -29.1227   & -85.5816   &  -5.62     & 10426.2462 & 12135.102  & ⋯          &    0.0000  &  -17.8667  & -13.2214   &  2.92      &   673.8569 & -13007.152 & -5932.5482 & -17130.833 & -13151.456 & 0         \\\\\n",
       "\t ID00004    & 11         & 34         &  175.3701  &  91.5209   &   0.0000   & 339.4347   &   7.66     & -2247.4834 & -6806.122  & ⋯          & -579.9462  &    0.0000  &  16.6891   & -8.62      & -2929.8903 &   1072.847 &   504.0197 &  -4827.230 &   3962.629 & 0         \\\\\n",
       "\t ID00005    &  7         &  2         & -550.0674  & 251.9568   &   0.0000   & -49.5277   & -12.07     & -2652.6804 &  2165.712  & ⋯          & -512.5506  &    0.0000  &  -2.0243   &  7.20      &  2513.6243 &  -1732.443 & -4827.1576 &  -7242.551 & -13079.225 & 1         \\\\\n",
       "\t ID00006    & 12         & 18         &   -5.0000  &   0.0000   &  54.0000   &   0.0000   &  -6.41     &  4667.8610 &  5818.622  & ⋯          &    0.0000  & -159.0000  &   4.0000   & -7.48      &  -321.0981 &  -2198.870 & -3970.4225 &  -8308.610 &  -9271.910 & 1         \\\\\n",
       "\\end{tabular}\n"
      ],
      "text/markdown": [
       "\n",
       "ID | month | country | X1_diffClosing.stocks.kmt. | X1_diffExports.kmt. | X1_diffImports.kmt. | X1_diffRefinery.intake.kmt. | X1_diffWTI | X1_diffSumClosing.stocks.kmt. | X1_diffSumExports.kmt. | ⋯ | X12_diffExports.kmt. | X12_diffImports.kmt. | X12_diffRefinery.intake.kmt. | X12_diffWTI | X12_diffSumClosing.stocks.kmt. | X12_diffSumExports.kmt. | X12_diffSumImports.kmt. | X12_diffSumProduction.kmt. | X12_diffSumRefinery.intake.kmt. | Target | \n",
       "|---|---|---|---|---|---|\n",
       "| ID00001    |  5         | 52         |    0.0000  | 237.0000   |   0.0000   |  33.0000   |  -5.62     | 10426.2462 | 12135.102  | ⋯          |    0.0000  |    0.0000  |  14.0000   |  2.92      |   673.8569 | -13007.152 | -5932.5482 | -17130.833 | -13151.456 | 1          | \n",
       "| ID00002    | 12         | 69         |   28.0000  | -34.0000   |  60.0000   |   7.0000   |  -5.95     |   195.2005 |  7500.103  | ⋯          | -129.0000  |  -67.0000  | -16.0000   | -5.62      |  3217.0304 |  -6563.642 | -3587.5152 | -13053.659 | -13005.050 | 0          | \n",
       "| ID00003    |  5         | 74         |    0.0000  |   0.0000   | -29.1227   | -85.5816   |  -5.62     | 10426.2462 | 12135.102  | ⋯          |    0.0000  |  -17.8667  | -13.2214   |  2.92      |   673.8569 | -13007.152 | -5932.5482 | -17130.833 | -13151.456 | 0          | \n",
       "| ID00004    | 11         | 34         |  175.3701  |  91.5209   |   0.0000   | 339.4347   |   7.66     | -2247.4834 | -6806.122  | ⋯          | -579.9462  |    0.0000  |  16.6891   | -8.62      | -2929.8903 |   1072.847 |   504.0197 |  -4827.230 |   3962.629 | 0          | \n",
       "| ID00005    |  7         |  2         | -550.0674  | 251.9568   |   0.0000   | -49.5277   | -12.07     | -2652.6804 |  2165.712  | ⋯          | -512.5506  |    0.0000  |  -2.0243   |  7.20      |  2513.6243 |  -1732.443 | -4827.1576 |  -7242.551 | -13079.225 | 1          | \n",
       "| ID00006    | 12         | 18         |   -5.0000  |   0.0000   |  54.0000   |   0.0000   |  -6.41     |  4667.8610 |  5818.622  | ⋯          |    0.0000  | -159.0000  |   4.0000   | -7.48      |  -321.0981 |  -2198.870 | -3970.4225 |  -8308.610 |  -9271.910 | 1          | \n",
       "\n",
       "\n"
      ],
      "text/plain": [
       "  ID      month country X1_diffClosing.stocks.kmt. X1_diffExports.kmt.\n",
       "1 ID00001  5    52         0.0000                  237.0000           \n",
       "2 ID00002 12    69        28.0000                  -34.0000           \n",
       "3 ID00003  5    74         0.0000                    0.0000           \n",
       "4 ID00004 11    34       175.3701                   91.5209           \n",
       "5 ID00005  7     2      -550.0674                  251.9568           \n",
       "6 ID00006 12    18        -5.0000                    0.0000           \n",
       "  X1_diffImports.kmt. X1_diffRefinery.intake.kmt. X1_diffWTI\n",
       "1   0.0000             33.0000                     -5.62    \n",
       "2  60.0000              7.0000                     -5.95    \n",
       "3 -29.1227            -85.5816                     -5.62    \n",
       "4   0.0000            339.4347                      7.66    \n",
       "5   0.0000            -49.5277                    -12.07    \n",
       "6  54.0000              0.0000                     -6.41    \n",
       "  X1_diffSumClosing.stocks.kmt. X1_diffSumExports.kmt. ⋯ X12_diffExports.kmt.\n",
       "1 10426.2462                    12135.102              ⋯    0.0000           \n",
       "2   195.2005                     7500.103              ⋯ -129.0000           \n",
       "3 10426.2462                    12135.102              ⋯    0.0000           \n",
       "4 -2247.4834                    -6806.122              ⋯ -579.9462           \n",
       "5 -2652.6804                     2165.712              ⋯ -512.5506           \n",
       "6  4667.8610                     5818.622              ⋯    0.0000           \n",
       "  X12_diffImports.kmt. X12_diffRefinery.intake.kmt. X12_diffWTI\n",
       "1    0.0000             14.0000                      2.92      \n",
       "2  -67.0000            -16.0000                     -5.62      \n",
       "3  -17.8667            -13.2214                      2.92      \n",
       "4    0.0000             16.6891                     -8.62      \n",
       "5    0.0000             -2.0243                      7.20      \n",
       "6 -159.0000              4.0000                     -7.48      \n",
       "  X12_diffSumClosing.stocks.kmt. X12_diffSumExports.kmt.\n",
       "1   673.8569                     -13007.152             \n",
       "2  3217.0304                      -6563.642             \n",
       "3   673.8569                     -13007.152             \n",
       "4 -2929.8903                       1072.847             \n",
       "5  2513.6243                      -1732.443             \n",
       "6  -321.0981                      -2198.870             \n",
       "  X12_diffSumImports.kmt. X12_diffSumProduction.kmt.\n",
       "1 -5932.5482              -17130.833                \n",
       "2 -3587.5152              -13053.659                \n",
       "3 -5932.5482              -17130.833                \n",
       "4   504.0197               -4827.230                \n",
       "5 -4827.1576               -7242.551                \n",
       "6 -3970.4225               -8308.610                \n",
       "  X12_diffSumRefinery.intake.kmt. Target\n",
       "1 -13151.456                      1     \n",
       "2 -13005.050                      0     \n",
       "3 -13151.456                      0     \n",
       "4   3962.629                      0     \n",
       "5 -13079.225                      1     \n",
       "6  -9271.910                      1     "
      ]
     },
     "metadata": {},
     "output_type": "display_data"
    }
   ],
   "source": [
    "full_train = left_join(train, Y_train)\n",
    "\n",
    "head(full_train)"
   ]
  },
  {
   "cell_type": "code",
   "execution_count": 20,
   "metadata": {},
   "outputs": [],
   "source": [
    "variables_in_model <- paste(names(full_train)[!(names(full_train) %in% c(\"ID\", \"Target\"))], collapse=\"+\")\n",
    "\n",
    "formula_rf = as.formula(paste(\"as.factor(Target) ~\", variables_in_model, sep=\"\"))"
   ]
  },
  {
   "cell_type": "code",
   "execution_count": 34,
   "metadata": {},
   "outputs": [
    {
     "name": "stderr",
     "output_type": "stream",
     "text": [
      "IOPub data rate exceeded.\n",
      "The notebook server will temporarily stop sending output\n",
      "to the client in order to avoid crashing it.\n",
      "To change this limit, set the config variable\n",
      "`--NotebookApp.iopub_data_rate_limit`.\n"
     ]
    }
   ],
   "source": [
    "rf_output <- randomForest(formula_rf,\n",
    "                          data=full_train, \n",
    "                          importance=TRUE, \n",
    "                          ntree=20)"
   ]
  },
  {
   "cell_type": "markdown",
   "metadata": {},
   "source": [
    "# Evaluation"
   ]
  },
  {
   "cell_type": "code",
   "execution_count": 33,
   "metadata": {},
   "outputs": [
    {
     "ename": "ERROR",
     "evalue": "Error in as.vector(rf_output$votes[, 2]): object 'rf_output' not found\n",
     "output_type": "error",
     "traceback": [
      "Error in as.vector(rf_output$votes[, 2]): object 'rf_output' not found\nTraceback:\n",
      "1. as.vector(rf_output$votes[, 2])"
     ]
    }
   ],
   "source": [
    "predictions=as.vector(rf_output$votes[,2])\n",
    "pred=prediction(predictions,target)\n",
    "\n",
    "perf_AUC=performance(pred,\"auc\") #Calculate the AUC value\n",
    "AUC=perf_AUC@y.values[[1]]\n",
    "\n",
    "perf_ROC=performance(pred,\"tpr\",\"fpr\") #plot the actual ROC curve\n",
    "plot(perf_ROC, main=\"ROC plot\")\n",
    "text(0.5,0.5,paste(\"AUC = \",format(AUC, digits=5, scientific=FALSE)))"
   ]
  },
  {
   "cell_type": "code",
   "execution_count": null,
   "metadata": {
    "collapsed": true
   },
   "outputs": [],
   "source": []
  }
 ],
 "metadata": {
  "kernelspec": {
   "display_name": "R",
   "language": "R",
   "name": "ir"
  },
  "language_info": {
   "codemirror_mode": "r",
   "file_extension": ".r",
   "mimetype": "text/x-r-source",
   "name": "R",
   "pygments_lexer": "r",
   "version": "3.2.3"
  }
 },
 "nbformat": 4,
 "nbformat_minor": 2
}
